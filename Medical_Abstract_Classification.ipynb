{
  "nbformat": 4,
  "nbformat_minor": 0,
  "metadata": {
    "colab": {
      "provenance": [],
      "machine_shape": "hm",
      "gpuType": "T4",
      "mount_file_id": "1wTB4XC7YjrXIGVz_H8-36WcfGRBPOp8o",
      "authorship_tag": "ABX9TyPwDLbhlKixpJBLGuzMsI+d",
      "include_colab_link": true
    },
    "kernelspec": {
      "name": "python3",
      "display_name": "Python 3"
    },
    "language_info": {
      "name": "python"
    },
    "accelerator": "GPU"
  },
  "cells": [
    {
      "cell_type": "markdown",
      "metadata": {
        "id": "view-in-github",
        "colab_type": "text"
      },
      "source": [
        "<a href=\"https://colab.research.google.com/github/AyberkMunis/Medical_Abstract_Classification/blob/main/Medical_Abstract_Classification.ipynb\" target=\"_parent\"><img src=\"https://colab.research.google.com/assets/colab-badge.svg\" alt=\"Open In Colab\"/></a>"
      ]
    },
    {
      "cell_type": "markdown",
      "source": [
        "# **Medical Abstract Classification**\n",
        "\n",
        "\n",
        "\n"
      ],
      "metadata": {
        "id": "Yl9FhYQAf52K"
      }
    },
    {
      "cell_type": "markdown",
      "source": [
        "## Business Problem\n",
        "Most of the academic articles that are related to medical topics seem hard to read for the majority of the population. The reason why, purpose of this project is to generate a model that could divide the article's abstract into parts such as method, objective, and results to read easier. For this model, RNNs, 1-D CNNs, pre-trained, and hybrid models are used. The first models will be tried on 10% of the dataset. After that, the best model will be trained on the full data set."
      ],
      "metadata": {
        "id": "-tFfgoxOemgv"
      }
    },
    {
      "cell_type": "markdown",
      "source": [
        "# Steps of the Project\n",
        "\n",
        "0. Importing Libraries and Needed Functions\n",
        "1. Importing Data\n",
        "2. RNN Models\n",
        "  * LSTM\n",
        "  * GRU\n",
        "3. Pre Trained Embedding Models\n",
        "  * USE\n",
        "  * Word2Vec\n",
        "4. CNN Models\n",
        "5. Hybrid Models\n",
        "  * Data Preperation for Hybrid Models\n",
        "  * Hybrid Model 1\n",
        "  * Hybrid Model with Word2Vec\n",
        "  * Original Model\n",
        "6. Comparing Models\n",
        "7. Training the Best Model with Whole Data Set\n",
        "8. Conclusion"
      ],
      "metadata": {
        "id": "CtNcKScPQucF"
      }
    },
    {
      "cell_type": "markdown",
      "source": [
        "# 0.Importing Libraries and Needed Funcitons"
      ],
      "metadata": {
        "id": "cTACJa--g2Nc"
      }
    },
    {
      "cell_type": "code",
      "source": [
        "import pandas as pd\n",
        "import numpy as np\n",
        "import matplotlib.pyplot as plt\n",
        "import tensorflow as tf\n",
        "from sklearn.preprocessing import LabelEncoder\n",
        "from sklearn.metrics import accuracy_score,f1_score,precision_score,recall_score\n",
        "import tensorflow_hub as tfh\n",
        "from sklearn.model_selection import train_test_split\n",
        "from string import punctuation\n",
        "import time\n",
        "import random"
      ],
      "metadata": {
        "id": "_ECR4PG5g5ev"
      },
      "execution_count": null,
      "outputs": []
    },
    {
      "cell_type": "code",
      "source": [
        "def preparedata(path):\n",
        "  with open(path) as file:\n",
        "    data = file.readlines()\n",
        "  for i in range(0,len(data)):\n",
        "    data[i]=data[i].replace(\"\\t\",\" \")\n",
        "    data[i]=data[i].replace(\"\\n\",\"\")\n",
        "  df={\"text\":[],\"label\":[],\"id\":[],\"order\":[]}\n",
        "  t=0\n",
        "  id=0\n",
        "  count=0\n",
        "  for i in data:\n",
        "    if i==\"\" :\n",
        "      t=0\n",
        "      continue\n",
        "    elif i.startswith(\"###\"):\n",
        "      t=1\n",
        "      id=i[3:]\n",
        "      count=1\n",
        "      continue\n",
        "    sen=i.split(\" \")\n",
        "    df[\"label\"].append(sen[0])\n",
        "    df[\"text\"].append(\" \".join(sen[1:]))\n",
        "    df[\"id\"].append(id)\n",
        "    df[\"order\"].append(count)\n",
        "    count+=1\n",
        "  df2=pd.DataFrame(df)\n",
        "  return df2\n",
        "\n"
      ],
      "metadata": {
        "id": "6nYED10Chj0s"
      },
      "execution_count": null,
      "outputs": []
    },
    {
      "cell_type": "code",
      "source": [
        "def vocab(data):\n",
        "  vocab=[]\n",
        "  for i in data:\n",
        "    words=i.split(\" \")\n",
        "    for x in words:\n",
        "      vocab.append(x.lower())\n",
        "  return set(vocab)\n"
      ],
      "metadata": {
        "id": "NZ8ZLDrSiTIo"
      },
      "execution_count": null,
      "outputs": []
    },
    {
      "cell_type": "code",
      "source": [
        "def removepunc(data):\n",
        "  for i in punctuation:\n",
        "    if i==\".\":\n",
        "      data=data.replace(i,\" \")\n",
        "    else:\n",
        "      data=data.replace(i,\" \")\n",
        "  data=data.replace(\"\\n\",\"\")\n",
        "\n",
        "  return data"
      ],
      "metadata": {
        "id": "MOpDBIz-in_M"
      },
      "execution_count": null,
      "outputs": []
    },
    {
      "cell_type": "code",
      "source": [
        "def masknum(data):\n",
        "  data=removepunc(data)\n",
        "  words=data.split(\" \")\n",
        "  for k,i in enumerate(words):\n",
        "    if i.isnumeric():\n",
        "      words[k]=\"@\"\n",
        "  return \" \".join(words)"
      ],
      "metadata": {
        "id": "YtFmBNQWiluT"
      },
      "execution_count": null,
      "outputs": []
    },
    {
      "cell_type": "code",
      "source": [
        "def evaluate(history,start,end,model,x_test,y_test):\n",
        "  pred=model.predict(x_test)\n",
        "  pred=[x.argmax() for x in pred]\n",
        "  acc=accuracy_score(y_test,pred)\n",
        "  prec=precision_score(y_test,pred,average=\"micro\")\n",
        "  f1=f1_score(y_test,pred,average=\"micro\")\n",
        "  recc=recall_score(y_test,pred,average=\"micro\")\n",
        "  time=end-start\n",
        "  cr= classification_report(y_test,pred,target_names=list(le.classes_),output_dict=True)\n",
        "  return {\"accuracy\":acc,\"precision\":prec,\"f1_score\":f1,\"recall\":recc,\"Training Time\":time/60,\"Loss\":history.history[\"loss\"],\"Val Loss\":history.history[\"val_loss\"]},cr"
      ],
      "metadata": {
        "id": "af89bjRtbq5l"
      },
      "execution_count": null,
      "outputs": []
    },
    {
      "cell_type": "code",
      "source": [
        "def evaluatehybrid(history,start,end,model,x_test,y_test,original=False):\n",
        "  if original:\n",
        "    pred=model.predict([x_test[\"text\"],x_test[\"chars\"]])\n",
        "  else:\n",
        "    pred=model.predict([x_test[\"text\"],x_test[\"order\"],x_test[\"text\"]])\n",
        "\n",
        "  pred=[x.argmax() for x in pred]\n",
        "  acc=accuracy_score(y_test,pred)\n",
        "  prec=precision_score(y_test,pred,average=\"micro\")\n",
        "  f1=f1_score(y_test,pred,average=\"micro\")\n",
        "  recc=recall_score(y_test,pred,average=\"micro\")\n",
        "  time=end-start\n",
        "  cr= classification_report(y_test,pred,target_names=list(le.classes_),output_dict=True)\n",
        "  return {\"accuracy\":acc,\"precision\":prec,\"f1_score\":f1,\"recall\":recc,\"Training Time\":time/60,\"Loss\":history.history[\"loss\"],\"Val Loss\":history.history[\"val_loss\"]},cr"
      ],
      "metadata": {
        "id": "TEgmsaHcM2Hr"
      },
      "execution_count": null,
      "outputs": []
    },
    {
      "cell_type": "code",
      "source": [
        "def classrep(model,xtest,ytest,types):\n",
        "  if types==1:\n",
        "    preds=model.predict(xtest[\"text\"])\n",
        "  elif types==2:\n",
        "    preds=model.predict([xtest[\"text\"],xtest[\"order\"],xtest[\"text\"]])\n",
        "  else:\n",
        "    preds=model.predict([xtest[\"text\"],xtest[\"chars\"]])\n",
        "  preds=[x[0].argmax() for x in preds]\n",
        "  return classification_report(ytest,preds,target_names=list(le.classes_),output_dict=True)"
      ],
      "metadata": {
        "id": "1yluUm55rfbB"
      },
      "execution_count": null,
      "outputs": []
    },
    {
      "cell_type": "markdown",
      "source": [
        "# 1.Importing Data"
      ],
      "metadata": {
        "id": "fluNWc9Eg_iC"
      }
    },
    {
      "cell_type": "code",
      "execution_count": null,
      "metadata": {
        "colab": {
          "base_uri": "https://localhost:8080/"
        },
        "id": "XzFNQQGndduJ",
        "outputId": "0ef834bc-5afe-4f5b-ae0c-f9ecd4a44f94"
      },
      "outputs": [
        {
          "output_type": "stream",
          "name": "stdout",
          "text": [
            "fatal: destination path 'pubmed-rct' already exists and is not an empty directory.\n"
          ]
        }
      ],
      "source": [
        "!git clone https://github.com/Franck-Dernoncourt/pubmed-rct.git"
      ]
    },
    {
      "cell_type": "code",
      "source": [
        "train_data=preparedata(\"/content/pubmed-rct/PubMed_20k_RCT_numbers_replaced_with_at_sign/train.txt\")"
      ],
      "metadata": {
        "id": "WN-j86f_n5ca"
      },
      "execution_count": null,
      "outputs": []
    },
    {
      "cell_type": "code",
      "source": [
        "test_data=preparedata(\"/content/pubmed-rct/PubMed_20k_RCT_numbers_replaced_with_at_sign/test.txt\")"
      ],
      "metadata": {
        "id": "zje8MASGnPuy"
      },
      "execution_count": null,
      "outputs": []
    },
    {
      "cell_type": "code",
      "source": [
        "train_data[\"text\"].dropna(inplace=True)"
      ],
      "metadata": {
        "id": "_dlK4Zb7oDcD"
      },
      "execution_count": null,
      "outputs": []
    },
    {
      "cell_type": "code",
      "source": [
        "train_data.head(20)"
      ],
      "metadata": {
        "colab": {
          "base_uri": "https://localhost:8080/",
          "height": 677
        },
        "id": "JaSrNDM0ZCb9",
        "outputId": "a65e3351-62b5-423b-d952-68941cf4430b"
      },
      "execution_count": null,
      "outputs": [
        {
          "output_type": "execute_result",
          "data": {
            "text/plain": [
              "                                                 text        label        id  \\\n",
              "0   To investigate the efficacy of @ weeks of dail...    OBJECTIVE  24293578   \n",
              "1   A total of @ patients with primary knee OA wer...      METHODS  24293578   \n",
              "2   Outcome measures included pain reduction and i...      METHODS  24293578   \n",
              "3   Pain was assessed using the visual analog pain...      METHODS  24293578   \n",
              "4   Secondary outcome measures included the Wester...      METHODS  24293578   \n",
              "5   Serum levels of interleukin @ ( IL-@ ) , IL-@ ...      METHODS  24293578   \n",
              "6   There was a clinically relevant reduction in t...      RESULTS  24293578   \n",
              "7   The mean difference between treatment arms ( @...      RESULTS  24293578   \n",
              "8   Further , there was a clinically relevant redu...      RESULTS  24293578   \n",
              "9   These differences remained significant at @ we...      RESULTS  24293578   \n",
              "10  The Outcome Measures in Rheumatology Clinical ...      RESULTS  24293578   \n",
              "11  Low-dose oral prednisolone had both a short-te...  CONCLUSIONS  24293578   \n",
              "12  Emotional eating is associated with overeating...   BACKGROUND  24854809   \n",
              "13  Yet , empirical evidence for individual ( trai...   BACKGROUND  24854809   \n",
              "14  The aim of this study was to test if attention...    OBJECTIVE  24854809   \n",
              "15  It was expected that emotional eating is predi...    OBJECTIVE  24854809   \n",
              "16  Participants ( N = @ ) were randomly assigned ...      METHODS  24854809   \n",
              "17  Attentional biases for high caloric foods were...      METHODS  24854809   \n",
              "18  Self-reported emotional eating was assessed wi...      METHODS  24854809   \n",
              "19  Hierarchical multivariate regression modeling ...      RESULTS  24854809   \n",
              "\n",
              "    order                                              chars  lenchar  length  \n",
              "0       1  T o   i n v e s t i g a t e   t h e   e f f i ...      561      49  \n",
              "1       2  A   t o t a l   o f   @   p a t i e n t s   w ...      273      27  \n",
              "2       3  O u t c o m e   m e a s u r e s   i n c l u d ...      221      15  \n",
              "3       4  P a i n   w a s   a s s e s s e d   u s i n g ...      129      14  \n",
              "4       5  S e c o n d a r y   o u t c o m e   m e a s u ...      417      35  \n",
              "5       6  S e r u m   l e v e l s   o f   i n t e r l e ...      293      29  \n",
              "6       7  T h e r e   w a s   a   c l i n i c a l l y   ...      321      30  \n",
              "7       8  T h e   m e a n   d i f f e r e n c e   b e t ...      327      55  \n",
              "8       9  F u r t h e r   ,   t h e r e   w a s   a   c ...      359      36  \n",
              "9      10  T h e s e   d i f f e r e n c e s   r e m a i ...      101       8  \n",
              "10     11  T h e   O u t c o m e   M e a s u r e s   i n ...      375      32  \n",
              "11     12  L o w - d o s e   o r a l   p r e d n i s o l ...      495      39  \n",
              "12      1  E m o t i o n a l   e a t i n g   i s   a s s ...      157      12  \n",
              "13      2  Y e t   ,   e m p i r i c a l   e v i d e n c ...      333      26  \n",
              "14      3  T h e   a i m   o f   t h i s   s t u d y   w ...      349      33  \n",
              "15      4  I t   w a s   e x p e c t e d   t h a t   e m ...      489      40  \n",
              "16      5  P a r t i c i p a n t s   (   N   =   @   )   ...      239      22  \n",
              "17      6  A t t e n t i o n a l   b i a s e s   f o r   ...      279      23  \n",
              "18      7  S e l f - r e p o r t e d   e m o t i o n a l ...      325      27  \n",
              "19      8  H i e r a r c h i c a l   m u l t i v a r i a ...      371      26  "
            ],
            "text/html": [
              "\n",
              "  <div id=\"df-23a9f6dc-4976-432f-b375-99f5c857afbb\" class=\"colab-df-container\">\n",
              "    <div>\n",
              "<style scoped>\n",
              "    .dataframe tbody tr th:only-of-type {\n",
              "        vertical-align: middle;\n",
              "    }\n",
              "\n",
              "    .dataframe tbody tr th {\n",
              "        vertical-align: top;\n",
              "    }\n",
              "\n",
              "    .dataframe thead th {\n",
              "        text-align: right;\n",
              "    }\n",
              "</style>\n",
              "<table border=\"1\" class=\"dataframe\">\n",
              "  <thead>\n",
              "    <tr style=\"text-align: right;\">\n",
              "      <th></th>\n",
              "      <th>text</th>\n",
              "      <th>label</th>\n",
              "      <th>id</th>\n",
              "      <th>order</th>\n",
              "      <th>chars</th>\n",
              "      <th>lenchar</th>\n",
              "      <th>length</th>\n",
              "    </tr>\n",
              "  </thead>\n",
              "  <tbody>\n",
              "    <tr>\n",
              "      <th>0</th>\n",
              "      <td>To investigate the efficacy of @ weeks of dail...</td>\n",
              "      <td>OBJECTIVE</td>\n",
              "      <td>24293578</td>\n",
              "      <td>1</td>\n",
              "      <td>T o   i n v e s t i g a t e   t h e   e f f i ...</td>\n",
              "      <td>561</td>\n",
              "      <td>49</td>\n",
              "    </tr>\n",
              "    <tr>\n",
              "      <th>1</th>\n",
              "      <td>A total of @ patients with primary knee OA wer...</td>\n",
              "      <td>METHODS</td>\n",
              "      <td>24293578</td>\n",
              "      <td>2</td>\n",
              "      <td>A   t o t a l   o f   @   p a t i e n t s   w ...</td>\n",
              "      <td>273</td>\n",
              "      <td>27</td>\n",
              "    </tr>\n",
              "    <tr>\n",
              "      <th>2</th>\n",
              "      <td>Outcome measures included pain reduction and i...</td>\n",
              "      <td>METHODS</td>\n",
              "      <td>24293578</td>\n",
              "      <td>3</td>\n",
              "      <td>O u t c o m e   m e a s u r e s   i n c l u d ...</td>\n",
              "      <td>221</td>\n",
              "      <td>15</td>\n",
              "    </tr>\n",
              "    <tr>\n",
              "      <th>3</th>\n",
              "      <td>Pain was assessed using the visual analog pain...</td>\n",
              "      <td>METHODS</td>\n",
              "      <td>24293578</td>\n",
              "      <td>4</td>\n",
              "      <td>P a i n   w a s   a s s e s s e d   u s i n g ...</td>\n",
              "      <td>129</td>\n",
              "      <td>14</td>\n",
              "    </tr>\n",
              "    <tr>\n",
              "      <th>4</th>\n",
              "      <td>Secondary outcome measures included the Wester...</td>\n",
              "      <td>METHODS</td>\n",
              "      <td>24293578</td>\n",
              "      <td>5</td>\n",
              "      <td>S e c o n d a r y   o u t c o m e   m e a s u ...</td>\n",
              "      <td>417</td>\n",
              "      <td>35</td>\n",
              "    </tr>\n",
              "    <tr>\n",
              "      <th>5</th>\n",
              "      <td>Serum levels of interleukin @ ( IL-@ ) , IL-@ ...</td>\n",
              "      <td>METHODS</td>\n",
              "      <td>24293578</td>\n",
              "      <td>6</td>\n",
              "      <td>S e r u m   l e v e l s   o f   i n t e r l e ...</td>\n",
              "      <td>293</td>\n",
              "      <td>29</td>\n",
              "    </tr>\n",
              "    <tr>\n",
              "      <th>6</th>\n",
              "      <td>There was a clinically relevant reduction in t...</td>\n",
              "      <td>RESULTS</td>\n",
              "      <td>24293578</td>\n",
              "      <td>7</td>\n",
              "      <td>T h e r e   w a s   a   c l i n i c a l l y   ...</td>\n",
              "      <td>321</td>\n",
              "      <td>30</td>\n",
              "    </tr>\n",
              "    <tr>\n",
              "      <th>7</th>\n",
              "      <td>The mean difference between treatment arms ( @...</td>\n",
              "      <td>RESULTS</td>\n",
              "      <td>24293578</td>\n",
              "      <td>8</td>\n",
              "      <td>T h e   m e a n   d i f f e r e n c e   b e t ...</td>\n",
              "      <td>327</td>\n",
              "      <td>55</td>\n",
              "    </tr>\n",
              "    <tr>\n",
              "      <th>8</th>\n",
              "      <td>Further , there was a clinically relevant redu...</td>\n",
              "      <td>RESULTS</td>\n",
              "      <td>24293578</td>\n",
              "      <td>9</td>\n",
              "      <td>F u r t h e r   ,   t h e r e   w a s   a   c ...</td>\n",
              "      <td>359</td>\n",
              "      <td>36</td>\n",
              "    </tr>\n",
              "    <tr>\n",
              "      <th>9</th>\n",
              "      <td>These differences remained significant at @ we...</td>\n",
              "      <td>RESULTS</td>\n",
              "      <td>24293578</td>\n",
              "      <td>10</td>\n",
              "      <td>T h e s e   d i f f e r e n c e s   r e m a i ...</td>\n",
              "      <td>101</td>\n",
              "      <td>8</td>\n",
              "    </tr>\n",
              "    <tr>\n",
              "      <th>10</th>\n",
              "      <td>The Outcome Measures in Rheumatology Clinical ...</td>\n",
              "      <td>RESULTS</td>\n",
              "      <td>24293578</td>\n",
              "      <td>11</td>\n",
              "      <td>T h e   O u t c o m e   M e a s u r e s   i n ...</td>\n",
              "      <td>375</td>\n",
              "      <td>32</td>\n",
              "    </tr>\n",
              "    <tr>\n",
              "      <th>11</th>\n",
              "      <td>Low-dose oral prednisolone had both a short-te...</td>\n",
              "      <td>CONCLUSIONS</td>\n",
              "      <td>24293578</td>\n",
              "      <td>12</td>\n",
              "      <td>L o w - d o s e   o r a l   p r e d n i s o l ...</td>\n",
              "      <td>495</td>\n",
              "      <td>39</td>\n",
              "    </tr>\n",
              "    <tr>\n",
              "      <th>12</th>\n",
              "      <td>Emotional eating is associated with overeating...</td>\n",
              "      <td>BACKGROUND</td>\n",
              "      <td>24854809</td>\n",
              "      <td>1</td>\n",
              "      <td>E m o t i o n a l   e a t i n g   i s   a s s ...</td>\n",
              "      <td>157</td>\n",
              "      <td>12</td>\n",
              "    </tr>\n",
              "    <tr>\n",
              "      <th>13</th>\n",
              "      <td>Yet , empirical evidence for individual ( trai...</td>\n",
              "      <td>BACKGROUND</td>\n",
              "      <td>24854809</td>\n",
              "      <td>2</td>\n",
              "      <td>Y e t   ,   e m p i r i c a l   e v i d e n c ...</td>\n",
              "      <td>333</td>\n",
              "      <td>26</td>\n",
              "    </tr>\n",
              "    <tr>\n",
              "      <th>14</th>\n",
              "      <td>The aim of this study was to test if attention...</td>\n",
              "      <td>OBJECTIVE</td>\n",
              "      <td>24854809</td>\n",
              "      <td>3</td>\n",
              "      <td>T h e   a i m   o f   t h i s   s t u d y   w ...</td>\n",
              "      <td>349</td>\n",
              "      <td>33</td>\n",
              "    </tr>\n",
              "    <tr>\n",
              "      <th>15</th>\n",
              "      <td>It was expected that emotional eating is predi...</td>\n",
              "      <td>OBJECTIVE</td>\n",
              "      <td>24854809</td>\n",
              "      <td>4</td>\n",
              "      <td>I t   w a s   e x p e c t e d   t h a t   e m ...</td>\n",
              "      <td>489</td>\n",
              "      <td>40</td>\n",
              "    </tr>\n",
              "    <tr>\n",
              "      <th>16</th>\n",
              "      <td>Participants ( N = @ ) were randomly assigned ...</td>\n",
              "      <td>METHODS</td>\n",
              "      <td>24854809</td>\n",
              "      <td>5</td>\n",
              "      <td>P a r t i c i p a n t s   (   N   =   @   )   ...</td>\n",
              "      <td>239</td>\n",
              "      <td>22</td>\n",
              "    </tr>\n",
              "    <tr>\n",
              "      <th>17</th>\n",
              "      <td>Attentional biases for high caloric foods were...</td>\n",
              "      <td>METHODS</td>\n",
              "      <td>24854809</td>\n",
              "      <td>6</td>\n",
              "      <td>A t t e n t i o n a l   b i a s e s   f o r   ...</td>\n",
              "      <td>279</td>\n",
              "      <td>23</td>\n",
              "    </tr>\n",
              "    <tr>\n",
              "      <th>18</th>\n",
              "      <td>Self-reported emotional eating was assessed wi...</td>\n",
              "      <td>METHODS</td>\n",
              "      <td>24854809</td>\n",
              "      <td>7</td>\n",
              "      <td>S e l f - r e p o r t e d   e m o t i o n a l ...</td>\n",
              "      <td>325</td>\n",
              "      <td>27</td>\n",
              "    </tr>\n",
              "    <tr>\n",
              "      <th>19</th>\n",
              "      <td>Hierarchical multivariate regression modeling ...</td>\n",
              "      <td>RESULTS</td>\n",
              "      <td>24854809</td>\n",
              "      <td>8</td>\n",
              "      <td>H i e r a r c h i c a l   m u l t i v a r i a ...</td>\n",
              "      <td>371</td>\n",
              "      <td>26</td>\n",
              "    </tr>\n",
              "  </tbody>\n",
              "</table>\n",
              "</div>\n",
              "    <div class=\"colab-df-buttons\">\n",
              "\n",
              "  <div class=\"colab-df-container\">\n",
              "    <button class=\"colab-df-convert\" onclick=\"convertToInteractive('df-23a9f6dc-4976-432f-b375-99f5c857afbb')\"\n",
              "            title=\"Convert this dataframe to an interactive table.\"\n",
              "            style=\"display:none;\">\n",
              "\n",
              "  <svg xmlns=\"http://www.w3.org/2000/svg\" height=\"24px\" viewBox=\"0 -960 960 960\">\n",
              "    <path d=\"M120-120v-720h720v720H120Zm60-500h600v-160H180v160Zm220 220h160v-160H400v160Zm0 220h160v-160H400v160ZM180-400h160v-160H180v160Zm440 0h160v-160H620v160ZM180-180h160v-160H180v160Zm440 0h160v-160H620v160Z\"/>\n",
              "  </svg>\n",
              "    </button>\n",
              "\n",
              "  <style>\n",
              "    .colab-df-container {\n",
              "      display:flex;\n",
              "      gap: 12px;\n",
              "    }\n",
              "\n",
              "    .colab-df-convert {\n",
              "      background-color: #E8F0FE;\n",
              "      border: none;\n",
              "      border-radius: 50%;\n",
              "      cursor: pointer;\n",
              "      display: none;\n",
              "      fill: #1967D2;\n",
              "      height: 32px;\n",
              "      padding: 0 0 0 0;\n",
              "      width: 32px;\n",
              "    }\n",
              "\n",
              "    .colab-df-convert:hover {\n",
              "      background-color: #E2EBFA;\n",
              "      box-shadow: 0px 1px 2px rgba(60, 64, 67, 0.3), 0px 1px 3px 1px rgba(60, 64, 67, 0.15);\n",
              "      fill: #174EA6;\n",
              "    }\n",
              "\n",
              "    .colab-df-buttons div {\n",
              "      margin-bottom: 4px;\n",
              "    }\n",
              "\n",
              "    [theme=dark] .colab-df-convert {\n",
              "      background-color: #3B4455;\n",
              "      fill: #D2E3FC;\n",
              "    }\n",
              "\n",
              "    [theme=dark] .colab-df-convert:hover {\n",
              "      background-color: #434B5C;\n",
              "      box-shadow: 0px 1px 3px 1px rgba(0, 0, 0, 0.15);\n",
              "      filter: drop-shadow(0px 1px 2px rgba(0, 0, 0, 0.3));\n",
              "      fill: #FFFFFF;\n",
              "    }\n",
              "  </style>\n",
              "\n",
              "    <script>\n",
              "      const buttonEl =\n",
              "        document.querySelector('#df-23a9f6dc-4976-432f-b375-99f5c857afbb button.colab-df-convert');\n",
              "      buttonEl.style.display =\n",
              "        google.colab.kernel.accessAllowed ? 'block' : 'none';\n",
              "\n",
              "      async function convertToInteractive(key) {\n",
              "        const element = document.querySelector('#df-23a9f6dc-4976-432f-b375-99f5c857afbb');\n",
              "        const dataTable =\n",
              "          await google.colab.kernel.invokeFunction('convertToInteractive',\n",
              "                                                    [key], {});\n",
              "        if (!dataTable) return;\n",
              "\n",
              "        const docLinkHtml = 'Like what you see? Visit the ' +\n",
              "          '<a target=\"_blank\" href=https://colab.research.google.com/notebooks/data_table.ipynb>data table notebook</a>'\n",
              "          + ' to learn more about interactive tables.';\n",
              "        element.innerHTML = '';\n",
              "        dataTable['output_type'] = 'display_data';\n",
              "        await google.colab.output.renderOutput(dataTable, element);\n",
              "        const docLink = document.createElement('div');\n",
              "        docLink.innerHTML = docLinkHtml;\n",
              "        element.appendChild(docLink);\n",
              "      }\n",
              "    </script>\n",
              "  </div>\n",
              "\n",
              "\n",
              "<div id=\"df-22c9e765-0968-4190-93f9-ddc03d897bd3\">\n",
              "  <button class=\"colab-df-quickchart\" onclick=\"quickchart('df-22c9e765-0968-4190-93f9-ddc03d897bd3')\"\n",
              "            title=\"Suggest charts.\"\n",
              "            style=\"display:none;\">\n",
              "\n",
              "<svg xmlns=\"http://www.w3.org/2000/svg\" height=\"24px\"viewBox=\"0 0 24 24\"\n",
              "     width=\"24px\">\n",
              "    <g>\n",
              "        <path d=\"M19 3H5c-1.1 0-2 .9-2 2v14c0 1.1.9 2 2 2h14c1.1 0 2-.9 2-2V5c0-1.1-.9-2-2-2zM9 17H7v-7h2v7zm4 0h-2V7h2v10zm4 0h-2v-4h2v4z\"/>\n",
              "    </g>\n",
              "</svg>\n",
              "  </button>\n",
              "\n",
              "<style>\n",
              "  .colab-df-quickchart {\n",
              "      --bg-color: #E8F0FE;\n",
              "      --fill-color: #1967D2;\n",
              "      --hover-bg-color: #E2EBFA;\n",
              "      --hover-fill-color: #174EA6;\n",
              "      --disabled-fill-color: #AAA;\n",
              "      --disabled-bg-color: #DDD;\n",
              "  }\n",
              "\n",
              "  [theme=dark] .colab-df-quickchart {\n",
              "      --bg-color: #3B4455;\n",
              "      --fill-color: #D2E3FC;\n",
              "      --hover-bg-color: #434B5C;\n",
              "      --hover-fill-color: #FFFFFF;\n",
              "      --disabled-bg-color: #3B4455;\n",
              "      --disabled-fill-color: #666;\n",
              "  }\n",
              "\n",
              "  .colab-df-quickchart {\n",
              "    background-color: var(--bg-color);\n",
              "    border: none;\n",
              "    border-radius: 50%;\n",
              "    cursor: pointer;\n",
              "    display: none;\n",
              "    fill: var(--fill-color);\n",
              "    height: 32px;\n",
              "    padding: 0;\n",
              "    width: 32px;\n",
              "  }\n",
              "\n",
              "  .colab-df-quickchart:hover {\n",
              "    background-color: var(--hover-bg-color);\n",
              "    box-shadow: 0 1px 2px rgba(60, 64, 67, 0.3), 0 1px 3px 1px rgba(60, 64, 67, 0.15);\n",
              "    fill: var(--button-hover-fill-color);\n",
              "  }\n",
              "\n",
              "  .colab-df-quickchart-complete:disabled,\n",
              "  .colab-df-quickchart-complete:disabled:hover {\n",
              "    background-color: var(--disabled-bg-color);\n",
              "    fill: var(--disabled-fill-color);\n",
              "    box-shadow: none;\n",
              "  }\n",
              "\n",
              "  .colab-df-spinner {\n",
              "    border: 2px solid var(--fill-color);\n",
              "    border-color: transparent;\n",
              "    border-bottom-color: var(--fill-color);\n",
              "    animation:\n",
              "      spin 1s steps(1) infinite;\n",
              "  }\n",
              "\n",
              "  @keyframes spin {\n",
              "    0% {\n",
              "      border-color: transparent;\n",
              "      border-bottom-color: var(--fill-color);\n",
              "      border-left-color: var(--fill-color);\n",
              "    }\n",
              "    20% {\n",
              "      border-color: transparent;\n",
              "      border-left-color: var(--fill-color);\n",
              "      border-top-color: var(--fill-color);\n",
              "    }\n",
              "    30% {\n",
              "      border-color: transparent;\n",
              "      border-left-color: var(--fill-color);\n",
              "      border-top-color: var(--fill-color);\n",
              "      border-right-color: var(--fill-color);\n",
              "    }\n",
              "    40% {\n",
              "      border-color: transparent;\n",
              "      border-right-color: var(--fill-color);\n",
              "      border-top-color: var(--fill-color);\n",
              "    }\n",
              "    60% {\n",
              "      border-color: transparent;\n",
              "      border-right-color: var(--fill-color);\n",
              "    }\n",
              "    80% {\n",
              "      border-color: transparent;\n",
              "      border-right-color: var(--fill-color);\n",
              "      border-bottom-color: var(--fill-color);\n",
              "    }\n",
              "    90% {\n",
              "      border-color: transparent;\n",
              "      border-bottom-color: var(--fill-color);\n",
              "    }\n",
              "  }\n",
              "</style>\n",
              "\n",
              "  <script>\n",
              "    async function quickchart(key) {\n",
              "      const quickchartButtonEl =\n",
              "        document.querySelector('#' + key + ' button');\n",
              "      quickchartButtonEl.disabled = true;  // To prevent multiple clicks.\n",
              "      quickchartButtonEl.classList.add('colab-df-spinner');\n",
              "      try {\n",
              "        const charts = await google.colab.kernel.invokeFunction(\n",
              "            'suggestCharts', [key], {});\n",
              "      } catch (error) {\n",
              "        console.error('Error during call to suggestCharts:', error);\n",
              "      }\n",
              "      quickchartButtonEl.classList.remove('colab-df-spinner');\n",
              "      quickchartButtonEl.classList.add('colab-df-quickchart-complete');\n",
              "    }\n",
              "    (() => {\n",
              "      let quickchartButtonEl =\n",
              "        document.querySelector('#df-22c9e765-0968-4190-93f9-ddc03d897bd3 button');\n",
              "      quickchartButtonEl.style.display =\n",
              "        google.colab.kernel.accessAllowed ? 'block' : 'none';\n",
              "    })();\n",
              "  </script>\n",
              "</div>\n",
              "    </div>\n",
              "  </div>\n"
            ]
          },
          "metadata": {},
          "execution_count": 79
        }
      ]
    },
    {
      "cell_type": "code",
      "source": [
        "len(train_data[\"label\"].unique()),len(test_data[\"label\"].unique()) #We have 5 classes"
      ],
      "metadata": {
        "colab": {
          "base_uri": "https://localhost:8080/"
        },
        "id": "Viws3zhJoP-G",
        "outputId": "010095e2-7799-4d8a-e221-91a2eab9f82e"
      },
      "execution_count": null,
      "outputs": [
        {
          "output_type": "execute_result",
          "data": {
            "text/plain": [
              "(5, 5)"
            ]
          },
          "metadata": {},
          "execution_count": 80
        }
      ]
    },
    {
      "cell_type": "code",
      "source": [
        "train_data[\"label\"].unique()"
      ],
      "metadata": {
        "colab": {
          "base_uri": "https://localhost:8080/"
        },
        "id": "YExVU1dWgz8Q",
        "outputId": "e4d6a84a-8951-4766-e71b-fa211b2143f2"
      },
      "execution_count": null,
      "outputs": [
        {
          "output_type": "execute_result",
          "data": {
            "text/plain": [
              "array(['OBJECTIVE', 'METHODS', 'RESULTS', 'CONCLUSIONS', 'BACKGROUND'],\n",
              "      dtype=object)"
            ]
          },
          "metadata": {},
          "execution_count": 47
        }
      ]
    },
    {
      "cell_type": "code",
      "source": [
        "num_classes=len(train_data[\"label\"].unique())"
      ],
      "metadata": {
        "id": "Z9CEjwCVgs18"
      },
      "execution_count": null,
      "outputs": []
    },
    {
      "cell_type": "code",
      "source": [
        "X_tr=train_data[\"text\"]\n",
        "y_tr=train_data[\"label\"]\n"
      ],
      "metadata": {
        "id": "nB0QgbA-otKW"
      },
      "execution_count": null,
      "outputs": []
    },
    {
      "cell_type": "code",
      "source": [
        "X_test=test_data[\"text\"]\n",
        "y_test=test_data[\"label\"]"
      ],
      "metadata": {
        "id": "nYlD_lVt9tdR"
      },
      "execution_count": null,
      "outputs": []
    },
    {
      "cell_type": "code",
      "source": [
        "le=LabelEncoder()"
      ],
      "metadata": {
        "id": "3GRaEGhUg4mG"
      },
      "execution_count": null,
      "outputs": []
    },
    {
      "cell_type": "code",
      "source": [
        "le.fit(y_tr)"
      ],
      "metadata": {
        "id": "MinnGrNLpIcw",
        "colab": {
          "base_uri": "https://localhost:8080/",
          "height": 75
        },
        "outputId": "2b9b348a-a3ea-4dd6-8ff9-adb323f5a6d6"
      },
      "execution_count": null,
      "outputs": [
        {
          "output_type": "execute_result",
          "data": {
            "text/plain": [
              "LabelEncoder()"
            ],
            "text/html": [
              "<style>#sk-container-id-2 {color: black;background-color: white;}#sk-container-id-2 pre{padding: 0;}#sk-container-id-2 div.sk-toggleable {background-color: white;}#sk-container-id-2 label.sk-toggleable__label {cursor: pointer;display: block;width: 100%;margin-bottom: 0;padding: 0.3em;box-sizing: border-box;text-align: center;}#sk-container-id-2 label.sk-toggleable__label-arrow:before {content: \"▸\";float: left;margin-right: 0.25em;color: #696969;}#sk-container-id-2 label.sk-toggleable__label-arrow:hover:before {color: black;}#sk-container-id-2 div.sk-estimator:hover label.sk-toggleable__label-arrow:before {color: black;}#sk-container-id-2 div.sk-toggleable__content {max-height: 0;max-width: 0;overflow: hidden;text-align: left;background-color: #f0f8ff;}#sk-container-id-2 div.sk-toggleable__content pre {margin: 0.2em;color: black;border-radius: 0.25em;background-color: #f0f8ff;}#sk-container-id-2 input.sk-toggleable__control:checked~div.sk-toggleable__content {max-height: 200px;max-width: 100%;overflow: auto;}#sk-container-id-2 input.sk-toggleable__control:checked~label.sk-toggleable__label-arrow:before {content: \"▾\";}#sk-container-id-2 div.sk-estimator input.sk-toggleable__control:checked~label.sk-toggleable__label {background-color: #d4ebff;}#sk-container-id-2 div.sk-label input.sk-toggleable__control:checked~label.sk-toggleable__label {background-color: #d4ebff;}#sk-container-id-2 input.sk-hidden--visually {border: 0;clip: rect(1px 1px 1px 1px);clip: rect(1px, 1px, 1px, 1px);height: 1px;margin: -1px;overflow: hidden;padding: 0;position: absolute;width: 1px;}#sk-container-id-2 div.sk-estimator {font-family: monospace;background-color: #f0f8ff;border: 1px dotted black;border-radius: 0.25em;box-sizing: border-box;margin-bottom: 0.5em;}#sk-container-id-2 div.sk-estimator:hover {background-color: #d4ebff;}#sk-container-id-2 div.sk-parallel-item::after {content: \"\";width: 100%;border-bottom: 1px solid gray;flex-grow: 1;}#sk-container-id-2 div.sk-label:hover label.sk-toggleable__label {background-color: #d4ebff;}#sk-container-id-2 div.sk-serial::before {content: \"\";position: absolute;border-left: 1px solid gray;box-sizing: border-box;top: 0;bottom: 0;left: 50%;z-index: 0;}#sk-container-id-2 div.sk-serial {display: flex;flex-direction: column;align-items: center;background-color: white;padding-right: 0.2em;padding-left: 0.2em;position: relative;}#sk-container-id-2 div.sk-item {position: relative;z-index: 1;}#sk-container-id-2 div.sk-parallel {display: flex;align-items: stretch;justify-content: center;background-color: white;position: relative;}#sk-container-id-2 div.sk-item::before, #sk-container-id-2 div.sk-parallel-item::before {content: \"\";position: absolute;border-left: 1px solid gray;box-sizing: border-box;top: 0;bottom: 0;left: 50%;z-index: -1;}#sk-container-id-2 div.sk-parallel-item {display: flex;flex-direction: column;z-index: 1;position: relative;background-color: white;}#sk-container-id-2 div.sk-parallel-item:first-child::after {align-self: flex-end;width: 50%;}#sk-container-id-2 div.sk-parallel-item:last-child::after {align-self: flex-start;width: 50%;}#sk-container-id-2 div.sk-parallel-item:only-child::after {width: 0;}#sk-container-id-2 div.sk-dashed-wrapped {border: 1px dashed gray;margin: 0 0.4em 0.5em 0.4em;box-sizing: border-box;padding-bottom: 0.4em;background-color: white;}#sk-container-id-2 div.sk-label label {font-family: monospace;font-weight: bold;display: inline-block;line-height: 1.2em;}#sk-container-id-2 div.sk-label-container {text-align: center;}#sk-container-id-2 div.sk-container {/* jupyter's `normalize.less` sets `[hidden] { display: none; }` but bootstrap.min.css set `[hidden] { display: none !important; }` so we also need the `!important` here to be able to override the default hidden behavior on the sphinx rendered scikit-learn.org. See: https://github.com/scikit-learn/scikit-learn/issues/21755 */display: inline-block !important;position: relative;}#sk-container-id-2 div.sk-text-repr-fallback {display: none;}</style><div id=\"sk-container-id-2\" class=\"sk-top-container\"><div class=\"sk-text-repr-fallback\"><pre>LabelEncoder()</pre><b>In a Jupyter environment, please rerun this cell to show the HTML representation or trust the notebook. <br />On GitHub, the HTML representation is unable to render, please try loading this page with nbviewer.org.</b></div><div class=\"sk-container\" hidden><div class=\"sk-item\"><div class=\"sk-estimator sk-toggleable\"><input class=\"sk-toggleable__control sk-hidden--visually\" id=\"sk-estimator-id-2\" type=\"checkbox\" checked><label for=\"sk-estimator-id-2\" class=\"sk-toggleable__label sk-toggleable__label-arrow\">LabelEncoder</label><div class=\"sk-toggleable__content\"><pre>LabelEncoder()</pre></div></div></div></div></div>"
            ]
          },
          "metadata": {},
          "execution_count": 84
        }
      ]
    },
    {
      "cell_type": "code",
      "source": [
        "le.classes_"
      ],
      "metadata": {
        "colab": {
          "base_uri": "https://localhost:8080/"
        },
        "id": "BH8cCM4qhUhv",
        "outputId": "60ee9761-d8b8-4896-e77e-7f6b17f269c0"
      },
      "execution_count": null,
      "outputs": [
        {
          "output_type": "execute_result",
          "data": {
            "text/plain": [
              "array(['BACKGROUND', 'CONCLUSIONS', 'METHODS', 'OBJECTIVE', 'RESULTS'],\n",
              "      dtype=object)"
            ]
          },
          "metadata": {},
          "execution_count": 85
        }
      ]
    },
    {
      "cell_type": "code",
      "source": [
        "y_tr=le.transform(y_tr)"
      ],
      "metadata": {
        "id": "BBqY5mbxhWO5"
      },
      "execution_count": null,
      "outputs": []
    },
    {
      "cell_type": "code",
      "source": [
        "\n",
        "y_test=le.transform(y_test)"
      ],
      "metadata": {
        "id": "1Z4u_QKr9v-i"
      },
      "execution_count": null,
      "outputs": []
    },
    {
      "cell_type": "code",
      "source": [
        "le.inverse_transform(y_tr)"
      ],
      "metadata": {
        "colab": {
          "base_uri": "https://localhost:8080/"
        },
        "id": "wgQUWHBIhY_c",
        "outputId": "f1602411-3209-48c2-eec5-be525ee350c3"
      },
      "execution_count": null,
      "outputs": [
        {
          "output_type": "execute_result",
          "data": {
            "text/plain": [
              "array(['OBJECTIVE', 'METHODS', 'METHODS', ..., 'RESULTS', 'CONCLUSIONS',\n",
              "       'CONCLUSIONS'], dtype=object)"
            ]
          },
          "metadata": {},
          "execution_count": 88
        }
      ]
    },
    {
      "cell_type": "code",
      "source": [
        "y_tr=tf.keras.utils.to_categorical(y_tr,num_classes=5)"
      ],
      "metadata": {
        "id": "rWZOfWg6o_YP"
      },
      "execution_count": null,
      "outputs": []
    },
    {
      "cell_type": "code",
      "source": [
        "y_test=tf.keras.utils.to_categorical(y_test,num_classes=5)"
      ],
      "metadata": {
        "id": "R-B8lDWI91Tf"
      },
      "execution_count": null,
      "outputs": []
    },
    {
      "cell_type": "code",
      "source": [
        "y_tr[0]"
      ],
      "metadata": {
        "colab": {
          "base_uri": "https://localhost:8080/"
        },
        "id": "QCk6smdNpYSY",
        "outputId": "0b81f95b-55b0-4db6-9047-e8163264ab3c"
      },
      "execution_count": null,
      "outputs": [
        {
          "output_type": "execute_result",
          "data": {
            "text/plain": [
              "array([0., 0., 0., 1., 0.], dtype=float32)"
            ]
          },
          "metadata": {},
          "execution_count": 91
        }
      ]
    },
    {
      "cell_type": "code",
      "source": [
        "train_data[\"length\"]=train_data[\"text\"].apply(lambda x: len(x.split(\" \")))"
      ],
      "metadata": {
        "id": "h9YWPf07rRpC"
      },
      "execution_count": null,
      "outputs": []
    },
    {
      "cell_type": "code",
      "source": [
        "#Creating validation set\n",
        "X_train,X_val,y_train,y_val=train_test_split(X_tr,y_tr,test_size=0.1,random_state=42)"
      ],
      "metadata": {
        "id": "P5ttdh6QphFv"
      },
      "execution_count": null,
      "outputs": []
    },
    {
      "cell_type": "markdown",
      "source": [],
      "metadata": {
        "id": "x4j809dcCJMB"
      }
    },
    {
      "cell_type": "code",
      "source": [
        "max_vocab_length=len(vocab(removepunc(train_data[\"text\"])))\n",
        "max_length=int(np.percentile(train_data[\"length\"],95))\n",
        "text_vectorizer=tf.keras.layers.TextVectorization(max_tokens=max_vocab_length,output_sequence_length=max_length)\n",
        "#max_tokens number of unique words\n",
        "#what is the general length of the sentences"
      ],
      "metadata": {
        "id": "XflLtd4dqAZh"
      },
      "execution_count": null,
      "outputs": []
    },
    {
      "cell_type": "code",
      "source": [
        "text_vectorizer.adapt(X_train)"
      ],
      "metadata": {
        "id": "N-f-7rCrrE7x"
      },
      "execution_count": null,
      "outputs": []
    },
    {
      "cell_type": "code",
      "source": [
        "embedding=tf.keras.layers.Embedding(input_dim=len(text_vectorizer.get_vocabulary()),output_dim=128,mask_zero=True)\n",
        "#input length vocabulary\n",
        "#output 128\n",
        "#mask_Zero"
      ],
      "metadata": {
        "id": "BxFxz6tHvQAr"
      },
      "execution_count": null,
      "outputs": []
    },
    {
      "cell_type": "code",
      "source": [
        "embedding(text_vectorizer(X_train[0])) #Our data is ready to train"
      ],
      "metadata": {
        "colab": {
          "base_uri": "https://localhost:8080/"
        },
        "id": "LxRC2bcZvRF4",
        "outputId": "6bda5369-d676-462a-d413-4fc65143c43e"
      },
      "execution_count": null,
      "outputs": [
        {
          "output_type": "execute_result",
          "data": {
            "text/plain": [
              "<tf.Tensor: shape=(55, 128), dtype=float32, numpy=\n",
              "array([[ 0.04079313,  0.01598537, -0.03337141, ..., -0.0181043 ,\n",
              "        -0.04551936,  0.02842579],\n",
              "       [ 0.00045115, -0.01541656,  0.03260818, ...,  0.00975074,\n",
              "         0.01825389,  0.00920411],\n",
              "       [ 0.02253034,  0.0449309 ,  0.00989623, ...,  0.01962345,\n",
              "        -0.04791022,  0.01113548],\n",
              "       ...,\n",
              "       [ 0.02004797,  0.01611196, -0.04588726, ..., -0.00921141,\n",
              "        -0.02617501,  0.04682103],\n",
              "       [ 0.02004797,  0.01611196, -0.04588726, ..., -0.00921141,\n",
              "        -0.02617501,  0.04682103],\n",
              "       [ 0.02004797,  0.01611196, -0.04588726, ..., -0.00921141,\n",
              "        -0.02617501,  0.04682103]], dtype=float32)>"
            ]
          },
          "metadata": {},
          "execution_count": 97
        }
      ]
    },
    {
      "cell_type": "code",
      "source": [
        "train=tf.data.Dataset.from_tensor_slices((X_train,y_train))\n",
        "val=tf.data.Dataset.from_tensor_slices((X_val,y_val))"
      ],
      "metadata": {
        "id": "f0NUEWp4kFYc"
      },
      "execution_count": null,
      "outputs": []
    },
    {
      "cell_type": "code",
      "source": [
        "test=tf.data.Dataset.from_tensor_slices((X_test,y_test))\n",
        "test=test.batch(32).prefetch(tf.data.AUTOTUNE)"
      ],
      "metadata": {
        "id": "rcict7RR96gm"
      },
      "execution_count": null,
      "outputs": []
    },
    {
      "cell_type": "code",
      "source": [
        "train=train.batch(32).prefetch(tf.data.AUTOTUNE)\n",
        "val=val.batch(32).prefetch(tf.data.AUTOTUNE)"
      ],
      "metadata": {
        "id": "Ts1tk4KQkaQu"
      },
      "execution_count": null,
      "outputs": []
    },
    {
      "cell_type": "markdown",
      "source": [
        "# 2. RNN models"
      ],
      "metadata": {
        "id": "_YplUQoRI1mA"
      }
    },
    {
      "cell_type": "markdown",
      "source": [
        "##LSTM"
      ],
      "metadata": {
        "id": "q19Va_SC-Z8t"
      }
    },
    {
      "cell_type": "code",
      "source": [
        "lr=tf.keras.callbacks.LearningRateScheduler(lambda epoch: 1e-4 * 10 ** (epoch/20))\n",
        "es=tf.keras.callbacks.EarlyStopping(monitor=\"val_accuracy\",patience=3)"
      ],
      "metadata": {
        "id": "ZdduQVyFKyjq"
      },
      "execution_count": null,
      "outputs": []
    },
    {
      "cell_type": "code",
      "source": [
        "inputs=tf.keras.layers.Input(shape=[],dtype=\"string\",name=\"input layer\")\n",
        "x=text_vectorizer(inputs)\n",
        "x=embedding(x)\n",
        "x=tf.keras.layers.LSTM(32)(x)\n",
        "x=tf.keras.layers.Dropout(0.5)(x)\n",
        "output=tf.keras.layers.Dense(5,activation=\"softmax\",name=\"output\")(x)\n",
        "modelLSTM=tf.keras.Model(inputs,output,name=\"modelLSTM\")"
      ],
      "metadata": {
        "id": "4Nfd4f5wU8ti"
      },
      "execution_count": null,
      "outputs": []
    },
    {
      "cell_type": "code",
      "source": [
        "modelLSTM.summary()"
      ],
      "metadata": {
        "colab": {
          "base_uri": "https://localhost:8080/"
        },
        "id": "rgsRWqWsVSWn",
        "outputId": "102fb758-2766-46b5-8e72-05429c33c5c1"
      },
      "execution_count": null,
      "outputs": [
        {
          "output_type": "stream",
          "name": "stdout",
          "text": [
            "Model: \"modelLSTM\"\n",
            "_________________________________________________________________\n",
            " Layer (type)                Output Shape              Param #   \n",
            "=================================================================\n",
            " input layer (InputLayer)    [(None,)]                 0         \n",
            "                                                                 \n",
            " text_vectorization_2 (Text  (None, 55)                0         \n",
            " Vectorization)                                                  \n",
            "                                                                 \n",
            " embedding_2 (Embedding)     (None, 55, 128)           7984640   \n",
            "                                                                 \n",
            " lstm_8 (LSTM)               (None, 32)                20608     \n",
            "                                                                 \n",
            " dropout_17 (Dropout)        (None, 32)                0         \n",
            "                                                                 \n",
            " output (Dense)              (None, 5)                 165       \n",
            "                                                                 \n",
            "=================================================================\n",
            "Total params: 8005413 (30.54 MB)\n",
            "Trainable params: 8005413 (30.54 MB)\n",
            "Non-trainable params: 0 (0.00 Byte)\n",
            "_________________________________________________________________\n"
          ]
        }
      ]
    },
    {
      "cell_type": "code",
      "source": [
        "tf.keras.utils.plot_model(modelLSTM)"
      ],
      "metadata": {
        "colab": {
          "base_uri": "https://localhost:8080/",
          "height": 564
        },
        "id": "kyjpzsWlldId",
        "outputId": "b0ca69fb-51ec-41ad-85c5-8ed287555d56"
      },
      "execution_count": null,
      "outputs": [
        {
          "output_type": "execute_result",
          "data": {
            "image/png": "[encoded data removed]",
            "text/plain": [
              "<IPython.core.display.Image object>"
            ]
          },
          "metadata": {},
          "execution_count": 104
        }
      ]
    },
    {
      "cell_type": "code",
      "source": [
        "modelLSTM.compile(loss=tf.keras.losses.categorical_crossentropy,optimizer=tf.keras.optimizers.Adam(),metrics=[\"accuracy\"])"
      ],
      "metadata": {
        "id": "29zJYETwVTmv"
      },
      "execution_count": null,
      "outputs": []
    },
    {
      "cell_type": "code",
      "source": [
        "startLSTM=time.time()\n",
        "historyLSTM=modelLSTM.fit(train,epochs=10,validation_data=val,callbacks=[es])\n",
        "endLSTM=time.time()"
      ],
      "metadata": {
        "colab": {
          "base_uri": "https://localhost:8080/"
        },
        "id": "S2vTLgJBVaHH",
        "outputId": "47aee3d5-dc1d-458b-dd18-e24f8dad65d7"
      },
      "execution_count": null,
      "outputs": [
        {
          "output_type": "stream",
          "name": "stdout",
          "text": [
            "Epoch 1/10\n",
            "5064/5064 [==============================] - 85s 16ms/step - loss: 0.6401 - accuracy: 0.7683 - val_loss: 0.5061 - val_accuracy: 0.8182\n",
            "Epoch 2/10\n",
            "5064/5064 [==============================] - 53s 10ms/step - loss: 0.4522 - accuracy: 0.8447 - val_loss: 0.5084 - val_accuracy: 0.8178\n",
            "Epoch 3/10\n",
            "5064/5064 [==============================] - 53s 10ms/step - loss: 0.3530 - accuracy: 0.8813 - val_loss: 0.5632 - val_accuracy: 0.8117\n",
            "Epoch 4/10\n",
            "5064/5064 [==============================] - 54s 11ms/step - loss: 0.2790 - accuracy: 0.9078 - val_loss: 0.6517 - val_accuracy: 0.8025\n"
          ]
        }
      ]
    },
    {
      "cell_type": "code",
      "source": [
        "eLSTM=evaluate(historyLSTM,startLSTM,endLSTM,modelLSTM,X_test,y_test)"
      ],
      "metadata": {
        "colab": {
          "base_uri": "https://localhost:8080/"
        },
        "id": "ydpbQVFkcv_S",
        "outputId": "90fd5225-2c61-44f7-c368-cf7aa3f471d4"
      },
      "execution_count": null,
      "outputs": [
        {
          "output_type": "stream",
          "name": "stdout",
          "text": [
            "942/942 [==============================] - 3s 3ms/step\n"
          ]
        }
      ]
    },
    {
      "cell_type": "markdown",
      "source": [
        "## GRU"
      ],
      "metadata": {
        "id": "gojyn5BF-b3J"
      }
    },
    {
      "cell_type": "code",
      "source": [
        "inputs=tf.keras.layers.Input(shape=[],dtype=\"string\",name=\"input layer\")\n",
        "x=text_vectorizer(inputs)\n",
        "x=embedding(x)\n",
        "x=tf.keras.layers.GRU(128)(x)\n",
        "x=tf.keras.layers.Dense(128,activation=\"relu\")(x)\n",
        "output=tf.keras.layers.Dense(5,activation=\"softmax\",name=\"output\")(x)\n",
        "modelGRU=tf.keras.Model(inputs,output,name=\"modelGRU\")"
      ],
      "metadata": {
        "id": "oQhY9YfmWk6j"
      },
      "execution_count": null,
      "outputs": []
    },
    {
      "cell_type": "code",
      "source": [
        "modelGRU.summary()"
      ],
      "metadata": {
        "colab": {
          "base_uri": "https://localhost:8080/"
        },
        "id": "B_EiO4QRtM9I",
        "outputId": "e9244079-a390-44c3-d398-5dcfbf1be1f6"
      },
      "execution_count": null,
      "outputs": [
        {
          "output_type": "stream",
          "name": "stdout",
          "text": [
            "Model: \"modelGRU\"\n",
            "_________________________________________________________________\n",
            " Layer (type)                Output Shape              Param #   \n",
            "=================================================================\n",
            " input layer (InputLayer)    [(None,)]                 0         \n",
            "                                                                 \n",
            " text_vectorization_2 (Text  (None, 55)                0         \n",
            " Vectorization)                                                  \n",
            "                                                                 \n",
            " embedding_2 (Embedding)     (None, 55, 128)           7984640   \n",
            "                                                                 \n",
            " gru (GRU)                   (None, 128)               99072     \n",
            "                                                                 \n",
            " dense_17 (Dense)            (None, 128)               16512     \n",
            "                                                                 \n",
            " output (Dense)              (None, 5)                 645       \n",
            "                                                                 \n",
            "=================================================================\n",
            "Total params: 8100869 (30.90 MB)\n",
            "Trainable params: 8100869 (30.90 MB)\n",
            "Non-trainable params: 0 (0.00 Byte)\n",
            "_________________________________________________________________\n"
          ]
        }
      ]
    },
    {
      "cell_type": "code",
      "source": [
        "modelGRU.compile(loss=tf.keras.losses.categorical_crossentropy,optimizer=tf.keras.optimizers.Adam(),metrics=[\"accuracy\"])"
      ],
      "metadata": {
        "id": "9sfrPQGQWqLZ"
      },
      "execution_count": null,
      "outputs": []
    },
    {
      "cell_type": "code",
      "source": [
        "startGru=time.time()\n",
        "historyGRU=modelGRU.fit(train,epochs=10,validation_data=val,callbacks=[es])\n",
        "endGRU=time.time()"
      ],
      "metadata": {
        "colab": {
          "base_uri": "https://localhost:8080/"
        },
        "id": "R159ZETlWsSn",
        "outputId": "ad89fd0e-5c2a-4722-f486-f8cb01ecdbce"
      },
      "execution_count": null,
      "outputs": [
        {
          "output_type": "stream",
          "name": "stdout",
          "text": [
            "Epoch 1/10\n",
            "5064/5064 [==============================] - 85s 16ms/step - loss: 0.2808 - accuracy: 0.9033 - val_loss: 0.6910 - val_accuracy: 0.7904\n",
            "Epoch 2/10\n",
            "5064/5064 [==============================] - 54s 11ms/step - loss: 0.1744 - accuracy: 0.9414 - val_loss: 0.8911 - val_accuracy: 0.7837\n",
            "Epoch 3/10\n",
            "5064/5064 [==============================] - 53s 10ms/step - loss: 0.1259 - accuracy: 0.9574 - val_loss: 1.1136 - val_accuracy: 0.7767\n",
            "Epoch 4/10\n",
            "5064/5064 [==============================] - 53s 11ms/step - loss: 0.0947 - accuracy: 0.9678 - val_loss: 1.2144 - val_accuracy: 0.7747\n"
          ]
        }
      ]
    },
    {
      "cell_type": "code",
      "source": [
        "eGRU=evaluate(historyGRU,startGru,endGRU,modelGRU,X_test,y_test)"
      ],
      "metadata": {
        "colab": {
          "base_uri": "https://localhost:8080/"
        },
        "id": "dOT6N3FakgPn",
        "outputId": "9e51535a-7e58-4e34-ee43-28edd16b5b6f"
      },
      "execution_count": null,
      "outputs": [
        {
          "output_type": "stream",
          "name": "stdout",
          "text": [
            "942/942 [==============================] - 3s 3ms/step\n"
          ]
        }
      ]
    },
    {
      "cell_type": "code",
      "source": [
        "eGRU"
      ],
      "metadata": {
        "colab": {
          "base_uri": "https://localhost:8080/"
        },
        "id": "LpSrB5Lyktdf",
        "outputId": "622b55fe-93cf-4033-d5fb-f9eba8b6743e"
      },
      "execution_count": null,
      "outputs": [
        {
          "output_type": "execute_result",
          "data": {
            "text/plain": [
              "{'accuracy': 0.7690061390409823,\n",
              " 'precision': 0.7690061390409823,\n",
              " 'f1_score': 0.7690061390409821,\n",
              " 'recall': 0.7690061390409823,\n",
              " 'Training Time': 4.50966510772705,\n",
              " 'Loss': [0.2584991157054901,\n",
              "  0.15341080725193024,\n",
              "  0.11111153662204742,\n",
              "  0.08539798110723495,\n",
              "  0.06666866689920425],\n",
              " 'Val Loss': [0.7727308869361877,\n",
              "  0.9882160425186157,\n",
              "  1.1312443017959595,\n",
              "  1.3564479351043701,\n",
              "  1.4182393550872803]}"
            ]
          },
          "metadata": {},
          "execution_count": 131
        }
      ]
    },
    {
      "cell_type": "markdown",
      "source": [
        "BiDirectional"
      ],
      "metadata": {
        "id": "6r9UiUQH-dqr"
      }
    },
    {
      "cell_type": "code",
      "source": [
        "inputs=tf.keras.layers.Input(shape=[],dtype=\"string\",name=\"input layer\")\n",
        "x=text_vectorizer(inputs)\n",
        "x=embedding(x)\n",
        "x=tf.keras.layers.Bidirectional(tf.keras.layers.LSTM(64))(x)\n",
        "output=tf.keras.layers.Dense(5,activation=\"softmax\",name=\"output\")(x)\n",
        "modelBi=tf.keras.Model(inputs,output,name=\"modelBi\")"
      ],
      "metadata": {
        "id": "cSltHZdzmD4w"
      },
      "execution_count": null,
      "outputs": []
    },
    {
      "cell_type": "code",
      "source": [
        "modelBi.compile(loss=tf.keras.losses.categorical_crossentropy,optimizer=tf.keras.optimizers.Adam(),metrics=[\"accuracy\"])"
      ],
      "metadata": {
        "id": "0bBrBB-gm_Dx"
      },
      "execution_count": null,
      "outputs": []
    },
    {
      "cell_type": "code",
      "source": [
        "startBi=time.time()\n",
        "historyBi=modelBi.fit(train,epochs=10,validation_data=val,callbacks=[es])\n",
        "endBi=time.time()"
      ],
      "metadata": {
        "colab": {
          "base_uri": "https://localhost:8080/"
        },
        "id": "33uESd8tnOk9",
        "outputId": "56d671c7-8bac-4297-d277-88c267b53a42"
      },
      "execution_count": null,
      "outputs": [
        {
          "output_type": "stream",
          "name": "stdout",
          "text": [
            "Epoch 1/10\n",
            "5064/5064 [==============================] - 109s 20ms/step - loss: 0.1808 - accuracy: 0.9392 - val_loss: 0.9204 - val_accuracy: 0.7729\n",
            "Epoch 2/10\n",
            "5064/5064 [==============================] - 70s 14ms/step - loss: 0.0947 - accuracy: 0.9682 - val_loss: 1.1240 - val_accuracy: 0.7662\n",
            "Epoch 3/10\n",
            "5064/5064 [==============================] - 70s 14ms/step - loss: 0.0682 - accuracy: 0.9775 - val_loss: 1.2534 - val_accuracy: 0.7702\n",
            "Epoch 4/10\n",
            "5064/5064 [==============================] - 70s 14ms/step - loss: 0.0534 - accuracy: 0.9825 - val_loss: 1.4381 - val_accuracy: 0.7670\n"
          ]
        }
      ]
    },
    {
      "cell_type": "code",
      "source": [
        "eBi=evaluate(historyBi,startBi,endBi,modelBi,X_test,y_test)"
      ],
      "metadata": {
        "colab": {
          "base_uri": "https://localhost:8080/"
        },
        "id": "QXzUGmhlnkxy",
        "outputId": "1c503ac2-18c8-46b1-f46c-215fe633f185"
      },
      "execution_count": null,
      "outputs": [
        {
          "output_type": "stream",
          "name": "stdout",
          "text": [
            "942/942 [==============================] - 4s 4ms/step\n"
          ]
        }
      ]
    },
    {
      "cell_type": "code",
      "source": [
        "eBi"
      ],
      "metadata": {
        "colab": {
          "base_uri": "https://localhost:8080/"
        },
        "id": "YwUanr7LnsKC",
        "outputId": "752ada28-c651-499a-c4d7-74a1cc9490a7"
      },
      "execution_count": null,
      "outputs": [
        {
          "output_type": "execute_result",
          "data": {
            "text/plain": [
              "{'accuracy': 0.763265306122449,\n",
              " 'precision': 0.763265306122449,\n",
              " 'f1_score': 0.7632653061224491,\n",
              " 'recall': 0.763265306122449,\n",
              " 'Training Time': 5.321403114000956,\n",
              " 'Loss': [0.18078245222568512,\n",
              "  0.09466154873371124,\n",
              "  0.06817422807216644,\n",
              "  0.053442928940057755],\n",
              " 'Val Loss': [0.9204418063163757,\n",
              "  1.1240004301071167,\n",
              "  1.2533787488937378,\n",
              "  1.4380998611450195]}"
            ]
          },
          "metadata": {},
          "execution_count": 121
        }
      ]
    },
    {
      "cell_type": "markdown",
      "source": [
        "# 2. Pretrained Embedding Models"
      ],
      "metadata": {
        "id": "pPYKV4_Qm8kb"
      }
    },
    {
      "cell_type": "markdown",
      "source": [
        "## USE"
      ],
      "metadata": {
        "id": "Bnco3Bqv-gU4"
      }
    },
    {
      "cell_type": "code",
      "source": [
        "sentence_encode_layer=tfh.KerasLayer(\"https://tfhub.dev/google/universal-sentence-encoder/4\",trainable=False)"
      ],
      "metadata": {
        "id": "RQ7HgowrPZBL"
      },
      "execution_count": null,
      "outputs": []
    },
    {
      "cell_type": "code",
      "source": [
        "inputs=tf.keras.layers.Input(shape=[],dtype=\"string\",name=\"input layer\")\n",
        "x=sentence_encode_layer(inputs)\n",
        "x=tf.keras.layers.Dense(256,activation=\"relu\")(x)\n",
        "output=tf.keras.layers.Dense(5,activation=\"softmax\",name=\"output\")(x)\n",
        "modeluse=tf.keras.Model(inputs,output,name=\"modeluse\")"
      ],
      "metadata": {
        "id": "E7ynQflJImp8"
      },
      "execution_count": null,
      "outputs": []
    },
    {
      "cell_type": "code",
      "source": [
        "modeluse.summary()"
      ],
      "metadata": {
        "colab": {
          "base_uri": "https://localhost:8080/"
        },
        "id": "3BWKPfRAKhpd",
        "outputId": "e18d3b4f-0030-44c3-8f62-4447ad56fd40"
      },
      "execution_count": null,
      "outputs": [
        {
          "output_type": "stream",
          "name": "stdout",
          "text": [
            "Model: \"modeluse\"\n",
            "_________________________________________________________________\n",
            " Layer (type)                Output Shape              Param #   \n",
            "=================================================================\n",
            " input layer (InputLayer)    [(None,)]                 0         \n",
            "                                                                 \n",
            " keras_layer_4 (KerasLayer)  (None, 512)               256797824 \n",
            "                                                                 \n",
            " dense_18 (Dense)            (None, 256)               131328    \n",
            "                                                                 \n",
            " output (Dense)              (None, 5)                 1285      \n",
            "                                                                 \n",
            "=================================================================\n",
            "Total params: 256930437 (980.11 MB)\n",
            "Trainable params: 132613 (518.02 KB)\n",
            "Non-trainable params: 256797824 (979.61 MB)\n",
            "_________________________________________________________________\n"
          ]
        }
      ]
    },
    {
      "cell_type": "code",
      "source": [
        "modeluse.compile(loss=tf.keras.losses.categorical_crossentropy,optimizer=tf.keras.optimizers.Adam(),metrics=[\"accuracy\"])"
      ],
      "metadata": {
        "id": "OS-8SZfpKwxz"
      },
      "execution_count": null,
      "outputs": []
    },
    {
      "cell_type": "code",
      "source": [
        "startuse=time.time()\n",
        "historyuse=modeluse.fit(train,epochs=50,validation_data=val,callbacks=[es])\n",
        "enduse=time.time()"
      ],
      "metadata": {
        "colab": {
          "base_uri": "https://localhost:8080/"
        },
        "id": "tm8DWcs7MJDl",
        "outputId": "a2effc28-3a69-484f-e860-32aeaee5a9c6"
      },
      "execution_count": null,
      "outputs": [
        {
          "output_type": "stream",
          "name": "stdout",
          "text": [
            "Epoch 1/50\n",
            "5064/5064 [==============================] - 54s 10ms/step - loss: 0.7106 - accuracy: 0.7280 - val_loss: 0.6387 - val_accuracy: 0.7594\n",
            "Epoch 2/50\n",
            "5064/5064 [==============================] - 49s 10ms/step - loss: 0.6157 - accuracy: 0.7668 - val_loss: 0.6086 - val_accuracy: 0.7707\n",
            "Epoch 3/50\n",
            "5064/5064 [==============================] - 49s 10ms/step - loss: 0.5771 - accuracy: 0.7823 - val_loss: 0.5988 - val_accuracy: 0.7749\n",
            "Epoch 4/50\n",
            "5064/5064 [==============================] - 49s 10ms/step - loss: 0.5486 - accuracy: 0.7935 - val_loss: 0.5965 - val_accuracy: 0.7770\n",
            "Epoch 5/50\n",
            "5064/5064 [==============================] - 50s 10ms/step - loss: 0.5255 - accuracy: 0.8033 - val_loss: 0.5989 - val_accuracy: 0.7758\n",
            "Epoch 6/50\n",
            "5064/5064 [==============================] - 50s 10ms/step - loss: 0.5053 - accuracy: 0.8114 - val_loss: 0.6053 - val_accuracy: 0.7748\n",
            "Epoch 7/50\n",
            "5064/5064 [==============================] - 50s 10ms/step - loss: 0.4875 - accuracy: 0.8182 - val_loss: 0.6129 - val_accuracy: 0.7722\n"
          ]
        }
      ]
    },
    {
      "cell_type": "code",
      "source": [
        "eUSE=evaluate(historyuse,startuse,enduse,modeluse,X_test,y_test)"
      ],
      "metadata": {
        "colab": {
          "base_uri": "https://localhost:8080/"
        },
        "id": "ne0jJgwdH9ER",
        "outputId": "851009b4-2ff2-4ab5-8151-eb82e0363914"
      },
      "execution_count": null,
      "outputs": [
        {
          "output_type": "stream",
          "name": "stdout",
          "text": [
            "942/942 [==============================] - 7s 8ms/step\n"
          ]
        }
      ]
    },
    {
      "cell_type": "markdown",
      "source": [
        "## Word 2 Vector"
      ],
      "metadata": {
        "id": "Uhyp8pEh-h7V"
      }
    },
    {
      "cell_type": "code",
      "source": [
        "word2vec=tf.keras.layers.Embedding(max_vocab_length,\n",
        "                                      128,\n",
        "                                      input_length=[],\n",
        "                                      name=\"w2v_embedding\")"
      ],
      "metadata": {
        "id": "ojsnkkVH46wF"
      },
      "execution_count": null,
      "outputs": []
    },
    {
      "cell_type": "code",
      "source": [
        "inputs=tf.keras.layers.Input(shape=[],dtype=\"string\",name=\"input layer\")\n",
        "x=text_vectorizer(inputs)\n",
        "x=word2vec(x)\n",
        "x=tf.keras.layers.Dense(256,activation=\"relu\")(x)\n",
        "x=tf.keras.layers.GlobalAveragePooling1D()(x)\n",
        "output=tf.keras.layers.Dense(5,activation=\"softmax\",name=\"output\")(x)\n",
        "modelword2vec=tf.keras.Model(inputs,output,name=\"modelw2v\")"
      ],
      "metadata": {
        "id": "YacVRnKE4Jds"
      },
      "execution_count": null,
      "outputs": []
    },
    {
      "cell_type": "code",
      "source": [
        "modelword2vec.compile(loss=tf.keras.losses.categorical_crossentropy,optimizer=tf.keras.optimizers.Adam(),metrics=[\"accuracy\"])"
      ],
      "metadata": {
        "id": "-YRaQnbm5yk6"
      },
      "execution_count": null,
      "outputs": []
    },
    {
      "cell_type": "code",
      "source": [
        "modelword2vec.summary()"
      ],
      "metadata": {
        "colab": {
          "base_uri": "https://localhost:8080/"
        },
        "id": "6z4kfxs98i8A",
        "outputId": "1f248e1c-df38-4372-8b35-8ea1b9d3c912"
      },
      "execution_count": null,
      "outputs": [
        {
          "output_type": "stream",
          "name": "stdout",
          "text": [
            "Model: \"modelw2v\"\n",
            "_________________________________________________________________\n",
            " Layer (type)                Output Shape              Param #   \n",
            "=================================================================\n",
            " input layer (InputLayer)    [(None,)]                 0         \n",
            "                                                                 \n",
            " text_vectorization_2 (Text  (None, 55)                0         \n",
            " Vectorization)                                                  \n",
            "                                                                 \n",
            " w2v_embedding (Embedding)   (None, 55, 128)           8925824   \n",
            "                                                                 \n",
            " dense_19 (Dense)            (None, 55, 256)           33024     \n",
            "                                                                 \n",
            " global_average_pooling1d_3  (None, 256)               0         \n",
            "  (GlobalAveragePooling1D)                                       \n",
            "                                                                 \n",
            " output (Dense)              (None, 5)                 1285      \n",
            "                                                                 \n",
            "=================================================================\n",
            "Total params: 8960133 (34.18 MB)\n",
            "Trainable params: 8960133 (34.18 MB)\n",
            "Non-trainable params: 0 (0.00 Byte)\n",
            "_________________________________________________________________\n"
          ]
        }
      ]
    },
    {
      "cell_type": "code",
      "source": [
        "startw2v=time.time()\n",
        "historyword2vec=modelword2vec.fit(train,epochs=50,validation_data=val,callbacks=[es])\n",
        "endw2v=time.time()"
      ],
      "metadata": {
        "colab": {
          "base_uri": "https://localhost:8080/"
        },
        "id": "fimkA3Y8704y",
        "outputId": "48accb1b-efdc-4575-b2f6-c01e8714161f"
      },
      "execution_count": null,
      "outputs": [
        {
          "output_type": "stream",
          "name": "stdout",
          "text": [
            "Epoch 1/50\n",
            "5064/5064 [==============================] - 56s 11ms/step - loss: 0.6376 - accuracy: 0.7649 - val_loss: 0.5627 - val_accuracy: 0.7994\n",
            "Epoch 2/50\n",
            "5064/5064 [==============================] - 28s 6ms/step - loss: 0.4785 - accuracy: 0.8314 - val_loss: 0.5801 - val_accuracy: 0.7953\n",
            "Epoch 3/50\n",
            "5064/5064 [==============================] - 28s 6ms/step - loss: 0.4069 - accuracy: 0.8602 - val_loss: 0.6308 - val_accuracy: 0.7855\n",
            "Epoch 4/50\n",
            "5064/5064 [==============================] - 28s 6ms/step - loss: 0.3565 - accuracy: 0.8798 - val_loss: 0.6953 - val_accuracy: 0.7747\n"
          ]
        }
      ]
    },
    {
      "cell_type": "code",
      "source": [
        "ew2v=evaluate(historyword2vec,startw2v,endw2v,modelword2vec,X_test,y_test)"
      ],
      "metadata": {
        "colab": {
          "base_uri": "https://localhost:8080/"
        },
        "id": "x5quWKYZIswo",
        "outputId": "14a1c71e-d85e-4db6-bd14-3e7be8649324"
      },
      "execution_count": null,
      "outputs": [
        {
          "output_type": "stream",
          "name": "stdout",
          "text": [
            "942/942 [==============================] - 2s 2ms/step\n"
          ]
        }
      ]
    },
    {
      "cell_type": "markdown",
      "source": [
        "# CNN Model"
      ],
      "metadata": {
        "id": "d90I3F3M-W68"
      }
    },
    {
      "cell_type": "code",
      "source": [
        "inputs=tf.keras.layers.Input(shape=[],dtype=\"string\",name=\"input layer\")\n",
        "x=text_vectorizer(inputs)\n",
        "x=embedding(x)\n",
        "x=tf.keras.layers.Conv1D(32,5)(x)\n",
        "x=tf.keras.layers.MaxPool1D()(x)\n",
        "x=tf.keras.layers.Dropout(0.4)(x)\n",
        "x=tf.keras.layers.GlobalAveragePooling1D()(x)\n",
        "output=tf.keras.layers.Dense(5,activation=\"softmax\",name=\"output\")(x)\n",
        "modelCNN=tf.keras.Model(inputs,output,name=\"modelCNN\")"
      ],
      "metadata": {
        "id": "XOu5P4UT-Woa"
      },
      "execution_count": null,
      "outputs": []
    },
    {
      "cell_type": "code",
      "source": [
        "modelCNN.summary()"
      ],
      "metadata": {
        "colab": {
          "base_uri": "https://localhost:8080/"
        },
        "id": "uLQtG5aC-cEu",
        "outputId": "3cab009c-3298-49de-9626-722423d75335"
      },
      "execution_count": null,
      "outputs": [
        {
          "output_type": "stream",
          "name": "stdout",
          "text": [
            "Model: \"modelCNN\"\n",
            "_________________________________________________________________\n",
            " Layer (type)                Output Shape              Param #   \n",
            "=================================================================\n",
            " input layer (InputLayer)    [(None,)]                 0         \n",
            "                                                                 \n",
            " text_vectorization_2 (Text  (None, 55)                0         \n",
            " Vectorization)                                                  \n",
            "                                                                 \n",
            " embedding_2 (Embedding)     (None, 55, 128)           7984640   \n",
            "                                                                 \n",
            " conv1d (Conv1D)             (None, 51, 32)            20512     \n",
            "                                                                 \n",
            " max_pooling1d (MaxPooling1  (None, 25, 32)            0         \n",
            " D)                                                              \n",
            "                                                                 \n",
            " dropout_18 (Dropout)        (None, 25, 32)            0         \n",
            "                                                                 \n",
            " global_average_pooling1d_4  (None, 32)                0         \n",
            "  (GlobalAveragePooling1D)                                       \n",
            "                                                                 \n",
            " output (Dense)              (None, 5)                 165       \n",
            "                                                                 \n",
            "=================================================================\n",
            "Total params: 8005317 (30.54 MB)\n",
            "Trainable params: 8005317 (30.54 MB)\n",
            "Non-trainable params: 0 (0.00 Byte)\n",
            "_________________________________________________________________\n"
          ]
        }
      ]
    },
    {
      "cell_type": "code",
      "source": [
        "modelCNN.compile(loss=tf.keras.losses.categorical_crossentropy,optimizer=tf.keras.optimizers.SGD(),metrics=[\"accuracy\"])"
      ],
      "metadata": {
        "id": "r-zepLPF-5Ks"
      },
      "execution_count": null,
      "outputs": []
    },
    {
      "cell_type": "code",
      "source": [
        "startcnn=time.time()\n",
        "historycnn=modelCNN.fit(train,epochs=50,validation_data=val,callbacks=[es])\n",
        "endcnn=time.time()"
      ],
      "metadata": {
        "colab": {
          "base_uri": "https://localhost:8080/"
        },
        "id": "gu8KA9JJ-99y",
        "outputId": "191993d8-cf4b-4958-81f0-04463366dcff"
      },
      "execution_count": null,
      "outputs": [
        {
          "output_type": "stream",
          "name": "stdout",
          "text": [
            "Epoch 1/50\n",
            "5064/5064 [==============================] - 45s 8ms/step - loss: 0.8882 - accuracy: 0.6908 - val_loss: 0.7327 - val_accuracy: 0.7245\n",
            "Epoch 2/50\n",
            "5064/5064 [==============================] - 24s 5ms/step - loss: 0.5871 - accuracy: 0.7927 - val_loss: 0.6830 - val_accuracy: 0.7435\n",
            "Epoch 3/50\n",
            "5064/5064 [==============================] - 23s 5ms/step - loss: 0.5250 - accuracy: 0.8159 - val_loss: 0.6687 - val_accuracy: 0.7529\n",
            "Epoch 4/50\n",
            "5064/5064 [==============================] - 23s 5ms/step - loss: 0.4901 - accuracy: 0.8283 - val_loss: 0.6649 - val_accuracy: 0.7589\n",
            "Epoch 5/50\n",
            "5064/5064 [==============================] - 23s 5ms/step - loss: 0.4693 - accuracy: 0.8369 - val_loss: 0.6650 - val_accuracy: 0.7633\n",
            "Epoch 6/50\n",
            "5064/5064 [==============================] - 23s 5ms/step - loss: 0.4534 - accuracy: 0.8424 - val_loss: 0.6653 - val_accuracy: 0.7678\n",
            "Epoch 7/50\n",
            "5064/5064 [==============================] - 23s 5ms/step - loss: 0.4419 - accuracy: 0.8463 - val_loss: 0.6678 - val_accuracy: 0.7692\n",
            "Epoch 8/50\n",
            "5064/5064 [==============================] - 25s 5ms/step - loss: 0.4335 - accuracy: 0.8491 - val_loss: 0.6670 - val_accuracy: 0.7695\n",
            "Epoch 9/50\n",
            "5064/5064 [==============================] - 25s 5ms/step - loss: 0.4244 - accuracy: 0.8535 - val_loss: 0.6786 - val_accuracy: 0.7647\n",
            "Epoch 10/50\n",
            "5064/5064 [==============================] - 24s 5ms/step - loss: 0.4172 - accuracy: 0.8557 - val_loss: 0.6728 - val_accuracy: 0.7720\n",
            "Epoch 11/50\n",
            "5064/5064 [==============================] - 24s 5ms/step - loss: 0.4109 - accuracy: 0.8572 - val_loss: 0.6690 - val_accuracy: 0.7728\n",
            "Epoch 12/50\n",
            "5064/5064 [==============================] - 23s 5ms/step - loss: 0.4050 - accuracy: 0.8593 - val_loss: 0.6690 - val_accuracy: 0.7729\n",
            "Epoch 13/50\n",
            "5064/5064 [==============================] - 24s 5ms/step - loss: 0.3999 - accuracy: 0.8618 - val_loss: 0.6708 - val_accuracy: 0.7726\n",
            "Epoch 14/50\n",
            "5064/5064 [==============================] - 24s 5ms/step - loss: 0.3971 - accuracy: 0.8625 - val_loss: 0.6567 - val_accuracy: 0.7783\n",
            "Epoch 15/50\n",
            "5064/5064 [==============================] - 24s 5ms/step - loss: 0.3913 - accuracy: 0.8656 - val_loss: 0.6643 - val_accuracy: 0.7759\n",
            "Epoch 16/50\n",
            "5064/5064 [==============================] - 24s 5ms/step - loss: 0.3866 - accuracy: 0.8667 - val_loss: 0.6572 - val_accuracy: 0.7804\n",
            "Epoch 17/50\n",
            "5064/5064 [==============================] - 23s 5ms/step - loss: 0.3839 - accuracy: 0.8667 - val_loss: 0.6583 - val_accuracy: 0.7799\n",
            "Epoch 18/50\n",
            "5064/5064 [==============================] - 23s 5ms/step - loss: 0.3808 - accuracy: 0.8695 - val_loss: 0.6575 - val_accuracy: 0.7804\n",
            "Epoch 19/50\n",
            "5064/5064 [==============================] - 24s 5ms/step - loss: 0.3765 - accuracy: 0.8707 - val_loss: 0.6611 - val_accuracy: 0.7808\n",
            "Epoch 20/50\n",
            "5064/5064 [==============================] - 24s 5ms/step - loss: 0.3750 - accuracy: 0.8710 - val_loss: 0.6603 - val_accuracy: 0.7823\n",
            "Epoch 21/50\n",
            "5064/5064 [==============================] - 24s 5ms/step - loss: 0.3723 - accuracy: 0.8718 - val_loss: 0.6714 - val_accuracy: 0.7780\n",
            "Epoch 22/50\n",
            "5064/5064 [==============================] - 24s 5ms/step - loss: 0.3697 - accuracy: 0.8733 - val_loss: 0.6602 - val_accuracy: 0.7794\n",
            "Epoch 23/50\n",
            "5064/5064 [==============================] - 23s 5ms/step - loss: 0.3684 - accuracy: 0.8739 - val_loss: 0.6537 - val_accuracy: 0.7834\n",
            "Epoch 24/50\n",
            "5064/5064 [==============================] - 24s 5ms/step - loss: 0.3656 - accuracy: 0.8741 - val_loss: 0.6549 - val_accuracy: 0.7840\n",
            "Epoch 25/50\n",
            "5064/5064 [==============================] - 23s 5ms/step - loss: 0.3635 - accuracy: 0.8741 - val_loss: 0.6613 - val_accuracy: 0.7830\n",
            "Epoch 26/50\n",
            "5064/5064 [==============================] - 23s 5ms/step - loss: 0.3612 - accuracy: 0.8762 - val_loss: 0.6518 - val_accuracy: 0.7852\n",
            "Epoch 27/50\n",
            "5064/5064 [==============================] - 23s 5ms/step - loss: 0.3576 - accuracy: 0.8773 - val_loss: 0.6659 - val_accuracy: 0.7847\n",
            "Epoch 28/50\n",
            "5064/5064 [==============================] - 24s 5ms/step - loss: 0.3577 - accuracy: 0.8768 - val_loss: 0.6571 - val_accuracy: 0.7834\n",
            "Epoch 29/50\n",
            "5064/5064 [==============================] - 24s 5ms/step - loss: 0.3550 - accuracy: 0.8782 - val_loss: 0.6559 - val_accuracy: 0.7865\n",
            "Epoch 30/50\n",
            "5064/5064 [==============================] - 23s 5ms/step - loss: 0.3540 - accuracy: 0.8779 - val_loss: 0.6529 - val_accuracy: 0.7854\n",
            "Epoch 31/50\n",
            "5064/5064 [==============================] - 23s 5ms/step - loss: 0.3517 - accuracy: 0.8791 - val_loss: 0.6617 - val_accuracy: 0.7850\n",
            "Epoch 32/50\n",
            "5064/5064 [==============================] - 24s 5ms/step - loss: 0.3508 - accuracy: 0.8792 - val_loss: 0.6640 - val_accuracy: 0.7857\n"
          ]
        }
      ]
    },
    {
      "cell_type": "code",
      "source": [
        "ecnn=evaluate(historycnn,startcnn,endcnn,modelCNN,X_test,y_test)"
      ],
      "metadata": {
        "colab": {
          "base_uri": "https://localhost:8080/"
        },
        "id": "WnBHbH4dMJuA",
        "outputId": "5843276f-3e38-4854-c317-ad60ee1ba132"
      },
      "execution_count": null,
      "outputs": [
        {
          "output_type": "stream",
          "name": "stdout",
          "text": [
            "942/942 [==============================] - 2s 2ms/step\n"
          ]
        }
      ]
    },
    {
      "cell_type": "markdown",
      "source": [
        "# Hybrid Models"
      ],
      "metadata": {
        "id": "fQ3vZE8RxoDo"
      }
    },
    {
      "cell_type": "markdown",
      "source": [
        "Now we will create hybrid models, with different structures. Our first hybrid model will take token embeddings, order of sentences, and sentence embeddings as inputs. Our second model will use word2vec for token embeddings, the remaining parts are the same. Finally, we will design a very similar model to the original paper's model which takes a token and character embedding as input. (Paper:https://arxiv.org/pdf/1612.05251.pdf)"
      ],
      "metadata": {
        "id": "CQw11KIj-kXj"
      }
    },
    {
      "cell_type": "markdown",
      "source": [
        "##Data Preperation for Hybrid Models"
      ],
      "metadata": {
        "id": "Xv8Lmxu9KyXW"
      }
    },
    {
      "cell_type": "code",
      "source": [
        "def space(data):\n",
        "  return \" \".join(list(data))"
      ],
      "metadata": {
        "id": "ATw47xlt6Kos"
      },
      "execution_count": null,
      "outputs": []
    },
    {
      "cell_type": "code",
      "source": [
        "from string import digits,punctuation,ascii_letters,ascii_lowercase"
      ],
      "metadata": {
        "id": "Yw_8SxKK5K0f"
      },
      "execution_count": null,
      "outputs": []
    },
    {
      "cell_type": "code",
      "source": [
        "train_data[\"chars\"]=train_data[\"text\"].apply(space)\n"
      ],
      "metadata": {
        "id": "OcZw1Mlu6SzX"
      },
      "execution_count": null,
      "outputs": []
    },
    {
      "cell_type": "code",
      "source": [
        "test_data[\"chars\"]=test_data[\"text\"].apply(space)"
      ],
      "metadata": {
        "id": "iJlLYyUAMcCB"
      },
      "execution_count": null,
      "outputs": []
    },
    {
      "cell_type": "code",
      "source": [
        "test_data"
      ],
      "metadata": {
        "colab": {
          "base_uri": "https://localhost:8080/",
          "height": 424
        },
        "id": "B5-4q0VhMcvf",
        "outputId": "265fee5a-c588-4c43-cae1-a86ac4ac622d"
      },
      "execution_count": null,
      "outputs": [
        {
          "output_type": "execute_result",
          "data": {
            "text/plain": [
              "                                                    text        label  \\\n",
              "0      This study analyzed liver function abnormaliti...   BACKGROUND   \n",
              "1      A post hoc analysis was conducted with the use...      RESULTS   \n",
              "2      Liver function tests ( LFTs ) were measured at...      RESULTS   \n",
              "3      Survival analyses were used to assess the asso...      RESULTS   \n",
              "4      The percentage of patients with abnormal LFTs ...      RESULTS   \n",
              "...                                                  ...          ...   \n",
              "30130  There was a statistically significant between-...      RESULTS   \n",
              "30131  There were no statistically significant betwee...      RESULTS   \n",
              "30132  There was no significant association between s...      RESULTS   \n",
              "30133                 No adverse effects were reported .      RESULTS   \n",
              "30134  Performing a @-week do-as-tolerated program of...  CONCLUSIONS   \n",
              "\n",
              "             id  order                                              chars  \n",
              "0      24845963      1  T h i s   s t u d y   a n a l y z e d   l i v ...  \n",
              "1      24845963      2  A   p o s t   h o c   a n a l y s i s   w a s ...  \n",
              "2      24845963      3  L i v e r   f u n c t i o n   t e s t s   (   ...  \n",
              "3      24845963      4  S u r v i v a l   a n a l y s e s   w e r e   ...  \n",
              "4      24845963      5  T h e   p e r c e n t a g e   o f   p a t i e ...  \n",
              "...         ...    ...                                                ...  \n",
              "30130  24261927     14  T h e r e   w a s   a   s t a t i s t i c a l ...  \n",
              "30131  24261927     15  T h e r e   w e r e   n o   s t a t i s t i c ...  \n",
              "30132  24261927     16  T h e r e   w a s   n o   s i g n i f i c a n ...  \n",
              "30133  24261927     17  N o   a d v e r s e   e f f e c t s   w e r e ...  \n",
              "30134  24261927     18  P e r f o r m i n g   a   @ - w e e k   d o - ...  \n",
              "\n",
              "[30135 rows x 5 columns]"
            ],
            "text/html": [
              "\n",
              "  <div id=\"df-c032b905-f99d-4366-968a-c92e8ea6de5d\" class=\"colab-df-container\">\n",
              "    <div>\n",
              "<style scoped>\n",
              "    .dataframe tbody tr th:only-of-type {\n",
              "        vertical-align: middle;\n",
              "    }\n",
              "\n",
              "    .dataframe tbody tr th {\n",
              "        vertical-align: top;\n",
              "    }\n",
              "\n",
              "    .dataframe thead th {\n",
              "        text-align: right;\n",
              "    }\n",
              "</style>\n",
              "<table border=\"1\" class=\"dataframe\">\n",
              "  <thead>\n",
              "    <tr style=\"text-align: right;\">\n",
              "      <th></th>\n",
              "      <th>text</th>\n",
              "      <th>label</th>\n",
              "      <th>id</th>\n",
              "      <th>order</th>\n",
              "      <th>chars</th>\n",
              "    </tr>\n",
              "  </thead>\n",
              "  <tbody>\n",
              "    <tr>\n",
              "      <th>0</th>\n",
              "      <td>This study analyzed liver function abnormaliti...</td>\n",
              "      <td>BACKGROUND</td>\n",
              "      <td>24845963</td>\n",
              "      <td>1</td>\n",
              "      <td>T h i s   s t u d y   a n a l y z e d   l i v ...</td>\n",
              "    </tr>\n",
              "    <tr>\n",
              "      <th>1</th>\n",
              "      <td>A post hoc analysis was conducted with the use...</td>\n",
              "      <td>RESULTS</td>\n",
              "      <td>24845963</td>\n",
              "      <td>2</td>\n",
              "      <td>A   p o s t   h o c   a n a l y s i s   w a s ...</td>\n",
              "    </tr>\n",
              "    <tr>\n",
              "      <th>2</th>\n",
              "      <td>Liver function tests ( LFTs ) were measured at...</td>\n",
              "      <td>RESULTS</td>\n",
              "      <td>24845963</td>\n",
              "      <td>3</td>\n",
              "      <td>L i v e r   f u n c t i o n   t e s t s   (   ...</td>\n",
              "    </tr>\n",
              "    <tr>\n",
              "      <th>3</th>\n",
              "      <td>Survival analyses were used to assess the asso...</td>\n",
              "      <td>RESULTS</td>\n",
              "      <td>24845963</td>\n",
              "      <td>4</td>\n",
              "      <td>S u r v i v a l   a n a l y s e s   w e r e   ...</td>\n",
              "    </tr>\n",
              "    <tr>\n",
              "      <th>4</th>\n",
              "      <td>The percentage of patients with abnormal LFTs ...</td>\n",
              "      <td>RESULTS</td>\n",
              "      <td>24845963</td>\n",
              "      <td>5</td>\n",
              "      <td>T h e   p e r c e n t a g e   o f   p a t i e ...</td>\n",
              "    </tr>\n",
              "    <tr>\n",
              "      <th>...</th>\n",
              "      <td>...</td>\n",
              "      <td>...</td>\n",
              "      <td>...</td>\n",
              "      <td>...</td>\n",
              "      <td>...</td>\n",
              "    </tr>\n",
              "    <tr>\n",
              "      <th>30130</th>\n",
              "      <td>There was a statistically significant between-...</td>\n",
              "      <td>RESULTS</td>\n",
              "      <td>24261927</td>\n",
              "      <td>14</td>\n",
              "      <td>T h e r e   w a s   a   s t a t i s t i c a l ...</td>\n",
              "    </tr>\n",
              "    <tr>\n",
              "      <th>30131</th>\n",
              "      <td>There were no statistically significant betwee...</td>\n",
              "      <td>RESULTS</td>\n",
              "      <td>24261927</td>\n",
              "      <td>15</td>\n",
              "      <td>T h e r e   w e r e   n o   s t a t i s t i c ...</td>\n",
              "    </tr>\n",
              "    <tr>\n",
              "      <th>30132</th>\n",
              "      <td>There was no significant association between s...</td>\n",
              "      <td>RESULTS</td>\n",
              "      <td>24261927</td>\n",
              "      <td>16</td>\n",
              "      <td>T h e r e   w a s   n o   s i g n i f i c a n ...</td>\n",
              "    </tr>\n",
              "    <tr>\n",
              "      <th>30133</th>\n",
              "      <td>No adverse effects were reported .</td>\n",
              "      <td>RESULTS</td>\n",
              "      <td>24261927</td>\n",
              "      <td>17</td>\n",
              "      <td>N o   a d v e r s e   e f f e c t s   w e r e ...</td>\n",
              "    </tr>\n",
              "    <tr>\n",
              "      <th>30134</th>\n",
              "      <td>Performing a @-week do-as-tolerated program of...</td>\n",
              "      <td>CONCLUSIONS</td>\n",
              "      <td>24261927</td>\n",
              "      <td>18</td>\n",
              "      <td>P e r f o r m i n g   a   @ - w e e k   d o - ...</td>\n",
              "    </tr>\n",
              "  </tbody>\n",
              "</table>\n",
              "<p>30135 rows × 5 columns</p>\n",
              "</div>\n",
              "    <div class=\"colab-df-buttons\">\n",
              "\n",
              "  <div class=\"colab-df-container\">\n",
              "    <button class=\"colab-df-convert\" onclick=\"convertToInteractive('df-c032b905-f99d-4366-968a-c92e8ea6de5d')\"\n",
              "            title=\"Convert this dataframe to an interactive table.\"\n",
              "            style=\"display:none;\">\n",
              "\n",
              "  <svg xmlns=\"http://www.w3.org/2000/svg\" height=\"24px\" viewBox=\"0 -960 960 960\">\n",
              "    <path d=\"M120-120v-720h720v720H120Zm60-500h600v-160H180v160Zm220 220h160v-160H400v160Zm0 220h160v-160H400v160ZM180-400h160v-160H180v160Zm440 0h160v-160H620v160ZM180-180h160v-160H180v160Zm440 0h160v-160H620v160Z\"/>\n",
              "  </svg>\n",
              "    </button>\n",
              "\n",
              "  <style>\n",
              "    .colab-df-container {\n",
              "      display:flex;\n",
              "      gap: 12px;\n",
              "    }\n",
              "\n",
              "    .colab-df-convert {\n",
              "      background-color: #E8F0FE;\n",
              "      border: none;\n",
              "      border-radius: 50%;\n",
              "      cursor: pointer;\n",
              "      display: none;\n",
              "      fill: #1967D2;\n",
              "      height: 32px;\n",
              "      padding: 0 0 0 0;\n",
              "      width: 32px;\n",
              "    }\n",
              "\n",
              "    .colab-df-convert:hover {\n",
              "      background-color: #E2EBFA;\n",
              "      box-shadow: 0px 1px 2px rgba(60, 64, 67, 0.3), 0px 1px 3px 1px rgba(60, 64, 67, 0.15);\n",
              "      fill: #174EA6;\n",
              "    }\n",
              "\n",
              "    .colab-df-buttons div {\n",
              "      margin-bottom: 4px;\n",
              "    }\n",
              "\n",
              "    [theme=dark] .colab-df-convert {\n",
              "      background-color: #3B4455;\n",
              "      fill: #D2E3FC;\n",
              "    }\n",
              "\n",
              "    [theme=dark] .colab-df-convert:hover {\n",
              "      background-color: #434B5C;\n",
              "      box-shadow: 0px 1px 3px 1px rgba(0, 0, 0, 0.15);\n",
              "      filter: drop-shadow(0px 1px 2px rgba(0, 0, 0, 0.3));\n",
              "      fill: #FFFFFF;\n",
              "    }\n",
              "  </style>\n",
              "\n",
              "    <script>\n",
              "      const buttonEl =\n",
              "        document.querySelector('#df-c032b905-f99d-4366-968a-c92e8ea6de5d button.colab-df-convert');\n",
              "      buttonEl.style.display =\n",
              "        google.colab.kernel.accessAllowed ? 'block' : 'none';\n",
              "\n",
              "      async function convertToInteractive(key) {\n",
              "        const element = document.querySelector('#df-c032b905-f99d-4366-968a-c92e8ea6de5d');\n",
              "        const dataTable =\n",
              "          await google.colab.kernel.invokeFunction('convertToInteractive',\n",
              "                                                    [key], {});\n",
              "        if (!dataTable) return;\n",
              "\n",
              "        const docLinkHtml = 'Like what you see? Visit the ' +\n",
              "          '<a target=\"_blank\" href=https://colab.research.google.com/notebooks/data_table.ipynb>data table notebook</a>'\n",
              "          + ' to learn more about interactive tables.';\n",
              "        element.innerHTML = '';\n",
              "        dataTable['output_type'] = 'display_data';\n",
              "        await google.colab.output.renderOutput(dataTable, element);\n",
              "        const docLink = document.createElement('div');\n",
              "        docLink.innerHTML = docLinkHtml;\n",
              "        element.appendChild(docLink);\n",
              "      }\n",
              "    </script>\n",
              "  </div>\n",
              "\n",
              "\n",
              "<div id=\"df-4672d843-ab79-4be2-b4f1-a62db49451b2\">\n",
              "  <button class=\"colab-df-quickchart\" onclick=\"quickchart('df-4672d843-ab79-4be2-b4f1-a62db49451b2')\"\n",
              "            title=\"Suggest charts.\"\n",
              "            style=\"display:none;\">\n",
              "\n",
              "<svg xmlns=\"http://www.w3.org/2000/svg\" height=\"24px\"viewBox=\"0 0 24 24\"\n",
              "     width=\"24px\">\n",
              "    <g>\n",
              "        <path d=\"M19 3H5c-1.1 0-2 .9-2 2v14c0 1.1.9 2 2 2h14c1.1 0 2-.9 2-2V5c0-1.1-.9-2-2-2zM9 17H7v-7h2v7zm4 0h-2V7h2v10zm4 0h-2v-4h2v4z\"/>\n",
              "    </g>\n",
              "</svg>\n",
              "  </button>\n",
              "\n",
              "<style>\n",
              "  .colab-df-quickchart {\n",
              "      --bg-color: #E8F0FE;\n",
              "      --fill-color: #1967D2;\n",
              "      --hover-bg-color: #E2EBFA;\n",
              "      --hover-fill-color: #174EA6;\n",
              "      --disabled-fill-color: #AAA;\n",
              "      --disabled-bg-color: #DDD;\n",
              "  }\n",
              "\n",
              "  [theme=dark] .colab-df-quickchart {\n",
              "      --bg-color: #3B4455;\n",
              "      --fill-color: #D2E3FC;\n",
              "      --hover-bg-color: #434B5C;\n",
              "      --hover-fill-color: #FFFFFF;\n",
              "      --disabled-bg-color: #3B4455;\n",
              "      --disabled-fill-color: #666;\n",
              "  }\n",
              "\n",
              "  .colab-df-quickchart {\n",
              "    background-color: var(--bg-color);\n",
              "    border: none;\n",
              "    border-radius: 50%;\n",
              "    cursor: pointer;\n",
              "    display: none;\n",
              "    fill: var(--fill-color);\n",
              "    height: 32px;\n",
              "    padding: 0;\n",
              "    width: 32px;\n",
              "  }\n",
              "\n",
              "  .colab-df-quickchart:hover {\n",
              "    background-color: var(--hover-bg-color);\n",
              "    box-shadow: 0 1px 2px rgba(60, 64, 67, 0.3), 0 1px 3px 1px rgba(60, 64, 67, 0.15);\n",
              "    fill: var(--button-hover-fill-color);\n",
              "  }\n",
              "\n",
              "  .colab-df-quickchart-complete:disabled,\n",
              "  .colab-df-quickchart-complete:disabled:hover {\n",
              "    background-color: var(--disabled-bg-color);\n",
              "    fill: var(--disabled-fill-color);\n",
              "    box-shadow: none;\n",
              "  }\n",
              "\n",
              "  .colab-df-spinner {\n",
              "    border: 2px solid var(--fill-color);\n",
              "    border-color: transparent;\n",
              "    border-bottom-color: var(--fill-color);\n",
              "    animation:\n",
              "      spin 1s steps(1) infinite;\n",
              "  }\n",
              "\n",
              "  @keyframes spin {\n",
              "    0% {\n",
              "      border-color: transparent;\n",
              "      border-bottom-color: var(--fill-color);\n",
              "      border-left-color: var(--fill-color);\n",
              "    }\n",
              "    20% {\n",
              "      border-color: transparent;\n",
              "      border-left-color: var(--fill-color);\n",
              "      border-top-color: var(--fill-color);\n",
              "    }\n",
              "    30% {\n",
              "      border-color: transparent;\n",
              "      border-left-color: var(--fill-color);\n",
              "      border-top-color: var(--fill-color);\n",
              "      border-right-color: var(--fill-color);\n",
              "    }\n",
              "    40% {\n",
              "      border-color: transparent;\n",
              "      border-right-color: var(--fill-color);\n",
              "      border-top-color: var(--fill-color);\n",
              "    }\n",
              "    60% {\n",
              "      border-color: transparent;\n",
              "      border-right-color: var(--fill-color);\n",
              "    }\n",
              "    80% {\n",
              "      border-color: transparent;\n",
              "      border-right-color: var(--fill-color);\n",
              "      border-bottom-color: var(--fill-color);\n",
              "    }\n",
              "    90% {\n",
              "      border-color: transparent;\n",
              "      border-bottom-color: var(--fill-color);\n",
              "    }\n",
              "  }\n",
              "</style>\n",
              "\n",
              "  <script>\n",
              "    async function quickchart(key) {\n",
              "      const quickchartButtonEl =\n",
              "        document.querySelector('#' + key + ' button');\n",
              "      quickchartButtonEl.disabled = true;  // To prevent multiple clicks.\n",
              "      quickchartButtonEl.classList.add('colab-df-spinner');\n",
              "      try {\n",
              "        const charts = await google.colab.kernel.invokeFunction(\n",
              "            'suggestCharts', [key], {});\n",
              "      } catch (error) {\n",
              "        console.error('Error during call to suggestCharts:', error);\n",
              "      }\n",
              "      quickchartButtonEl.classList.remove('colab-df-spinner');\n",
              "      quickchartButtonEl.classList.add('colab-df-quickchart-complete');\n",
              "    }\n",
              "    (() => {\n",
              "      let quickchartButtonEl =\n",
              "        document.querySelector('#df-4672d843-ab79-4be2-b4f1-a62db49451b2 button');\n",
              "      quickchartButtonEl.style.display =\n",
              "        google.colab.kernel.accessAllowed ? 'block' : 'none';\n",
              "    })();\n",
              "  </script>\n",
              "</div>\n",
              "    </div>\n",
              "  </div>\n"
            ]
          },
          "metadata": {},
          "execution_count": 141
        }
      ]
    },
    {
      "cell_type": "code",
      "source": [
        "train_data"
      ],
      "metadata": {
        "colab": {
          "base_uri": "https://localhost:8080/",
          "height": 424
        },
        "id": "UveBOgwA6Xty",
        "outputId": "eec1f459-00d4-46ed-ee31-3fb3a1243169"
      },
      "execution_count": null,
      "outputs": [
        {
          "output_type": "execute_result",
          "data": {
            "text/plain": [
              "                                                     text        label  \\\n",
              "0       To investigate the efficacy of @ weeks of dail...    OBJECTIVE   \n",
              "1       A total of @ patients with primary knee OA wer...      METHODS   \n",
              "2       Outcome measures included pain reduction and i...      METHODS   \n",
              "3       Pain was assessed using the visual analog pain...      METHODS   \n",
              "4       Secondary outcome measures included the Wester...      METHODS   \n",
              "...                                                   ...          ...   \n",
              "180035  For the absolute change in percent atheroma vo...      RESULTS   \n",
              "180036  For PAV , a significantly greater percentage o...      RESULTS   \n",
              "180037  Both strategies had acceptable side effect pro...      RESULTS   \n",
              "180038  Compared with standard statin monotherapy , th...  CONCLUSIONS   \n",
              "180039  ( Plaque Regression With Cholesterol Absorptio...  CONCLUSIONS   \n",
              "\n",
              "              id  order                                              chars  \n",
              "0       24293578      1  T o   i n v e s t i g a t e   t h e   e f f i ...  \n",
              "1       24293578      2  A   t o t a l   o f   @   p a t i e n t s   w ...  \n",
              "2       24293578      3  O u t c o m e   m e a s u r e s   i n c l u d ...  \n",
              "3       24293578      4  P a i n   w a s   a s s e s s e d   u s i n g ...  \n",
              "4       24293578      5  S e c o n d a r y   o u t c o m e   m e a s u ...  \n",
              "...          ...    ...                                                ...  \n",
              "180035  26227186      8  F o r   t h e   a b s o l u t e   c h a n g e ...  \n",
              "180036  26227186      9  F o r   P A V   ,   a   s i g n i f i c a n t ...  \n",
              "180037  26227186     10  B o t h   s t r a t e g i e s   h a d   a c c ...  \n",
              "180038  26227186     11  C o m p a r e d   w i t h   s t a n d a r d   ...  \n",
              "180039  26227186     12  (   P l a q u e   R e g r e s s i o n   W i t ...  \n",
              "\n",
              "[180040 rows x 5 columns]"
            ],
            "text/html": [
              "\n",
              "  <div id=\"df-09ee1409-14e8-47e9-a893-6a3f8afcf58a\" class=\"colab-df-container\">\n",
              "    <div>\n",
              "<style scoped>\n",
              "    .dataframe tbody tr th:only-of-type {\n",
              "        vertical-align: middle;\n",
              "    }\n",
              "\n",
              "    .dataframe tbody tr th {\n",
              "        vertical-align: top;\n",
              "    }\n",
              "\n",
              "    .dataframe thead th {\n",
              "        text-align: right;\n",
              "    }\n",
              "</style>\n",
              "<table border=\"1\" class=\"dataframe\">\n",
              "  <thead>\n",
              "    <tr style=\"text-align: right;\">\n",
              "      <th></th>\n",
              "      <th>text</th>\n",
              "      <th>label</th>\n",
              "      <th>id</th>\n",
              "      <th>order</th>\n",
              "      <th>chars</th>\n",
              "    </tr>\n",
              "  </thead>\n",
              "  <tbody>\n",
              "    <tr>\n",
              "      <th>0</th>\n",
              "      <td>To investigate the efficacy of @ weeks of dail...</td>\n",
              "      <td>OBJECTIVE</td>\n",
              "      <td>24293578</td>\n",
              "      <td>1</td>\n",
              "      <td>T o   i n v e s t i g a t e   t h e   e f f i ...</td>\n",
              "    </tr>\n",
              "    <tr>\n",
              "      <th>1</th>\n",
              "      <td>A total of @ patients with primary knee OA wer...</td>\n",
              "      <td>METHODS</td>\n",
              "      <td>24293578</td>\n",
              "      <td>2</td>\n",
              "      <td>A   t o t a l   o f   @   p a t i e n t s   w ...</td>\n",
              "    </tr>\n",
              "    <tr>\n",
              "      <th>2</th>\n",
              "      <td>Outcome measures included pain reduction and i...</td>\n",
              "      <td>METHODS</td>\n",
              "      <td>24293578</td>\n",
              "      <td>3</td>\n",
              "      <td>O u t c o m e   m e a s u r e s   i n c l u d ...</td>\n",
              "    </tr>\n",
              "    <tr>\n",
              "      <th>3</th>\n",
              "      <td>Pain was assessed using the visual analog pain...</td>\n",
              "      <td>METHODS</td>\n",
              "      <td>24293578</td>\n",
              "      <td>4</td>\n",
              "      <td>P a i n   w a s   a s s e s s e d   u s i n g ...</td>\n",
              "    </tr>\n",
              "    <tr>\n",
              "      <th>4</th>\n",
              "      <td>Secondary outcome measures included the Wester...</td>\n",
              "      <td>METHODS</td>\n",
              "      <td>24293578</td>\n",
              "      <td>5</td>\n",
              "      <td>S e c o n d a r y   o u t c o m e   m e a s u ...</td>\n",
              "    </tr>\n",
              "    <tr>\n",
              "      <th>...</th>\n",
              "      <td>...</td>\n",
              "      <td>...</td>\n",
              "      <td>...</td>\n",
              "      <td>...</td>\n",
              "      <td>...</td>\n",
              "    </tr>\n",
              "    <tr>\n",
              "      <th>180035</th>\n",
              "      <td>For the absolute change in percent atheroma vo...</td>\n",
              "      <td>RESULTS</td>\n",
              "      <td>26227186</td>\n",
              "      <td>8</td>\n",
              "      <td>F o r   t h e   a b s o l u t e   c h a n g e ...</td>\n",
              "    </tr>\n",
              "    <tr>\n",
              "      <th>180036</th>\n",
              "      <td>For PAV , a significantly greater percentage o...</td>\n",
              "      <td>RESULTS</td>\n",
              "      <td>26227186</td>\n",
              "      <td>9</td>\n",
              "      <td>F o r   P A V   ,   a   s i g n i f i c a n t ...</td>\n",
              "    </tr>\n",
              "    <tr>\n",
              "      <th>180037</th>\n",
              "      <td>Both strategies had acceptable side effect pro...</td>\n",
              "      <td>RESULTS</td>\n",
              "      <td>26227186</td>\n",
              "      <td>10</td>\n",
              "      <td>B o t h   s t r a t e g i e s   h a d   a c c ...</td>\n",
              "    </tr>\n",
              "    <tr>\n",
              "      <th>180038</th>\n",
              "      <td>Compared with standard statin monotherapy , th...</td>\n",
              "      <td>CONCLUSIONS</td>\n",
              "      <td>26227186</td>\n",
              "      <td>11</td>\n",
              "      <td>C o m p a r e d   w i t h   s t a n d a r d   ...</td>\n",
              "    </tr>\n",
              "    <tr>\n",
              "      <th>180039</th>\n",
              "      <td>( Plaque Regression With Cholesterol Absorptio...</td>\n",
              "      <td>CONCLUSIONS</td>\n",
              "      <td>26227186</td>\n",
              "      <td>12</td>\n",
              "      <td>(   P l a q u e   R e g r e s s i o n   W i t ...</td>\n",
              "    </tr>\n",
              "  </tbody>\n",
              "</table>\n",
              "<p>180040 rows × 5 columns</p>\n",
              "</div>\n",
              "    <div class=\"colab-df-buttons\">\n",
              "\n",
              "  <div class=\"colab-df-container\">\n",
              "    <button class=\"colab-df-convert\" onclick=\"convertToInteractive('df-09ee1409-14e8-47e9-a893-6a3f8afcf58a')\"\n",
              "            title=\"Convert this dataframe to an interactive table.\"\n",
              "            style=\"display:none;\">\n",
              "\n",
              "  <svg xmlns=\"http://www.w3.org/2000/svg\" height=\"24px\" viewBox=\"0 -960 960 960\">\n",
              "    <path d=\"M120-120v-720h720v720H120Zm60-500h600v-160H180v160Zm220 220h160v-160H400v160Zm0 220h160v-160H400v160ZM180-400h160v-160H180v160Zm440 0h160v-160H620v160ZM180-180h160v-160H180v160Zm440 0h160v-160H620v160Z\"/>\n",
              "  </svg>\n",
              "    </button>\n",
              "\n",
              "  <style>\n",
              "    .colab-df-container {\n",
              "      display:flex;\n",
              "      gap: 12px;\n",
              "    }\n",
              "\n",
              "    .colab-df-convert {\n",
              "      background-color: #E8F0FE;\n",
              "      border: none;\n",
              "      border-radius: 50%;\n",
              "      cursor: pointer;\n",
              "      display: none;\n",
              "      fill: #1967D2;\n",
              "      height: 32px;\n",
              "      padding: 0 0 0 0;\n",
              "      width: 32px;\n",
              "    }\n",
              "\n",
              "    .colab-df-convert:hover {\n",
              "      background-color: #E2EBFA;\n",
              "      box-shadow: 0px 1px 2px rgba(60, 64, 67, 0.3), 0px 1px 3px 1px rgba(60, 64, 67, 0.15);\n",
              "      fill: #174EA6;\n",
              "    }\n",
              "\n",
              "    .colab-df-buttons div {\n",
              "      margin-bottom: 4px;\n",
              "    }\n",
              "\n",
              "    [theme=dark] .colab-df-convert {\n",
              "      background-color: #3B4455;\n",
              "      fill: #D2E3FC;\n",
              "    }\n",
              "\n",
              "    [theme=dark] .colab-df-convert:hover {\n",
              "      background-color: #434B5C;\n",
              "      box-shadow: 0px 1px 3px 1px rgba(0, 0, 0, 0.15);\n",
              "      filter: drop-shadow(0px 1px 2px rgba(0, 0, 0, 0.3));\n",
              "      fill: #FFFFFF;\n",
              "    }\n",
              "  </style>\n",
              "\n",
              "    <script>\n",
              "      const buttonEl =\n",
              "        document.querySelector('#df-09ee1409-14e8-47e9-a893-6a3f8afcf58a button.colab-df-convert');\n",
              "      buttonEl.style.display =\n",
              "        google.colab.kernel.accessAllowed ? 'block' : 'none';\n",
              "\n",
              "      async function convertToInteractive(key) {\n",
              "        const element = document.querySelector('#df-09ee1409-14e8-47e9-a893-6a3f8afcf58a');\n",
              "        const dataTable =\n",
              "          await google.colab.kernel.invokeFunction('convertToInteractive',\n",
              "                                                    [key], {});\n",
              "        if (!dataTable) return;\n",
              "\n",
              "        const docLinkHtml = 'Like what you see? Visit the ' +\n",
              "          '<a target=\"_blank\" href=https://colab.research.google.com/notebooks/data_table.ipynb>data table notebook</a>'\n",
              "          + ' to learn more about interactive tables.';\n",
              "        element.innerHTML = '';\n",
              "        dataTable['output_type'] = 'display_data';\n",
              "        await google.colab.output.renderOutput(dataTable, element);\n",
              "        const docLink = document.createElement('div');\n",
              "        docLink.innerHTML = docLinkHtml;\n",
              "        element.appendChild(docLink);\n",
              "      }\n",
              "    </script>\n",
              "  </div>\n",
              "\n",
              "\n",
              "<div id=\"df-193bc142-4833-43a3-80d5-68ddeee902c8\">\n",
              "  <button class=\"colab-df-quickchart\" onclick=\"quickchart('df-193bc142-4833-43a3-80d5-68ddeee902c8')\"\n",
              "            title=\"Suggest charts.\"\n",
              "            style=\"display:none;\">\n",
              "\n",
              "<svg xmlns=\"http://www.w3.org/2000/svg\" height=\"24px\"viewBox=\"0 0 24 24\"\n",
              "     width=\"24px\">\n",
              "    <g>\n",
              "        <path d=\"M19 3H5c-1.1 0-2 .9-2 2v14c0 1.1.9 2 2 2h14c1.1 0 2-.9 2-2V5c0-1.1-.9-2-2-2zM9 17H7v-7h2v7zm4 0h-2V7h2v10zm4 0h-2v-4h2v4z\"/>\n",
              "    </g>\n",
              "</svg>\n",
              "  </button>\n",
              "\n",
              "<style>\n",
              "  .colab-df-quickchart {\n",
              "      --bg-color: #E8F0FE;\n",
              "      --fill-color: #1967D2;\n",
              "      --hover-bg-color: #E2EBFA;\n",
              "      --hover-fill-color: #174EA6;\n",
              "      --disabled-fill-color: #AAA;\n",
              "      --disabled-bg-color: #DDD;\n",
              "  }\n",
              "\n",
              "  [theme=dark] .colab-df-quickchart {\n",
              "      --bg-color: #3B4455;\n",
              "      --fill-color: #D2E3FC;\n",
              "      --hover-bg-color: #434B5C;\n",
              "      --hover-fill-color: #FFFFFF;\n",
              "      --disabled-bg-color: #3B4455;\n",
              "      --disabled-fill-color: #666;\n",
              "  }\n",
              "\n",
              "  .colab-df-quickchart {\n",
              "    background-color: var(--bg-color);\n",
              "    border: none;\n",
              "    border-radius: 50%;\n",
              "    cursor: pointer;\n",
              "    display: none;\n",
              "    fill: var(--fill-color);\n",
              "    height: 32px;\n",
              "    padding: 0;\n",
              "    width: 32px;\n",
              "  }\n",
              "\n",
              "  .colab-df-quickchart:hover {\n",
              "    background-color: var(--hover-bg-color);\n",
              "    box-shadow: 0 1px 2px rgba(60, 64, 67, 0.3), 0 1px 3px 1px rgba(60, 64, 67, 0.15);\n",
              "    fill: var(--button-hover-fill-color);\n",
              "  }\n",
              "\n",
              "  .colab-df-quickchart-complete:disabled,\n",
              "  .colab-df-quickchart-complete:disabled:hover {\n",
              "    background-color: var(--disabled-bg-color);\n",
              "    fill: var(--disabled-fill-color);\n",
              "    box-shadow: none;\n",
              "  }\n",
              "\n",
              "  .colab-df-spinner {\n",
              "    border: 2px solid var(--fill-color);\n",
              "    border-color: transparent;\n",
              "    border-bottom-color: var(--fill-color);\n",
              "    animation:\n",
              "      spin 1s steps(1) infinite;\n",
              "  }\n",
              "\n",
              "  @keyframes spin {\n",
              "    0% {\n",
              "      border-color: transparent;\n",
              "      border-bottom-color: var(--fill-color);\n",
              "      border-left-color: var(--fill-color);\n",
              "    }\n",
              "    20% {\n",
              "      border-color: transparent;\n",
              "      border-left-color: var(--fill-color);\n",
              "      border-top-color: var(--fill-color);\n",
              "    }\n",
              "    30% {\n",
              "      border-color: transparent;\n",
              "      border-left-color: var(--fill-color);\n",
              "      border-top-color: var(--fill-color);\n",
              "      border-right-color: var(--fill-color);\n",
              "    }\n",
              "    40% {\n",
              "      border-color: transparent;\n",
              "      border-right-color: var(--fill-color);\n",
              "      border-top-color: var(--fill-color);\n",
              "    }\n",
              "    60% {\n",
              "      border-color: transparent;\n",
              "      border-right-color: var(--fill-color);\n",
              "    }\n",
              "    80% {\n",
              "      border-color: transparent;\n",
              "      border-right-color: var(--fill-color);\n",
              "      border-bottom-color: var(--fill-color);\n",
              "    }\n",
              "    90% {\n",
              "      border-color: transparent;\n",
              "      border-bottom-color: var(--fill-color);\n",
              "    }\n",
              "  }\n",
              "</style>\n",
              "\n",
              "  <script>\n",
              "    async function quickchart(key) {\n",
              "      const quickchartButtonEl =\n",
              "        document.querySelector('#' + key + ' button');\n",
              "      quickchartButtonEl.disabled = true;  // To prevent multiple clicks.\n",
              "      quickchartButtonEl.classList.add('colab-df-spinner');\n",
              "      try {\n",
              "        const charts = await google.colab.kernel.invokeFunction(\n",
              "            'suggestCharts', [key], {});\n",
              "      } catch (error) {\n",
              "        console.error('Error during call to suggestCharts:', error);\n",
              "      }\n",
              "      quickchartButtonEl.classList.remove('colab-df-spinner');\n",
              "      quickchartButtonEl.classList.add('colab-df-quickchart-complete');\n",
              "    }\n",
              "    (() => {\n",
              "      let quickchartButtonEl =\n",
              "        document.querySelector('#df-193bc142-4833-43a3-80d5-68ddeee902c8 button');\n",
              "      quickchartButtonEl.style.display =\n",
              "        google.colab.kernel.accessAllowed ? 'block' : 'none';\n",
              "    })();\n",
              "  </script>\n",
              "</div>\n",
              "    </div>\n",
              "  </div>\n"
            ]
          },
          "metadata": {},
          "execution_count": 13
        }
      ]
    },
    {
      "cell_type": "code",
      "source": [
        "X_test_char=test_data[[\"text\",\"chars\",\"order\"]]"
      ],
      "metadata": {
        "id": "yrrLNNJFMhbw"
      },
      "execution_count": null,
      "outputs": []
    },
    {
      "cell_type": "code",
      "source": [
        "train_data[\"lenchar\"]=train_data[\"chars\"].apply(lambda x:len(x))"
      ],
      "metadata": {
        "id": "diDjVCE77Xvr"
      },
      "execution_count": null,
      "outputs": []
    },
    {
      "cell_type": "code",
      "source": [
        "outputlen=np.quantile(train_data[\"lenchar\"],0.95)"
      ],
      "metadata": {
        "id": "ZKfJPpVd7lMZ"
      },
      "execution_count": null,
      "outputs": []
    },
    {
      "cell_type": "code",
      "source": [
        "train_data[\"lenchar\"].hist()"
      ],
      "metadata": {
        "colab": {
          "base_uri": "https://localhost:8080/",
          "height": 447
        },
        "id": "vOochzUQ7zOP",
        "outputId": "ea45547e-d8f8-4100-b877-a10cd7351030"
      },
      "execution_count": null,
      "outputs": [
        {
          "output_type": "execute_result",
          "data": {
            "text/plain": [
              "<Axes: >"
            ]
          },
          "metadata": {},
          "execution_count": 16
        },
        {
          "output_type": "display_data",
          "data": {
            "text/plain": [
              "<Figure size 640x480 with 1 Axes>"
            ],
            "image/png": "[encoded data removed]"
          },
          "metadata": {}
        }
      ]
    },
    {
      "cell_type": "code",
      "source": [
        "train_data[\"length\"]=train_data[\"text\"].apply(lambda x: len(x.split(\" \")))"
      ],
      "metadata": {
        "id": "tVQnj9489w1F"
      },
      "execution_count": null,
      "outputs": []
    },
    {
      "cell_type": "code",
      "source": [
        "X_tr_char=train_data[[\"text\",\"chars\",\"order\"]]\n",
        "y_tr=train_data[\"label\"]"
      ],
      "metadata": {
        "id": "QtWztXzW8Rok"
      },
      "execution_count": null,
      "outputs": []
    },
    {
      "cell_type": "code",
      "source": [
        "X_c_train,X_c_val,y_c_train,y_c_test=train_test_split(X_tr_char,y_tr,test_size=0.1,random_state=42)"
      ],
      "metadata": {
        "id": "zc-GRU6P8nxs"
      },
      "execution_count": null,
      "outputs": []
    },
    {
      "cell_type": "code",
      "source": [
        "voc=digits+punctuation+ascii_letters"
      ],
      "metadata": {
        "id": "D1YHsj0U4MK-"
      },
      "execution_count": null,
      "outputs": []
    },
    {
      "cell_type": "code",
      "source": [
        "characther_vectorizer=tf.keras.layers.TextVectorization(max_tokens=len(voc),output_sequence_length=int(outputlen))"
      ],
      "metadata": {
        "id": "gxKri3dV3-rx"
      },
      "execution_count": null,
      "outputs": []
    },
    {
      "cell_type": "code",
      "source": [
        "characther_vectorizer.adapt(X_c_train[\"chars\"])"
      ],
      "metadata": {
        "id": "EHHBc_a78BlU"
      },
      "execution_count": null,
      "outputs": []
    },
    {
      "cell_type": "code",
      "source": [
        "char_embedding=tf.keras.layers.Embedding(input_dim=len(characther_vectorizer.get_vocabulary()),output_dim=128,mask_zero=True)"
      ],
      "metadata": {
        "id": "vRKIdKyV9HAH"
      },
      "execution_count": null,
      "outputs": []
    },
    {
      "cell_type": "code",
      "source": [
        "max_vocab_length=len(vocab(removepunc(train_data[\"text\"])))\n",
        "max_length=int(np.percentile(train_data[\"length\"],95))\n",
        "text_vectorizer=tf.keras.layers.TextVectorization(max_tokens=max_vocab_length,output_sequence_length=max_length)\n"
      ],
      "metadata": {
        "id": "OdPclXIn9s3v"
      },
      "execution_count": null,
      "outputs": []
    },
    {
      "cell_type": "code",
      "source": [
        "text_vectorizer.adapt(X_c_train[\"text\"])"
      ],
      "metadata": {
        "id": "ucRwyKtZ9s3v"
      },
      "execution_count": null,
      "outputs": []
    },
    {
      "cell_type": "code",
      "source": [
        "embedding=tf.keras.layers.Embedding(input_dim=len(text_vectorizer.get_vocabulary()),output_dim=128,mask_zero=True)"
      ],
      "metadata": {
        "id": "55jr_lCV9s3v"
      },
      "execution_count": null,
      "outputs": []
    },
    {
      "cell_type": "markdown",
      "source": [
        "## Hybrid Model 1"
      ],
      "metadata": {
        "id": "khhfgT6qK-Z2"
      }
    },
    {
      "cell_type": "code",
      "source": [
        "token_inputs=tf.keras.layers.Input(shape=[],dtype=\"string\")\n",
        "token_=text_vectorizer(token_inputs)\n",
        "token_=embedding(token_)\n",
        "token_=tf.keras.layers.LSTM(32)(token_)\n",
        "token_output=tf.keras.layers.Dense(16,activation=\"relu\")(token_)\n",
        "token_=tf.keras.layers.Dropout(0.5)(token_)\n",
        "\n",
        "token_model=tf.keras.Model(token_inputs,token_output)"
      ],
      "metadata": {
        "id": "hsVF-8XD-sbC"
      },
      "execution_count": null,
      "outputs": []
    },
    {
      "cell_type": "code",
      "source": [
        "sentence_encode_layer=tfh.KerasLayer(\"https://tfhub.dev/google/universal-sentence-encoder/4\",trainable=False)\n",
        "sentence_inputs=tf.keras.layers.Input(shape=[],dtype=\"string\")\n",
        "sentence_=sentence_encode_layer(sentence_inputs)\n",
        "sentence_=tf.keras.layers.Dense(32,activation=\"relu\")(sentence_)\n",
        "sentence_output=tf.keras.layers.Dropout(0.5)(sentence_)\n",
        "sentence_model=tf.keras.Model(sentence_inputs,sentence_output)"
      ],
      "metadata": {
        "id": "EgMqEMEOLXbM"
      },
      "execution_count": null,
      "outputs": []
    },
    {
      "cell_type": "code",
      "source": [
        "order_inputs=tf.keras.layers.Input(shape=(1,),dtype=tf.float32)\n",
        "order_=tf.keras.layers.Dense(32,activation=\"relu\")(order_inputs)\n",
        "order_output=tf.keras.layers.Dense(16,activation=\"relu\")(order_)\n",
        "order_model=tf.keras.Model(order_inputs,order_output)"
      ],
      "metadata": {
        "id": "ZGTTbIDhBebl"
      },
      "execution_count": null,
      "outputs": []
    },
    {
      "cell_type": "code",
      "source": [
        "combinedInput = tf.keras.layers.Concatenate(name=\"concentate\")([token_model.output,order_model.output,sentence_model.output])\n",
        "x=tf.keras.layers.Dense(8,activation=\"relu\",name=\"fcltotal\")(combinedInput)\n",
        "x=tf.keras.layers.Dropout(0.2)(x)\n",
        "output=tf.keras.layers.Dense(5,activation=\"softmax\",name=\"output\")(x)\n",
        "hybridmodel=tf.keras.Model(inputs=[token_model.input,order_model.input,sentence_model.input],outputs=output,name=\"HybridModel\")\n"
      ],
      "metadata": {
        "id": "GO_ZF5QMCm6u"
      },
      "execution_count": null,
      "outputs": []
    },
    {
      "cell_type": "code",
      "source": [
        "hybridmodel.summary()"
      ],
      "metadata": {
        "colab": {
          "base_uri": "https://localhost:8080/"
        },
        "id": "FJneRKkjGmvs",
        "outputId": "8a67c3d8-bd20-4244-d338-7995c36ecd73"
      },
      "execution_count": null,
      "outputs": [
        {
          "output_type": "stream",
          "name": "stdout",
          "text": [
            "Model: \"HybridModel\"\n",
            "__________________________________________________________________________________________________\n",
            " Layer (type)                Output Shape                 Param #   Connected to                  \n",
            "==================================================================================================\n",
            " input_1 (InputLayer)        [(None,)]                    0         []                            \n",
            "                                                                                                  \n",
            " text_vectorization_1 (Text  (None, 55)                   0         ['input_1[0][0]']             \n",
            " Vectorization)                                                                                   \n",
            "                                                                                                  \n",
            " input_2 (InputLayer)        [(None,)]                    0         []                            \n",
            "                                                                                                  \n",
            " embedding_1 (Embedding)     (None, 55, 128)              7984640   ['text_vectorization_1[0][0]']\n",
            "                                                                                                  \n",
            " input_3 (InputLayer)        [(None, 1)]                  0         []                            \n",
            "                                                                                                  \n",
            " keras_layer (KerasLayer)    (None, 512)                  2567978   ['input_2[0][0]']             \n",
            "                                                          24                                      \n",
            "                                                                                                  \n",
            " lstm (LSTM)                 (None, 32)                   20608     ['embedding_1[0][0]']         \n",
            "                                                                                                  \n",
            " dense_2 (Dense)             (None, 32)                   64        ['input_3[0][0]']             \n",
            "                                                                                                  \n",
            " dense_1 (Dense)             (None, 32)                   16416     ['keras_layer[0][0]']         \n",
            "                                                                                                  \n",
            " dense (Dense)               (None, 16)                   528       ['lstm[0][0]']                \n",
            "                                                                                                  \n",
            " dense_3 (Dense)             (None, 16)                   528       ['dense_2[0][0]']             \n",
            "                                                                                                  \n",
            " dropout_1 (Dropout)         (None, 32)                   0         ['dense_1[0][0]']             \n",
            "                                                                                                  \n",
            " concentate (Concatenate)    (None, 64)                   0         ['dense[0][0]',               \n",
            "                                                                     'dense_3[0][0]',             \n",
            "                                                                     'dropout_1[0][0]']           \n",
            "                                                                                                  \n",
            " fcltotal (Dense)            (None, 8)                    520       ['concentate[0][0]']          \n",
            "                                                                                                  \n",
            " dropout_2 (Dropout)         (None, 8)                    0         ['fcltotal[0][0]']            \n",
            "                                                                                                  \n",
            " output (Dense)              (None, 5)                    45        ['dropout_2[0][0]']           \n",
            "                                                                                                  \n",
            "==================================================================================================\n",
            "Total params: 264821173 (1010.21 MB)\n",
            "Trainable params: 8023349 (30.61 MB)\n",
            "Non-trainable params: 256797824 (979.61 MB)\n",
            "__________________________________________________________________________________________________\n"
          ]
        }
      ]
    },
    {
      "cell_type": "code",
      "source": [
        "tf.keras.utils.plot_model(hybridmodel)"
      ],
      "metadata": {
        "colab": {
          "base_uri": "https://localhost:8080/",
          "height": 856
        },
        "id": "l2c5IEZaDDzx",
        "outputId": "f46e120a-f67f-41ff-d5f8-b68ddd210ce2"
      },
      "execution_count": null,
      "outputs": [
        {
          "output_type": "execute_result",
          "data": {
            "image/png": "[encoded data removed]",
            "text/plain": [
              "<IPython.core.display.Image object>"
            ]
          },
          "metadata": {},
          "execution_count": 38
        }
      ]
    },
    {
      "cell_type": "code",
      "source": [
        "hybridmodel.compile(loss=tf.keras.losses.categorical_crossentropy,optimizer=tf.keras.optimizers.Adam(),metrics=[\"accuracy\"])"
      ],
      "metadata": {
        "id": "V52YbC0PERuz"
      },
      "execution_count": null,
      "outputs": []
    },
    {
      "cell_type": "code",
      "source": [
        "X_c_train"
      ],
      "metadata": {
        "colab": {
          "base_uri": "https://localhost:8080/",
          "height": 424
        },
        "id": "Ldr08D2tFb1Z",
        "outputId": "1fbe3c91-34fb-4587-cb85-0500e57c2d0a"
      },
      "execution_count": null,
      "outputs": [
        {
          "output_type": "execute_result",
          "data": {
            "text/plain": [
              "                                                     text  \\\n",
              "144310  Additionally , a process evaluation will shed ...   \n",
              "126174  To compare the long-term efficacy of a corneal...   \n",
              "172937  Carotenoids were measured in serum , HDL@ and ...   \n",
              "124441  However , there is a need for further studies ...   \n",
              "66520   The effect of reposition was evaluated based u...   \n",
              "...                                                   ...   \n",
              "7014    Intravenous ketamine produces rapid reductions...   \n",
              "33162   We performed a randomised crossover trial of C...   \n",
              "121212  This strongly supports the incorporation of pa...   \n",
              "150570  Salsalate had no effects on adipose tissue inc...   \n",
              "55132   Nominal fecal bifidobacteria levels tended to ...   \n",
              "\n",
              "                                                    chars  order  \n",
              "144310  A d d i t i o n a l l y   ,   a   p r o c e s ...     10  \n",
              "126174  T o   c o m p a r e   t h e   l o n g - t e r ...      1  \n",
              "172937  C a r o t e n o i d s   w e r e   m e a s u r ...      7  \n",
              "124441  H o w e v e r   ,   t h e r e   i s   a   n e ...     11  \n",
              "66520   T h e   e f f e c t   o f   r e p o s i t i o ...      6  \n",
              "...                                                   ...    ...  \n",
              "7014    I n t r a v e n o u s   k e t a m i n e   p r ...      9  \n",
              "33162   W e   p e r f o r m e d   a   r a n d o m i s ...      3  \n",
              "121212  T h i s   s t r o n g l y   s u p p o r t s   ...     15  \n",
              "150570  S a l s a l a t e   h a d   n o   e f f e c t ...      9  \n",
              "55132   N o m i n a l   f e c a l   b i f i d o b a c ...      6  \n",
              "\n",
              "[162036 rows x 3 columns]"
            ],
            "text/html": [
              "\n",
              "  <div id=\"df-affe7526-922f-4325-b2e8-9786a02bd4c2\" class=\"colab-df-container\">\n",
              "    <div>\n",
              "<style scoped>\n",
              "    .dataframe tbody tr th:only-of-type {\n",
              "        vertical-align: middle;\n",
              "    }\n",
              "\n",
              "    .dataframe tbody tr th {\n",
              "        vertical-align: top;\n",
              "    }\n",
              "\n",
              "    .dataframe thead th {\n",
              "        text-align: right;\n",
              "    }\n",
              "</style>\n",
              "<table border=\"1\" class=\"dataframe\">\n",
              "  <thead>\n",
              "    <tr style=\"text-align: right;\">\n",
              "      <th></th>\n",
              "      <th>text</th>\n",
              "      <th>chars</th>\n",
              "      <th>order</th>\n",
              "    </tr>\n",
              "  </thead>\n",
              "  <tbody>\n",
              "    <tr>\n",
              "      <th>144310</th>\n",
              "      <td>Additionally , a process evaluation will shed ...</td>\n",
              "      <td>A d d i t i o n a l l y   ,   a   p r o c e s ...</td>\n",
              "      <td>10</td>\n",
              "    </tr>\n",
              "    <tr>\n",
              "      <th>126174</th>\n",
              "      <td>To compare the long-term efficacy of a corneal...</td>\n",
              "      <td>T o   c o m p a r e   t h e   l o n g - t e r ...</td>\n",
              "      <td>1</td>\n",
              "    </tr>\n",
              "    <tr>\n",
              "      <th>172937</th>\n",
              "      <td>Carotenoids were measured in serum , HDL@ and ...</td>\n",
              "      <td>C a r o t e n o i d s   w e r e   m e a s u r ...</td>\n",
              "      <td>7</td>\n",
              "    </tr>\n",
              "    <tr>\n",
              "      <th>124441</th>\n",
              "      <td>However , there is a need for further studies ...</td>\n",
              "      <td>H o w e v e r   ,   t h e r e   i s   a   n e ...</td>\n",
              "      <td>11</td>\n",
              "    </tr>\n",
              "    <tr>\n",
              "      <th>66520</th>\n",
              "      <td>The effect of reposition was evaluated based u...</td>\n",
              "      <td>T h e   e f f e c t   o f   r e p o s i t i o ...</td>\n",
              "      <td>6</td>\n",
              "    </tr>\n",
              "    <tr>\n",
              "      <th>...</th>\n",
              "      <td>...</td>\n",
              "      <td>...</td>\n",
              "      <td>...</td>\n",
              "    </tr>\n",
              "    <tr>\n",
              "      <th>7014</th>\n",
              "      <td>Intravenous ketamine produces rapid reductions...</td>\n",
              "      <td>I n t r a v e n o u s   k e t a m i n e   p r ...</td>\n",
              "      <td>9</td>\n",
              "    </tr>\n",
              "    <tr>\n",
              "      <th>33162</th>\n",
              "      <td>We performed a randomised crossover trial of C...</td>\n",
              "      <td>W e   p e r f o r m e d   a   r a n d o m i s ...</td>\n",
              "      <td>3</td>\n",
              "    </tr>\n",
              "    <tr>\n",
              "      <th>121212</th>\n",
              "      <td>This strongly supports the incorporation of pa...</td>\n",
              "      <td>T h i s   s t r o n g l y   s u p p o r t s   ...</td>\n",
              "      <td>15</td>\n",
              "    </tr>\n",
              "    <tr>\n",
              "      <th>150570</th>\n",
              "      <td>Salsalate had no effects on adipose tissue inc...</td>\n",
              "      <td>S a l s a l a t e   h a d   n o   e f f e c t ...</td>\n",
              "      <td>9</td>\n",
              "    </tr>\n",
              "    <tr>\n",
              "      <th>55132</th>\n",
              "      <td>Nominal fecal bifidobacteria levels tended to ...</td>\n",
              "      <td>N o m i n a l   f e c a l   b i f i d o b a c ...</td>\n",
              "      <td>6</td>\n",
              "    </tr>\n",
              "  </tbody>\n",
              "</table>\n",
              "<p>162036 rows × 3 columns</p>\n",
              "</div>\n",
              "    <div class=\"colab-df-buttons\">\n",
              "\n",
              "  <div class=\"colab-df-container\">\n",
              "    <button class=\"colab-df-convert\" onclick=\"convertToInteractive('df-affe7526-922f-4325-b2e8-9786a02bd4c2')\"\n",
              "            title=\"Convert this dataframe to an interactive table.\"\n",
              "            style=\"display:none;\">\n",
              "\n",
              "  <svg xmlns=\"http://www.w3.org/2000/svg\" height=\"24px\" viewBox=\"0 -960 960 960\">\n",
              "    <path d=\"M120-120v-720h720v720H120Zm60-500h600v-160H180v160Zm220 220h160v-160H400v160Zm0 220h160v-160H400v160ZM180-400h160v-160H180v160Zm440 0h160v-160H620v160ZM180-180h160v-160H180v160Zm440 0h160v-160H620v160Z\"/>\n",
              "  </svg>\n",
              "    </button>\n",
              "\n",
              "  <style>\n",
              "    .colab-df-container {\n",
              "      display:flex;\n",
              "      gap: 12px;\n",
              "    }\n",
              "\n",
              "    .colab-df-convert {\n",
              "      background-color: #E8F0FE;\n",
              "      border: none;\n",
              "      border-radius: 50%;\n",
              "      cursor: pointer;\n",
              "      display: none;\n",
              "      fill: #1967D2;\n",
              "      height: 32px;\n",
              "      padding: 0 0 0 0;\n",
              "      width: 32px;\n",
              "    }\n",
              "\n",
              "    .colab-df-convert:hover {\n",
              "      background-color: #E2EBFA;\n",
              "      box-shadow: 0px 1px 2px rgba(60, 64, 67, 0.3), 0px 1px 3px 1px rgba(60, 64, 67, 0.15);\n",
              "      fill: #174EA6;\n",
              "    }\n",
              "\n",
              "    .colab-df-buttons div {\n",
              "      margin-bottom: 4px;\n",
              "    }\n",
              "\n",
              "    [theme=dark] .colab-df-convert {\n",
              "      background-color: #3B4455;\n",
              "      fill: #D2E3FC;\n",
              "    }\n",
              "\n",
              "    [theme=dark] .colab-df-convert:hover {\n",
              "      background-color: #434B5C;\n",
              "      box-shadow: 0px 1px 3px 1px rgba(0, 0, 0, 0.15);\n",
              "      filter: drop-shadow(0px 1px 2px rgba(0, 0, 0, 0.3));\n",
              "      fill: #FFFFFF;\n",
              "    }\n",
              "  </style>\n",
              "\n",
              "    <script>\n",
              "      const buttonEl =\n",
              "        document.querySelector('#df-affe7526-922f-4325-b2e8-9786a02bd4c2 button.colab-df-convert');\n",
              "      buttonEl.style.display =\n",
              "        google.colab.kernel.accessAllowed ? 'block' : 'none';\n",
              "\n",
              "      async function convertToInteractive(key) {\n",
              "        const element = document.querySelector('#df-affe7526-922f-4325-b2e8-9786a02bd4c2');\n",
              "        const dataTable =\n",
              "          await google.colab.kernel.invokeFunction('convertToInteractive',\n",
              "                                                    [key], {});\n",
              "        if (!dataTable) return;\n",
              "\n",
              "        const docLinkHtml = 'Like what you see? Visit the ' +\n",
              "          '<a target=\"_blank\" href=https://colab.research.google.com/notebooks/data_table.ipynb>data table notebook</a>'\n",
              "          + ' to learn more about interactive tables.';\n",
              "        element.innerHTML = '';\n",
              "        dataTable['output_type'] = 'display_data';\n",
              "        await google.colab.output.renderOutput(dataTable, element);\n",
              "        const docLink = document.createElement('div');\n",
              "        docLink.innerHTML = docLinkHtml;\n",
              "        element.appendChild(docLink);\n",
              "      }\n",
              "    </script>\n",
              "  </div>\n",
              "\n",
              "\n",
              "<div id=\"df-a9f74e14-340d-4a2b-8c0f-5687bd1ef659\">\n",
              "  <button class=\"colab-df-quickchart\" onclick=\"quickchart('df-a9f74e14-340d-4a2b-8c0f-5687bd1ef659')\"\n",
              "            title=\"Suggest charts.\"\n",
              "            style=\"display:none;\">\n",
              "\n",
              "<svg xmlns=\"http://www.w3.org/2000/svg\" height=\"24px\"viewBox=\"0 0 24 24\"\n",
              "     width=\"24px\">\n",
              "    <g>\n",
              "        <path d=\"M19 3H5c-1.1 0-2 .9-2 2v14c0 1.1.9 2 2 2h14c1.1 0 2-.9 2-2V5c0-1.1-.9-2-2-2zM9 17H7v-7h2v7zm4 0h-2V7h2v10zm4 0h-2v-4h2v4z\"/>\n",
              "    </g>\n",
              "</svg>\n",
              "  </button>\n",
              "\n",
              "<style>\n",
              "  .colab-df-quickchart {\n",
              "      --bg-color: #E8F0FE;\n",
              "      --fill-color: #1967D2;\n",
              "      --hover-bg-color: #E2EBFA;\n",
              "      --hover-fill-color: #174EA6;\n",
              "      --disabled-fill-color: #AAA;\n",
              "      --disabled-bg-color: #DDD;\n",
              "  }\n",
              "\n",
              "  [theme=dark] .colab-df-quickchart {\n",
              "      --bg-color: #3B4455;\n",
              "      --fill-color: #D2E3FC;\n",
              "      --hover-bg-color: #434B5C;\n",
              "      --hover-fill-color: #FFFFFF;\n",
              "      --disabled-bg-color: #3B4455;\n",
              "      --disabled-fill-color: #666;\n",
              "  }\n",
              "\n",
              "  .colab-df-quickchart {\n",
              "    background-color: var(--bg-color);\n",
              "    border: none;\n",
              "    border-radius: 50%;\n",
              "    cursor: pointer;\n",
              "    display: none;\n",
              "    fill: var(--fill-color);\n",
              "    height: 32px;\n",
              "    padding: 0;\n",
              "    width: 32px;\n",
              "  }\n",
              "\n",
              "  .colab-df-quickchart:hover {\n",
              "    background-color: var(--hover-bg-color);\n",
              "    box-shadow: 0 1px 2px rgba(60, 64, 67, 0.3), 0 1px 3px 1px rgba(60, 64, 67, 0.15);\n",
              "    fill: var(--button-hover-fill-color);\n",
              "  }\n",
              "\n",
              "  .colab-df-quickchart-complete:disabled,\n",
              "  .colab-df-quickchart-complete:disabled:hover {\n",
              "    background-color: var(--disabled-bg-color);\n",
              "    fill: var(--disabled-fill-color);\n",
              "    box-shadow: none;\n",
              "  }\n",
              "\n",
              "  .colab-df-spinner {\n",
              "    border: 2px solid var(--fill-color);\n",
              "    border-color: transparent;\n",
              "    border-bottom-color: var(--fill-color);\n",
              "    animation:\n",
              "      spin 1s steps(1) infinite;\n",
              "  }\n",
              "\n",
              "  @keyframes spin {\n",
              "    0% {\n",
              "      border-color: transparent;\n",
              "      border-bottom-color: var(--fill-color);\n",
              "      border-left-color: var(--fill-color);\n",
              "    }\n",
              "    20% {\n",
              "      border-color: transparent;\n",
              "      border-left-color: var(--fill-color);\n",
              "      border-top-color: var(--fill-color);\n",
              "    }\n",
              "    30% {\n",
              "      border-color: transparent;\n",
              "      border-left-color: var(--fill-color);\n",
              "      border-top-color: var(--fill-color);\n",
              "      border-right-color: var(--fill-color);\n",
              "    }\n",
              "    40% {\n",
              "      border-color: transparent;\n",
              "      border-right-color: var(--fill-color);\n",
              "      border-top-color: var(--fill-color);\n",
              "    }\n",
              "    60% {\n",
              "      border-color: transparent;\n",
              "      border-right-color: var(--fill-color);\n",
              "    }\n",
              "    80% {\n",
              "      border-color: transparent;\n",
              "      border-right-color: var(--fill-color);\n",
              "      border-bottom-color: var(--fill-color);\n",
              "    }\n",
              "    90% {\n",
              "      border-color: transparent;\n",
              "      border-bottom-color: var(--fill-color);\n",
              "    }\n",
              "  }\n",
              "</style>\n",
              "\n",
              "  <script>\n",
              "    async function quickchart(key) {\n",
              "      const quickchartButtonEl =\n",
              "        document.querySelector('#' + key + ' button');\n",
              "      quickchartButtonEl.disabled = true;  // To prevent multiple clicks.\n",
              "      quickchartButtonEl.classList.add('colab-df-spinner');\n",
              "      try {\n",
              "        const charts = await google.colab.kernel.invokeFunction(\n",
              "            'suggestCharts', [key], {});\n",
              "      } catch (error) {\n",
              "        console.error('Error during call to suggestCharts:', error);\n",
              "      }\n",
              "      quickchartButtonEl.classList.remove('colab-df-spinner');\n",
              "      quickchartButtonEl.classList.add('colab-df-quickchart-complete');\n",
              "    }\n",
              "    (() => {\n",
              "      let quickchartButtonEl =\n",
              "        document.querySelector('#df-a9f74e14-340d-4a2b-8c0f-5687bd1ef659 button');\n",
              "      quickchartButtonEl.style.display =\n",
              "        google.colab.kernel.accessAllowed ? 'block' : 'none';\n",
              "    })();\n",
              "  </script>\n",
              "</div>\n",
              "    </div>\n",
              "  </div>\n"
            ]
          },
          "metadata": {},
          "execution_count": 155
        }
      ]
    },
    {
      "cell_type": "code",
      "source": [
        "es=tf.keras.callbacks.EarlyStopping(monitor=\"val_accuracy\",patience=3)"
      ],
      "metadata": {
        "id": "l26ebsvIGZlP"
      },
      "execution_count": null,
      "outputs": []
    },
    {
      "cell_type": "code",
      "source": [
        "starthybrid=time.time()\n",
        "histroyhybird=hybridmodel.fit(x=[X_c_train[\"text\"],X_c_train[\"order\"],X_c_train[\"text\"]],y=y_c_train,epochs=3,validation_data=([X_c_val[\"text\"],X_c_val[\"order\"],X_c_val[\"text\"]],y_c_test),\n",
        "                callbacks=[es])\n",
        "endhybrid=time.time()"
      ],
      "metadata": {
        "colab": {
          "base_uri": "https://localhost:8080/"
        },
        "id": "Zj_rgCJ6EvQD",
        "outputId": "6f3275a5-4e58-4f13-bd30-86412cfbbbd6"
      },
      "execution_count": null,
      "outputs": [
        {
          "output_type": "stream",
          "name": "stdout",
          "text": [
            "Epoch 1/3\n",
            "5064/5064 [==============================] - 130s 24ms/step - loss: 0.6247 - accuracy: 0.7470 - val_loss: 0.4013 - val_accuracy: 0.8579\n",
            "Epoch 2/3\n",
            "5064/5064 [==============================] - 86s 17ms/step - loss: 0.4496 - accuracy: 0.8149 - val_loss: 0.3778 - val_accuracy: 0.8613\n",
            "Epoch 3/3\n",
            "5064/5064 [==============================] - 86s 17ms/step - loss: 0.3728 - accuracy: 0.8559 - val_loss: 0.3963 - val_accuracy: 0.8619\n"
          ]
        }
      ]
    },
    {
      "cell_type": "code",
      "source": [
        "X_test_char2=tf.data.Dataset.from_tensor_slices((X_test_char[\"text\"],X_test_char[\"order\"],X_test_char[\"text\"]))"
      ],
      "metadata": {
        "id": "1zcUcLxqNnik"
      },
      "execution_count": null,
      "outputs": []
    },
    {
      "cell_type": "code",
      "source": [
        "ehybrid=evaluatehybrid(histroyhybird,starthybrid,endhybrid,hybridmodel,X_test_char,y_test)"
      ],
      "metadata": {
        "colab": {
          "base_uri": "https://localhost:8080/"
        },
        "id": "CJjWFJEbMm1C",
        "outputId": "2535f18a-dfdf-41f3-f4a7-3b9c0e131092"
      },
      "execution_count": null,
      "outputs": [
        {
          "output_type": "stream",
          "name": "stdout",
          "text": [
            "942/942 [==============================] - 8s 8ms/step\n"
          ]
        }
      ]
    },
    {
      "cell_type": "code",
      "source": [
        "ehybrid"
      ],
      "metadata": {
        "colab": {
          "base_uri": "https://localhost:8080/"
        },
        "id": "Pv7Svqj7OQjs",
        "outputId": "c20f4530-4941-43e0-b01b-5093665a049a"
      },
      "execution_count": null,
      "outputs": [
        {
          "output_type": "execute_result",
          "data": {
            "text/plain": [
              "{'accuracy': 0.7570930811348929,\n",
              " 'precision': 0.7570930811348929,\n",
              " 'f1_score': 0.7570930811348929,\n",
              " 'recall': 0.7570930811348929,\n",
              " 'Training Time': 5.029965551694234,\n",
              " 'Loss': [0.624688982963562, 0.44955769181251526, 0.37275439500808716],\n",
              " 'Val Loss': [0.4013367295265198, 0.3778270483016968, 0.39628171920776367]}"
            ]
          },
          "metadata": {},
          "execution_count": 155
        }
      ]
    },
    {
      "cell_type": "markdown",
      "source": [
        "## Hybrid Model with Word2Vec"
      ],
      "metadata": {
        "id": "zsW_SerFwi7y"
      }
    },
    {
      "cell_type": "code",
      "source": [
        "word2vec=tf.keras.layers.Embedding(max_vocab_length,\n",
        "                                      128,\n",
        "                                      input_length=[],\n",
        "                                      name=\"w2v_embedding\")\n",
        "word2vecinputs=tf.keras.layers.Input(shape=[],dtype=\"string\")\n",
        "w2v_=text_vectorizer(word2vecinputs)\n",
        "w2v_=word2vec(w2v_)\n",
        "w2v_=tf.keras.layers.Dense(32,activation=\"relu\")(w2v_)\n",
        "w2v_=tf.keras.layers.GlobalAveragePooling1D()(w2v_)\n",
        "w2v_=tf.keras.layers.Dense(8,activation=\"relu\")(w2v_)\n",
        "modelword2vec=tf.keras.Model(word2vecinputs,w2v_,name=\"modelw2v\")"
      ],
      "metadata": {
        "id": "YhSUjGnfv8Aj"
      },
      "execution_count": null,
      "outputs": []
    },
    {
      "cell_type": "code",
      "source": [
        "combinedInput2 = tf.keras.layers.Concatenate(name=\"concentate\")([modelword2vec.output,order_model.output,sentence_model.output])\n",
        "x=tf.keras.layers.Dense(8,activation=\"relu\",name=\"fcltotal\")(combinedInput2)\n",
        "x=tf.keras.layers.Dropout(0.2)(x)\n",
        "output=tf.keras.layers.Dense(5,activation=\"softmax\",name=\"output\")(x)\n",
        "hybridmodel2=tf.keras.Model(inputs=[modelword2vec.input,order_model.input,sentence_model.input],outputs=output,name=\"HybridModelWord2vec\")\n"
      ],
      "metadata": {
        "id": "rFnEWVG7wiqD"
      },
      "execution_count": null,
      "outputs": []
    },
    {
      "cell_type": "code",
      "source": [
        "hybridmodel2.compile(loss=tf.keras.losses.categorical_crossentropy,optimizer=tf.keras.optimizers.Adam(),metrics=[\"accuracy\"])"
      ],
      "metadata": {
        "id": "Gh8jm_CzxdXH"
      },
      "execution_count": null,
      "outputs": []
    },
    {
      "cell_type": "code",
      "source": [
        "starthybrid2=time.time()\n",
        "histroyhybird2=hybridmodel2.fit(x=[X_c_train[\"text\"],X_c_train[\"order\"],X_c_train[\"text\"]],y=y_c_train,epochs=3,validation_data=([X_c_val[\"text\"],X_c_val[\"order\"],X_c_val[\"text\"]],y_c_test),\n",
        "                callbacks=[es])\n",
        "endhybrid2=time.time()"
      ],
      "metadata": {
        "colab": {
          "base_uri": "https://localhost:8080/"
        },
        "id": "8nXiNXaYxhuM",
        "outputId": "7ef7759f-8f35-49da-c282-8e07dcd3346f"
      },
      "execution_count": null,
      "outputs": [
        {
          "output_type": "stream",
          "name": "stdout",
          "text": [
            "Epoch 1/3\n",
            "5064/5064 [==============================] - 107s 20ms/step - loss: 0.6360 - accuracy: 0.7453 - val_loss: 0.4074 - val_accuracy: 0.8512\n",
            "Epoch 2/3\n",
            "5064/5064 [==============================] - 73s 14ms/step - loss: 0.4636 - accuracy: 0.8247 - val_loss: 0.3903 - val_accuracy: 0.8536\n",
            "Epoch 3/3\n",
            "5064/5064 [==============================] - 72s 14ms/step - loss: 0.4130 - accuracy: 0.8425 - val_loss: 0.4011 - val_accuracy: 0.8533\n"
          ]
        }
      ]
    },
    {
      "cell_type": "code",
      "source": [
        "ehybrid2=evaluatehybrid(histroyhybird2,starthybrid2,endhybrid2,hybridmodel2,X_test_char,y_test)"
      ],
      "metadata": {
        "colab": {
          "base_uri": "https://localhost:8080/"
        },
        "id": "4OoJMcp8OqM4",
        "outputId": "39b4b9dc-b1ec-448d-e8d8-0a6dfc35e464"
      },
      "execution_count": null,
      "outputs": [
        {
          "output_type": "stream",
          "name": "stdout",
          "text": [
            "942/942 [==============================] - 8s 8ms/step\n"
          ]
        }
      ]
    },
    {
      "cell_type": "markdown",
      "source": [
        "##Original Model"
      ],
      "metadata": {
        "id": "GpCpYB5syjAc"
      }
    },
    {
      "cell_type": "code",
      "source": [
        "sentence_inputs2=tf.keras.layers.Input(shape=[],dtype=\"string\")\n",
        "sentence_2=sentence_encode_layer(sentence_inputs2)\n",
        "sentence_2=tf.keras.layers.Dense(32,activation=\"relu\")(sentence_2)\n",
        "\n",
        "sentence_model2=tf.keras.Model(sentence_inputs2,sentence_2)\n",
        "char_inputs2=tf.keras.layers.Input(shape=(1,),dtype=\"string\")\n",
        "char_2=characther_vectorizer(char_inputs2)\n",
        "char_2=char_embedding(char_2)\n",
        "char_2=tf.keras.layers.Bidirectional(tf.keras.layers.LSTM(32))(char_2)\n",
        "\n",
        "char_model2=tf.keras.Model(char_inputs2,char_2)\n",
        "combinedInput3 = tf.keras.layers.Concatenate(name=\"concentate\")([sentence_model2.output,char_model2.output])\n",
        "x=tf.keras.layers.Dropout(0.5)(combinedInput3)\n",
        "x=tf.keras.layers.Dense(32,activation=\"relu\")(x)\n",
        "x=tf.keras.layers.Dropout(0.5)(combinedInput3)\n",
        "output=tf.keras.layers.Dense(5,activation=\"softmax\",name=\"output\")(x)\n",
        "modelorginal=tf.keras.Model(inputs=[sentence_model2.input,char_model2.input],outputs=output,name=\"HybridModel3\")"
      ],
      "metadata": {
        "id": "0YZO6SNkyikm"
      },
      "execution_count": null,
      "outputs": []
    },
    {
      "cell_type": "code",
      "source": [
        "tf.keras.utils.plot_model(modelorginal)"
      ],
      "metadata": {
        "colab": {
          "base_uri": "https://localhost:8080/",
          "height": 661
        },
        "id": "gAY8yEsPkWBG",
        "outputId": "1016d759-728e-47d1-8e02-80d9e1e8a3b0"
      },
      "execution_count": null,
      "outputs": [
        {
          "output_type": "execute_result",
          "data": {
            "image/png": "[encoded data removed]",
            "text/plain": [
              "<IPython.core.display.Image object>"
            ]
          },
          "metadata": {},
          "execution_count": 183
        }
      ]
    },
    {
      "cell_type": "code",
      "source": [
        "modelorginal.compile(loss=tf.keras.losses.categorical_crossentropy,optimizer=tf.keras.optimizers.Adam(),metrics=[\"accuracy\"])"
      ],
      "metadata": {
        "id": "U_eehmto125P"
      },
      "execution_count": null,
      "outputs": []
    },
    {
      "cell_type": "code",
      "source": [
        "startorginal=time.time()\n",
        "histroyorginal=modelorginal.fit(x=[X_c_train[\"text\"],X_c_train[\"chars\"]],y=y_c_train,epochs=3,validation_data=([X_c_val[\"text\"],X_c_val[\"chars\"]],y_c_test),\n",
        "                callbacks=[es])\n",
        "endorginal=time.time()"
      ],
      "metadata": {
        "colab": {
          "base_uri": "https://localhost:8080/"
        },
        "id": "qXaUjx6U15XX",
        "outputId": "36a66506-e18b-4ed1-e306-7ca25b69b889"
      },
      "execution_count": null,
      "outputs": [
        {
          "output_type": "stream",
          "name": "stdout",
          "text": [
            "Epoch 1/3\n",
            "5064/5064 [==============================] - 220s 42ms/step - loss: 0.7941 - accuracy: 0.6957 - val_loss: 0.6547 - val_accuracy: 0.7552\n",
            "Epoch 2/3\n",
            "5064/5064 [==============================] - 207s 41ms/step - loss: 0.6963 - accuracy: 0.7365 - val_loss: 0.6379 - val_accuracy: 0.7601\n",
            "Epoch 3/3\n",
            "5064/5064 [==============================] - 208s 41ms/step - loss: 0.6741 - accuracy: 0.7463 - val_loss: 0.5995 - val_accuracy: 0.7752\n"
          ]
        }
      ]
    },
    {
      "cell_type": "code",
      "source": [
        "eorginal=evaluatehybrid(histroyorginal,startorginal,endorginal,modelorginal,X_test_char,y_test,original=True)"
      ],
      "metadata": {
        "colab": {
          "base_uri": "https://localhost:8080/"
        },
        "id": "mwqTv-OdO1GF",
        "outputId": "4b98d45b-e215-44ad-b96d-532942ce7fad"
      },
      "execution_count": null,
      "outputs": [
        {
          "output_type": "stream",
          "name": "stdout",
          "text": [
            "942/942 [==============================] - 13s 13ms/step\n"
          ]
        }
      ]
    },
    {
      "cell_type": "code",
      "source": [
        "eorginal"
      ],
      "metadata": {
        "colab": {
          "base_uri": "https://localhost:8080/"
        },
        "id": "dBUcLi5ApjoX",
        "outputId": "2f7e8630-68fe-4af4-da78-e442488db7fc"
      },
      "execution_count": null,
      "outputs": [
        {
          "output_type": "execute_result",
          "data": {
            "text/plain": [
              "{'accuracy': 0.7715281234444997,\n",
              " 'precision': 0.7715281234444997,\n",
              " 'f1_score': 0.7715281234444997,\n",
              " 'recall': 0.7715281234444997,\n",
              " 'Training Time': 10.594043882687886,\n",
              " 'Loss': [0.7940797805786133, 0.6963464617729187, 0.6740726828575134],\n",
              " 'Val Loss': [0.6546759009361267, 0.6379380822181702, 0.5994555354118347]}"
            ]
          },
          "metadata": {},
          "execution_count": 246
        }
      ]
    },
    {
      "cell_type": "markdown",
      "source": [
        "# Comparing Models"
      ],
      "metadata": {
        "id": "ASZZtXSsnA4y"
      }
    },
    {
      "cell_type": "code",
      "source": [
        "X_test"
      ],
      "metadata": {
        "colab": {
          "base_uri": "https://localhost:8080/"
        },
        "id": "Rt-guOtjuLik",
        "outputId": "7f5289a1-78eb-4abe-c180-acb0a94c87e4"
      },
      "execution_count": null,
      "outputs": [
        {
          "output_type": "execute_result",
          "data": {
            "text/plain": [
              "0        This study analyzed liver function abnormaliti...\n",
              "1        A post hoc analysis was conducted with the use...\n",
              "2        Liver function tests ( LFTs ) were measured at...\n",
              "3        Survival analyses were used to assess the asso...\n",
              "4        The percentage of patients with abnormal LFTs ...\n",
              "                               ...                        \n",
              "30130    There was a statistically significant between-...\n",
              "30131    There were no statistically significant betwee...\n",
              "30132    There was no significant association between s...\n",
              "30133                   No adverse effects were reported .\n",
              "30134    Performing a @-week do-as-tolerated program of...\n",
              "Name: text, Length: 30135, dtype: object"
            ]
          },
          "metadata": {},
          "execution_count": 274
        }
      ]
    },
    {
      "cell_type": "code",
      "source": [
        "X_test_char"
      ],
      "metadata": {
        "colab": {
          "base_uri": "https://localhost:8080/",
          "height": 424
        },
        "id": "idqriItcvDEd",
        "outputId": "1fe5400f-09f7-48b0-ee0f-3a1ca38fc96f"
      },
      "execution_count": null,
      "outputs": [
        {
          "output_type": "execute_result",
          "data": {
            "text/plain": [
              "                                                    text  \\\n",
              "0      This study analyzed liver function abnormaliti...   \n",
              "1      A post hoc analysis was conducted with the use...   \n",
              "2      Liver function tests ( LFTs ) were measured at...   \n",
              "3      Survival analyses were used to assess the asso...   \n",
              "4      The percentage of patients with abnormal LFTs ...   \n",
              "...                                                  ...   \n",
              "30130  There was a statistically significant between-...   \n",
              "30131  There were no statistically significant betwee...   \n",
              "30132  There was no significant association between s...   \n",
              "30133                 No adverse effects were reported .   \n",
              "30134  Performing a @-week do-as-tolerated program of...   \n",
              "\n",
              "                                                   chars  order  \n",
              "0      T h i s   s t u d y   a n a l y z e d   l i v ...      1  \n",
              "1      A   p o s t   h o c   a n a l y s i s   w a s ...      2  \n",
              "2      L i v e r   f u n c t i o n   t e s t s   (   ...      3  \n",
              "3      S u r v i v a l   a n a l y s e s   w e r e   ...      4  \n",
              "4      T h e   p e r c e n t a g e   o f   p a t i e ...      5  \n",
              "...                                                  ...    ...  \n",
              "30130  T h e r e   w a s   a   s t a t i s t i c a l ...     14  \n",
              "30131  T h e r e   w e r e   n o   s t a t i s t i c ...     15  \n",
              "30132  T h e r e   w a s   n o   s i g n i f i c a n ...     16  \n",
              "30133  N o   a d v e r s e   e f f e c t s   w e r e ...     17  \n",
              "30134  P e r f o r m i n g   a   @ - w e e k   d o - ...     18  \n",
              "\n",
              "[30135 rows x 3 columns]"
            ],
            "text/html": [
              "\n",
              "  <div id=\"df-3501d628-394a-4480-aca2-d30215f4f0f5\" class=\"colab-df-container\">\n",
              "    <div>\n",
              "<style scoped>\n",
              "    .dataframe tbody tr th:only-of-type {\n",
              "        vertical-align: middle;\n",
              "    }\n",
              "\n",
              "    .dataframe tbody tr th {\n",
              "        vertical-align: top;\n",
              "    }\n",
              "\n",
              "    .dataframe thead th {\n",
              "        text-align: right;\n",
              "    }\n",
              "</style>\n",
              "<table border=\"1\" class=\"dataframe\">\n",
              "  <thead>\n",
              "    <tr style=\"text-align: right;\">\n",
              "      <th></th>\n",
              "      <th>text</th>\n",
              "      <th>chars</th>\n",
              "      <th>order</th>\n",
              "    </tr>\n",
              "  </thead>\n",
              "  <tbody>\n",
              "    <tr>\n",
              "      <th>0</th>\n",
              "      <td>This study analyzed liver function abnormaliti...</td>\n",
              "      <td>T h i s   s t u d y   a n a l y z e d   l i v ...</td>\n",
              "      <td>1</td>\n",
              "    </tr>\n",
              "    <tr>\n",
              "      <th>1</th>\n",
              "      <td>A post hoc analysis was conducted with the use...</td>\n",
              "      <td>A   p o s t   h o c   a n a l y s i s   w a s ...</td>\n",
              "      <td>2</td>\n",
              "    </tr>\n",
              "    <tr>\n",
              "      <th>2</th>\n",
              "      <td>Liver function tests ( LFTs ) were measured at...</td>\n",
              "      <td>L i v e r   f u n c t i o n   t e s t s   (   ...</td>\n",
              "      <td>3</td>\n",
              "    </tr>\n",
              "    <tr>\n",
              "      <th>3</th>\n",
              "      <td>Survival analyses were used to assess the asso...</td>\n",
              "      <td>S u r v i v a l   a n a l y s e s   w e r e   ...</td>\n",
              "      <td>4</td>\n",
              "    </tr>\n",
              "    <tr>\n",
              "      <th>4</th>\n",
              "      <td>The percentage of patients with abnormal LFTs ...</td>\n",
              "      <td>T h e   p e r c e n t a g e   o f   p a t i e ...</td>\n",
              "      <td>5</td>\n",
              "    </tr>\n",
              "    <tr>\n",
              "      <th>...</th>\n",
              "      <td>...</td>\n",
              "      <td>...</td>\n",
              "      <td>...</td>\n",
              "    </tr>\n",
              "    <tr>\n",
              "      <th>30130</th>\n",
              "      <td>There was a statistically significant between-...</td>\n",
              "      <td>T h e r e   w a s   a   s t a t i s t i c a l ...</td>\n",
              "      <td>14</td>\n",
              "    </tr>\n",
              "    <tr>\n",
              "      <th>30131</th>\n",
              "      <td>There were no statistically significant betwee...</td>\n",
              "      <td>T h e r e   w e r e   n o   s t a t i s t i c ...</td>\n",
              "      <td>15</td>\n",
              "    </tr>\n",
              "    <tr>\n",
              "      <th>30132</th>\n",
              "      <td>There was no significant association between s...</td>\n",
              "      <td>T h e r e   w a s   n o   s i g n i f i c a n ...</td>\n",
              "      <td>16</td>\n",
              "    </tr>\n",
              "    <tr>\n",
              "      <th>30133</th>\n",
              "      <td>No adverse effects were reported .</td>\n",
              "      <td>N o   a d v e r s e   e f f e c t s   w e r e ...</td>\n",
              "      <td>17</td>\n",
              "    </tr>\n",
              "    <tr>\n",
              "      <th>30134</th>\n",
              "      <td>Performing a @-week do-as-tolerated program of...</td>\n",
              "      <td>P e r f o r m i n g   a   @ - w e e k   d o - ...</td>\n",
              "      <td>18</td>\n",
              "    </tr>\n",
              "  </tbody>\n",
              "</table>\n",
              "<p>30135 rows × 3 columns</p>\n",
              "</div>\n",
              "    <div class=\"colab-df-buttons\">\n",
              "\n",
              "  <div class=\"colab-df-container\">\n",
              "    <button class=\"colab-df-convert\" onclick=\"convertToInteractive('df-3501d628-394a-4480-aca2-d30215f4f0f5')\"\n",
              "            title=\"Convert this dataframe to an interactive table.\"\n",
              "            style=\"display:none;\">\n",
              "\n",
              "  <svg xmlns=\"http://www.w3.org/2000/svg\" height=\"24px\" viewBox=\"0 -960 960 960\">\n",
              "    <path d=\"M120-120v-720h720v720H120Zm60-500h600v-160H180v160Zm220 220h160v-160H400v160Zm0 220h160v-160H400v160ZM180-400h160v-160H180v160Zm440 0h160v-160H620v160ZM180-180h160v-160H180v160Zm440 0h160v-160H620v160Z\"/>\n",
              "  </svg>\n",
              "    </button>\n",
              "\n",
              "  <style>\n",
              "    .colab-df-container {\n",
              "      display:flex;\n",
              "      gap: 12px;\n",
              "    }\n",
              "\n",
              "    .colab-df-convert {\n",
              "      background-color: #E8F0FE;\n",
              "      border: none;\n",
              "      border-radius: 50%;\n",
              "      cursor: pointer;\n",
              "      display: none;\n",
              "      fill: #1967D2;\n",
              "      height: 32px;\n",
              "      padding: 0 0 0 0;\n",
              "      width: 32px;\n",
              "    }\n",
              "\n",
              "    .colab-df-convert:hover {\n",
              "      background-color: #E2EBFA;\n",
              "      box-shadow: 0px 1px 2px rgba(60, 64, 67, 0.3), 0px 1px 3px 1px rgba(60, 64, 67, 0.15);\n",
              "      fill: #174EA6;\n",
              "    }\n",
              "\n",
              "    .colab-df-buttons div {\n",
              "      margin-bottom: 4px;\n",
              "    }\n",
              "\n",
              "    [theme=dark] .colab-df-convert {\n",
              "      background-color: #3B4455;\n",
              "      fill: #D2E3FC;\n",
              "    }\n",
              "\n",
              "    [theme=dark] .colab-df-convert:hover {\n",
              "      background-color: #434B5C;\n",
              "      box-shadow: 0px 1px 3px 1px rgba(0, 0, 0, 0.15);\n",
              "      filter: drop-shadow(0px 1px 2px rgba(0, 0, 0, 0.3));\n",
              "      fill: #FFFFFF;\n",
              "    }\n",
              "  </style>\n",
              "\n",
              "    <script>\n",
              "      const buttonEl =\n",
              "        document.querySelector('#df-3501d628-394a-4480-aca2-d30215f4f0f5 button.colab-df-convert');\n",
              "      buttonEl.style.display =\n",
              "        google.colab.kernel.accessAllowed ? 'block' : 'none';\n",
              "\n",
              "      async function convertToInteractive(key) {\n",
              "        const element = document.querySelector('#df-3501d628-394a-4480-aca2-d30215f4f0f5');\n",
              "        const dataTable =\n",
              "          await google.colab.kernel.invokeFunction('convertToInteractive',\n",
              "                                                    [key], {});\n",
              "        if (!dataTable) return;\n",
              "\n",
              "        const docLinkHtml = 'Like what you see? Visit the ' +\n",
              "          '<a target=\"_blank\" href=https://colab.research.google.com/notebooks/data_table.ipynb>data table notebook</a>'\n",
              "          + ' to learn more about interactive tables.';\n",
              "        element.innerHTML = '';\n",
              "        dataTable['output_type'] = 'display_data';\n",
              "        await google.colab.output.renderOutput(dataTable, element);\n",
              "        const docLink = document.createElement('div');\n",
              "        docLink.innerHTML = docLinkHtml;\n",
              "        element.appendChild(docLink);\n",
              "      }\n",
              "    </script>\n",
              "  </div>\n",
              "\n",
              "\n",
              "<div id=\"df-031ae4bb-4f54-49e8-9976-b9309b9a0e49\">\n",
              "  <button class=\"colab-df-quickchart\" onclick=\"quickchart('df-031ae4bb-4f54-49e8-9976-b9309b9a0e49')\"\n",
              "            title=\"Suggest charts.\"\n",
              "            style=\"display:none;\">\n",
              "\n",
              "<svg xmlns=\"http://www.w3.org/2000/svg\" height=\"24px\"viewBox=\"0 0 24 24\"\n",
              "     width=\"24px\">\n",
              "    <g>\n",
              "        <path d=\"M19 3H5c-1.1 0-2 .9-2 2v14c0 1.1.9 2 2 2h14c1.1 0 2-.9 2-2V5c0-1.1-.9-2-2-2zM9 17H7v-7h2v7zm4 0h-2V7h2v10zm4 0h-2v-4h2v4z\"/>\n",
              "    </g>\n",
              "</svg>\n",
              "  </button>\n",
              "\n",
              "<style>\n",
              "  .colab-df-quickchart {\n",
              "      --bg-color: #E8F0FE;\n",
              "      --fill-color: #1967D2;\n",
              "      --hover-bg-color: #E2EBFA;\n",
              "      --hover-fill-color: #174EA6;\n",
              "      --disabled-fill-color: #AAA;\n",
              "      --disabled-bg-color: #DDD;\n",
              "  }\n",
              "\n",
              "  [theme=dark] .colab-df-quickchart {\n",
              "      --bg-color: #3B4455;\n",
              "      --fill-color: #D2E3FC;\n",
              "      --hover-bg-color: #434B5C;\n",
              "      --hover-fill-color: #FFFFFF;\n",
              "      --disabled-bg-color: #3B4455;\n",
              "      --disabled-fill-color: #666;\n",
              "  }\n",
              "\n",
              "  .colab-df-quickchart {\n",
              "    background-color: var(--bg-color);\n",
              "    border: none;\n",
              "    border-radius: 50%;\n",
              "    cursor: pointer;\n",
              "    display: none;\n",
              "    fill: var(--fill-color);\n",
              "    height: 32px;\n",
              "    padding: 0;\n",
              "    width: 32px;\n",
              "  }\n",
              "\n",
              "  .colab-df-quickchart:hover {\n",
              "    background-color: var(--hover-bg-color);\n",
              "    box-shadow: 0 1px 2px rgba(60, 64, 67, 0.3), 0 1px 3px 1px rgba(60, 64, 67, 0.15);\n",
              "    fill: var(--button-hover-fill-color);\n",
              "  }\n",
              "\n",
              "  .colab-df-quickchart-complete:disabled,\n",
              "  .colab-df-quickchart-complete:disabled:hover {\n",
              "    background-color: var(--disabled-bg-color);\n",
              "    fill: var(--disabled-fill-color);\n",
              "    box-shadow: none;\n",
              "  }\n",
              "\n",
              "  .colab-df-spinner {\n",
              "    border: 2px solid var(--fill-color);\n",
              "    border-color: transparent;\n",
              "    border-bottom-color: var(--fill-color);\n",
              "    animation:\n",
              "      spin 1s steps(1) infinite;\n",
              "  }\n",
              "\n",
              "  @keyframes spin {\n",
              "    0% {\n",
              "      border-color: transparent;\n",
              "      border-bottom-color: var(--fill-color);\n",
              "      border-left-color: var(--fill-color);\n",
              "    }\n",
              "    20% {\n",
              "      border-color: transparent;\n",
              "      border-left-color: var(--fill-color);\n",
              "      border-top-color: var(--fill-color);\n",
              "    }\n",
              "    30% {\n",
              "      border-color: transparent;\n",
              "      border-left-color: var(--fill-color);\n",
              "      border-top-color: var(--fill-color);\n",
              "      border-right-color: var(--fill-color);\n",
              "    }\n",
              "    40% {\n",
              "      border-color: transparent;\n",
              "      border-right-color: var(--fill-color);\n",
              "      border-top-color: var(--fill-color);\n",
              "    }\n",
              "    60% {\n",
              "      border-color: transparent;\n",
              "      border-right-color: var(--fill-color);\n",
              "    }\n",
              "    80% {\n",
              "      border-color: transparent;\n",
              "      border-right-color: var(--fill-color);\n",
              "      border-bottom-color: var(--fill-color);\n",
              "    }\n",
              "    90% {\n",
              "      border-color: transparent;\n",
              "      border-bottom-color: var(--fill-color);\n",
              "    }\n",
              "  }\n",
              "</style>\n",
              "\n",
              "  <script>\n",
              "    async function quickchart(key) {\n",
              "      const quickchartButtonEl =\n",
              "        document.querySelector('#' + key + ' button');\n",
              "      quickchartButtonEl.disabled = true;  // To prevent multiple clicks.\n",
              "      quickchartButtonEl.classList.add('colab-df-spinner');\n",
              "      try {\n",
              "        const charts = await google.colab.kernel.invokeFunction(\n",
              "            'suggestCharts', [key], {});\n",
              "      } catch (error) {\n",
              "        console.error('Error during call to suggestCharts:', error);\n",
              "      }\n",
              "      quickchartButtonEl.classList.remove('colab-df-spinner');\n",
              "      quickchartButtonEl.classList.add('colab-df-quickchart-complete');\n",
              "    }\n",
              "    (() => {\n",
              "      let quickchartButtonEl =\n",
              "        document.querySelector('#df-031ae4bb-4f54-49e8-9976-b9309b9a0e49 button');\n",
              "      quickchartButtonEl.style.display =\n",
              "        google.colab.kernel.accessAllowed ? 'block' : 'none';\n",
              "    })();\n",
              "  </script>\n",
              "</div>\n",
              "    </div>\n",
              "  </div>\n"
            ]
          },
          "metadata": {},
          "execution_count": 282
        }
      ]
    },
    {
      "cell_type": "code",
      "source": [
        "hybridmodel2.evaluate([X_test_char[\"text\"],X_test_char[\"order\"],X_test_char[\"text\"]])"
      ],
      "metadata": {
        "colab": {
          "base_uri": "https://localhost:8080/"
        },
        "id": "uCxyXRA7r9T4",
        "outputId": "d07ea33a-9c85-4b7e-b6ee-e4f1a0bb549c"
      },
      "execution_count": null,
      "outputs": [
        {
          "output_type": "stream",
          "name": "stdout",
          "text": [
            "942/942 [==============================] - 3s 3ms/step - loss: 0.0000e+00 - accuracy: 0.0000e+00\n"
          ]
        },
        {
          "output_type": "execute_result",
          "data": {
            "text/plain": [
              "[0.0, 0.0]"
            ]
          },
          "metadata": {},
          "execution_count": 280
        }
      ]
    },
    {
      "cell_type": "code",
      "source": [
        "from sklearn.metrics import classification_report"
      ],
      "metadata": {
        "id": "iwDUxzM2rUPD"
      },
      "execution_count": null,
      "outputs": []
    },
    {
      "cell_type": "code",
      "source": [
        "evaluations=[eLSTM[0],eGRU[0],eUSE[0],ew2v[0],ecnn[0],ehybrid[0],ehybrid2[0],eorginal[0]]\n",
        "df={\"accuracy\":[],\"f1_score\":[],\"Training Time\":[],\"val_loss\":[],\"loss\":[],\"Models\":[\"LSTM\",\"GRU\",\"USE\",\"W2V\",\"CNN\",\"Hybrid\",\"Hybrid with W2V\",\"Orginal Model\"]}"
      ],
      "metadata": {
        "id": "dLdf3p9dkpXk"
      },
      "execution_count": null,
      "outputs": []
    },
    {
      "cell_type": "code",
      "source": [
        "for i in evaluations:\n",
        "  df[\"accuracy\"].append(i[\"accuracy\"])\n",
        "  df[\"f1_score\"].append(i[\"f1_score\"])\n",
        "  df[\"Training Time\"].append(i[\"Training Time\"])\n",
        "  df[\"val_loss\"].append(i[\"Val Loss\"])\n",
        "  df[\"loss\"].append(i[\"Loss\"])"
      ],
      "metadata": {
        "id": "sT-GDczBlw8c"
      },
      "execution_count": null,
      "outputs": []
    },
    {
      "cell_type": "code",
      "source": [
        "df=pd.DataFrame(df,index=df[\"Models\"]).drop(\"Models\",axis=1)"
      ],
      "metadata": {
        "id": "RX-4FWN0mLsw"
      },
      "execution_count": null,
      "outputs": []
    },
    {
      "cell_type": "code",
      "source": [
        "\n",
        "plt.figure()\n",
        "df[[\"accuracy\",\"f1_score\"]].plot(kind=\"bar\",title=\"Comparing All models by Accuracy and F1 Scores\").legend(bbox_to_anchor=(1.05, 1), loc='upper left')\n"
      ],
      "metadata": {
        "colab": {
          "base_uri": "https://localhost:8080/",
          "height": 589
        },
        "id": "a-FbLt8XmvSQ",
        "outputId": "d4402f20-0c16-4e36-b65f-51eb3bd61283"
      },
      "execution_count": null,
      "outputs": [
        {
          "output_type": "execute_result",
          "data": {
            "text/plain": [
              "<matplotlib.legend.Legend at 0x78377cffac50>"
            ]
          },
          "metadata": {},
          "execution_count": 308
        },
        {
          "output_type": "display_data",
          "data": {
            "text/plain": [
              "<Figure size 640x480 with 0 Axes>"
            ]
          },
          "metadata": {}
        },
        {
          "output_type": "display_data",
          "data": {
            "text/plain": [
              "<Figure size 640x480 with 1 Axes>"
            ],
            "image/png": "[encoded data removed]"
          },
          "metadata": {}
        }
      ]
    },
    {
      "cell_type": "code",
      "source": [
        "plt.figure()\n",
        "df[\"Training Time\"].plot(kind=\"bar\",title=\"Comparing All models by Training Time\")"
      ],
      "metadata": {
        "colab": {
          "base_uri": "https://localhost:8080/",
          "height": 571
        },
        "id": "ocRtA4KbodlX",
        "outputId": "22657c9e-ec83-432f-d61d-bb90ff07b3c7"
      },
      "execution_count": null,
      "outputs": [
        {
          "output_type": "execute_result",
          "data": {
            "text/plain": [
              "<Axes: title={'center': 'Comparing All models by Training Time'}>"
            ]
          },
          "metadata": {},
          "execution_count": 309
        },
        {
          "output_type": "display_data",
          "data": {
            "text/plain": [
              "<Figure size 640x480 with 1 Axes>"
            ],
            "image/png": "[encoded data removed]"
          },
          "metadata": {}
        }
      ]
    },
    {
      "cell_type": "code",
      "source": [
        "cfehybrid2=pd.DataFrame(ehybrid2[1]).T\n",
        "cfehybrid2.drop([\"macro avg\",\"weighted avg\",\"accuracy\"],inplace=True,axis=0)\n",
        "cfehybrid2.sort_values(\"f1-score\") #The model had problems about classifying objective class"
      ],
      "metadata": {
        "colab": {
          "base_uri": "https://localhost:8080/",
          "height": 206
        },
        "id": "pAZ8pfvjwfCB",
        "outputId": "acfac737-1e3e-4f4c-fe26-57f7303a7d7c"
      },
      "execution_count": null,
      "outputs": [
        {
          "output_type": "execute_result",
          "data": {
            "text/plain": [
              "             precision    recall  f1-score  support\n",
              "OBJECTIVE     0.759615  0.474068  0.583795   2333.0\n",
              "BACKGROUND    0.698276  0.827672  0.757488   3621.0\n",
              "CONCLUSIONS   0.830255  0.884927  0.856719   4571.0\n",
              "RESULTS       0.919020  0.834243  0.874582   9713.0\n",
              "METHODS       0.869321  0.939679  0.903132   9897.0"
            ],
            "text/html": [
              "\n",
              "  <div id=\"df-47a28468-8c82-474b-a46c-e885fd945849\" class=\"colab-df-container\">\n",
              "    <div>\n",
              "<style scoped>\n",
              "    .dataframe tbody tr th:only-of-type {\n",
              "        vertical-align: middle;\n",
              "    }\n",
              "\n",
              "    .dataframe tbody tr th {\n",
              "        vertical-align: top;\n",
              "    }\n",
              "\n",
              "    .dataframe thead th {\n",
              "        text-align: right;\n",
              "    }\n",
              "</style>\n",
              "<table border=\"1\" class=\"dataframe\">\n",
              "  <thead>\n",
              "    <tr style=\"text-align: right;\">\n",
              "      <th></th>\n",
              "      <th>precision</th>\n",
              "      <th>recall</th>\n",
              "      <th>f1-score</th>\n",
              "      <th>support</th>\n",
              "    </tr>\n",
              "  </thead>\n",
              "  <tbody>\n",
              "    <tr>\n",
              "      <th>OBJECTIVE</th>\n",
              "      <td>0.759615</td>\n",
              "      <td>0.474068</td>\n",
              "      <td>0.583795</td>\n",
              "      <td>2333.0</td>\n",
              "    </tr>\n",
              "    <tr>\n",
              "      <th>BACKGROUND</th>\n",
              "      <td>0.698276</td>\n",
              "      <td>0.827672</td>\n",
              "      <td>0.757488</td>\n",
              "      <td>3621.0</td>\n",
              "    </tr>\n",
              "    <tr>\n",
              "      <th>CONCLUSIONS</th>\n",
              "      <td>0.830255</td>\n",
              "      <td>0.884927</td>\n",
              "      <td>0.856719</td>\n",
              "      <td>4571.0</td>\n",
              "    </tr>\n",
              "    <tr>\n",
              "      <th>RESULTS</th>\n",
              "      <td>0.919020</td>\n",
              "      <td>0.834243</td>\n",
              "      <td>0.874582</td>\n",
              "      <td>9713.0</td>\n",
              "    </tr>\n",
              "    <tr>\n",
              "      <th>METHODS</th>\n",
              "      <td>0.869321</td>\n",
              "      <td>0.939679</td>\n",
              "      <td>0.903132</td>\n",
              "      <td>9897.0</td>\n",
              "    </tr>\n",
              "  </tbody>\n",
              "</table>\n",
              "</div>\n",
              "    <div class=\"colab-df-buttons\">\n",
              "\n",
              "  <div class=\"colab-df-container\">\n",
              "    <button class=\"colab-df-convert\" onclick=\"convertToInteractive('df-47a28468-8c82-474b-a46c-e885fd945849')\"\n",
              "            title=\"Convert this dataframe to an interactive table.\"\n",
              "            style=\"display:none;\">\n",
              "\n",
              "  <svg xmlns=\"http://www.w3.org/2000/svg\" height=\"24px\" viewBox=\"0 -960 960 960\">\n",
              "    <path d=\"M120-120v-720h720v720H120Zm60-500h600v-160H180v160Zm220 220h160v-160H400v160Zm0 220h160v-160H400v160ZM180-400h160v-160H180v160Zm440 0h160v-160H620v160ZM180-180h160v-160H180v160Zm440 0h160v-160H620v160Z\"/>\n",
              "  </svg>\n",
              "    </button>\n",
              "\n",
              "  <style>\n",
              "    .colab-df-container {\n",
              "      display:flex;\n",
              "      gap: 12px;\n",
              "    }\n",
              "\n",
              "    .colab-df-convert {\n",
              "      background-color: #E8F0FE;\n",
              "      border: none;\n",
              "      border-radius: 50%;\n",
              "      cursor: pointer;\n",
              "      display: none;\n",
              "      fill: #1967D2;\n",
              "      height: 32px;\n",
              "      padding: 0 0 0 0;\n",
              "      width: 32px;\n",
              "    }\n",
              "\n",
              "    .colab-df-convert:hover {\n",
              "      background-color: #E2EBFA;\n",
              "      box-shadow: 0px 1px 2px rgba(60, 64, 67, 0.3), 0px 1px 3px 1px rgba(60, 64, 67, 0.15);\n",
              "      fill: #174EA6;\n",
              "    }\n",
              "\n",
              "    .colab-df-buttons div {\n",
              "      margin-bottom: 4px;\n",
              "    }\n",
              "\n",
              "    [theme=dark] .colab-df-convert {\n",
              "      background-color: #3B4455;\n",
              "      fill: #D2E3FC;\n",
              "    }\n",
              "\n",
              "    [theme=dark] .colab-df-convert:hover {\n",
              "      background-color: #434B5C;\n",
              "      box-shadow: 0px 1px 3px 1px rgba(0, 0, 0, 0.15);\n",
              "      filter: drop-shadow(0px 1px 2px rgba(0, 0, 0, 0.3));\n",
              "      fill: #FFFFFF;\n",
              "    }\n",
              "  </style>\n",
              "\n",
              "    <script>\n",
              "      const buttonEl =\n",
              "        document.querySelector('#df-47a28468-8c82-474b-a46c-e885fd945849 button.colab-df-convert');\n",
              "      buttonEl.style.display =\n",
              "        google.colab.kernel.accessAllowed ? 'block' : 'none';\n",
              "\n",
              "      async function convertToInteractive(key) {\n",
              "        const element = document.querySelector('#df-47a28468-8c82-474b-a46c-e885fd945849');\n",
              "        const dataTable =\n",
              "          await google.colab.kernel.invokeFunction('convertToInteractive',\n",
              "                                                    [key], {});\n",
              "        if (!dataTable) return;\n",
              "\n",
              "        const docLinkHtml = 'Like what you see? Visit the ' +\n",
              "          '<a target=\"_blank\" href=https://colab.research.google.com/notebooks/data_table.ipynb>data table notebook</a>'\n",
              "          + ' to learn more about interactive tables.';\n",
              "        element.innerHTML = '';\n",
              "        dataTable['output_type'] = 'display_data';\n",
              "        await google.colab.output.renderOutput(dataTable, element);\n",
              "        const docLink = document.createElement('div');\n",
              "        docLink.innerHTML = docLinkHtml;\n",
              "        element.appendChild(docLink);\n",
              "      }\n",
              "    </script>\n",
              "  </div>\n",
              "\n",
              "\n",
              "<div id=\"df-5e4df49e-00b6-42fe-8b58-06f63f1853b4\">\n",
              "  <button class=\"colab-df-quickchart\" onclick=\"quickchart('df-5e4df49e-00b6-42fe-8b58-06f63f1853b4')\"\n",
              "            title=\"Suggest charts.\"\n",
              "            style=\"display:none;\">\n",
              "\n",
              "<svg xmlns=\"http://www.w3.org/2000/svg\" height=\"24px\"viewBox=\"0 0 24 24\"\n",
              "     width=\"24px\">\n",
              "    <g>\n",
              "        <path d=\"M19 3H5c-1.1 0-2 .9-2 2v14c0 1.1.9 2 2 2h14c1.1 0 2-.9 2-2V5c0-1.1-.9-2-2-2zM9 17H7v-7h2v7zm4 0h-2V7h2v10zm4 0h-2v-4h2v4z\"/>\n",
              "    </g>\n",
              "</svg>\n",
              "  </button>\n",
              "\n",
              "<style>\n",
              "  .colab-df-quickchart {\n",
              "      --bg-color: #E8F0FE;\n",
              "      --fill-color: #1967D2;\n",
              "      --hover-bg-color: #E2EBFA;\n",
              "      --hover-fill-color: #174EA6;\n",
              "      --disabled-fill-color: #AAA;\n",
              "      --disabled-bg-color: #DDD;\n",
              "  }\n",
              "\n",
              "  [theme=dark] .colab-df-quickchart {\n",
              "      --bg-color: #3B4455;\n",
              "      --fill-color: #D2E3FC;\n",
              "      --hover-bg-color: #434B5C;\n",
              "      --hover-fill-color: #FFFFFF;\n",
              "      --disabled-bg-color: #3B4455;\n",
              "      --disabled-fill-color: #666;\n",
              "  }\n",
              "\n",
              "  .colab-df-quickchart {\n",
              "    background-color: var(--bg-color);\n",
              "    border: none;\n",
              "    border-radius: 50%;\n",
              "    cursor: pointer;\n",
              "    display: none;\n",
              "    fill: var(--fill-color);\n",
              "    height: 32px;\n",
              "    padding: 0;\n",
              "    width: 32px;\n",
              "  }\n",
              "\n",
              "  .colab-df-quickchart:hover {\n",
              "    background-color: var(--hover-bg-color);\n",
              "    box-shadow: 0 1px 2px rgba(60, 64, 67, 0.3), 0 1px 3px 1px rgba(60, 64, 67, 0.15);\n",
              "    fill: var(--button-hover-fill-color);\n",
              "  }\n",
              "\n",
              "  .colab-df-quickchart-complete:disabled,\n",
              "  .colab-df-quickchart-complete:disabled:hover {\n",
              "    background-color: var(--disabled-bg-color);\n",
              "    fill: var(--disabled-fill-color);\n",
              "    box-shadow: none;\n",
              "  }\n",
              "\n",
              "  .colab-df-spinner {\n",
              "    border: 2px solid var(--fill-color);\n",
              "    border-color: transparent;\n",
              "    border-bottom-color: var(--fill-color);\n",
              "    animation:\n",
              "      spin 1s steps(1) infinite;\n",
              "  }\n",
              "\n",
              "  @keyframes spin {\n",
              "    0% {\n",
              "      border-color: transparent;\n",
              "      border-bottom-color: var(--fill-color);\n",
              "      border-left-color: var(--fill-color);\n",
              "    }\n",
              "    20% {\n",
              "      border-color: transparent;\n",
              "      border-left-color: var(--fill-color);\n",
              "      border-top-color: var(--fill-color);\n",
              "    }\n",
              "    30% {\n",
              "      border-color: transparent;\n",
              "      border-left-color: var(--fill-color);\n",
              "      border-top-color: var(--fill-color);\n",
              "      border-right-color: var(--fill-color);\n",
              "    }\n",
              "    40% {\n",
              "      border-color: transparent;\n",
              "      border-right-color: var(--fill-color);\n",
              "      border-top-color: var(--fill-color);\n",
              "    }\n",
              "    60% {\n",
              "      border-color: transparent;\n",
              "      border-right-color: var(--fill-color);\n",
              "    }\n",
              "    80% {\n",
              "      border-color: transparent;\n",
              "      border-right-color: var(--fill-color);\n",
              "      border-bottom-color: var(--fill-color);\n",
              "    }\n",
              "    90% {\n",
              "      border-color: transparent;\n",
              "      border-bottom-color: var(--fill-color);\n",
              "    }\n",
              "  }\n",
              "</style>\n",
              "\n",
              "  <script>\n",
              "    async function quickchart(key) {\n",
              "      const quickchartButtonEl =\n",
              "        document.querySelector('#' + key + ' button');\n",
              "      quickchartButtonEl.disabled = true;  // To prevent multiple clicks.\n",
              "      quickchartButtonEl.classList.add('colab-df-spinner');\n",
              "      try {\n",
              "        const charts = await google.colab.kernel.invokeFunction(\n",
              "            'suggestCharts', [key], {});\n",
              "      } catch (error) {\n",
              "        console.error('Error during call to suggestCharts:', error);\n",
              "      }\n",
              "      quickchartButtonEl.classList.remove('colab-df-spinner');\n",
              "      quickchartButtonEl.classList.add('colab-df-quickchart-complete');\n",
              "    }\n",
              "    (() => {\n",
              "      let quickchartButtonEl =\n",
              "        document.querySelector('#df-5e4df49e-00b6-42fe-8b58-06f63f1853b4 button');\n",
              "      quickchartButtonEl.style.display =\n",
              "        google.colab.kernel.accessAllowed ? 'block' : 'none';\n",
              "    })();\n",
              "  </script>\n",
              "</div>\n",
              "    </div>\n",
              "  </div>\n"
            ]
          },
          "metadata": {},
          "execution_count": 332
        }
      ]
    },
    {
      "cell_type": "code",
      "source": [
        "cfcnn=pd.DataFrame(ecnn[1]).T\n",
        "cfcnn.drop([\"macro avg\",\"weighted avg\",\"accuracy\"],inplace=True,axis=0)\n",
        "cfcnn.sort_values(\"f1-score\") #The model had also problems about classifying objective"
      ],
      "metadata": {
        "colab": {
          "base_uri": "https://localhost:8080/",
          "height": 206
        },
        "id": "A7qqYTB1yV-W",
        "outputId": "85906535-0ab0-4ee0-8566-75b103ecbd71"
      },
      "execution_count": null,
      "outputs": [
        {
          "output_type": "execute_result",
          "data": {
            "text/plain": [
              "             precision    recall  f1-score  support\n",
              "OBJECTIVE     0.700988  0.364766  0.479842   2333.0\n",
              "BACKGROUND    0.578081  0.678818  0.624413   3621.0\n",
              "CONCLUSIONS   0.688729  0.689783  0.689256   4571.0\n",
              "RESULTS       0.859314  0.838258  0.848655   9713.0\n",
              "METHODS       0.838263  0.899161  0.867645   9897.0"
            ],
            "text/html": [
              "\n",
              "  <div id=\"df-0fdda29d-eab6-400b-a320-13a40cf63187\" class=\"colab-df-container\">\n",
              "    <div>\n",
              "<style scoped>\n",
              "    .dataframe tbody tr th:only-of-type {\n",
              "        vertical-align: middle;\n",
              "    }\n",
              "\n",
              "    .dataframe tbody tr th {\n",
              "        vertical-align: top;\n",
              "    }\n",
              "\n",
              "    .dataframe thead th {\n",
              "        text-align: right;\n",
              "    }\n",
              "</style>\n",
              "<table border=\"1\" class=\"dataframe\">\n",
              "  <thead>\n",
              "    <tr style=\"text-align: right;\">\n",
              "      <th></th>\n",
              "      <th>precision</th>\n",
              "      <th>recall</th>\n",
              "      <th>f1-score</th>\n",
              "      <th>support</th>\n",
              "    </tr>\n",
              "  </thead>\n",
              "  <tbody>\n",
              "    <tr>\n",
              "      <th>OBJECTIVE</th>\n",
              "      <td>0.700988</td>\n",
              "      <td>0.364766</td>\n",
              "      <td>0.479842</td>\n",
              "      <td>2333.0</td>\n",
              "    </tr>\n",
              "    <tr>\n",
              "      <th>BACKGROUND</th>\n",
              "      <td>0.578081</td>\n",
              "      <td>0.678818</td>\n",
              "      <td>0.624413</td>\n",
              "      <td>3621.0</td>\n",
              "    </tr>\n",
              "    <tr>\n",
              "      <th>CONCLUSIONS</th>\n",
              "      <td>0.688729</td>\n",
              "      <td>0.689783</td>\n",
              "      <td>0.689256</td>\n",
              "      <td>4571.0</td>\n",
              "    </tr>\n",
              "    <tr>\n",
              "      <th>RESULTS</th>\n",
              "      <td>0.859314</td>\n",
              "      <td>0.838258</td>\n",
              "      <td>0.848655</td>\n",
              "      <td>9713.0</td>\n",
              "    </tr>\n",
              "    <tr>\n",
              "      <th>METHODS</th>\n",
              "      <td>0.838263</td>\n",
              "      <td>0.899161</td>\n",
              "      <td>0.867645</td>\n",
              "      <td>9897.0</td>\n",
              "    </tr>\n",
              "  </tbody>\n",
              "</table>\n",
              "</div>\n",
              "    <div class=\"colab-df-buttons\">\n",
              "\n",
              "  <div class=\"colab-df-container\">\n",
              "    <button class=\"colab-df-convert\" onclick=\"convertToInteractive('df-0fdda29d-eab6-400b-a320-13a40cf63187')\"\n",
              "            title=\"Convert this dataframe to an interactive table.\"\n",
              "            style=\"display:none;\">\n",
              "\n",
              "  <svg xmlns=\"http://www.w3.org/2000/svg\" height=\"24px\" viewBox=\"0 -960 960 960\">\n",
              "    <path d=\"M120-120v-720h720v720H120Zm60-500h600v-160H180v160Zm220 220h160v-160H400v160Zm0 220h160v-160H400v160ZM180-400h160v-160H180v160Zm440 0h160v-160H620v160ZM180-180h160v-160H180v160Zm440 0h160v-160H620v160Z\"/>\n",
              "  </svg>\n",
              "    </button>\n",
              "\n",
              "  <style>\n",
              "    .colab-df-container {\n",
              "      display:flex;\n",
              "      gap: 12px;\n",
              "    }\n",
              "\n",
              "    .colab-df-convert {\n",
              "      background-color: #E8F0FE;\n",
              "      border: none;\n",
              "      border-radius: 50%;\n",
              "      cursor: pointer;\n",
              "      display: none;\n",
              "      fill: #1967D2;\n",
              "      height: 32px;\n",
              "      padding: 0 0 0 0;\n",
              "      width: 32px;\n",
              "    }\n",
              "\n",
              "    .colab-df-convert:hover {\n",
              "      background-color: #E2EBFA;\n",
              "      box-shadow: 0px 1px 2px rgba(60, 64, 67, 0.3), 0px 1px 3px 1px rgba(60, 64, 67, 0.15);\n",
              "      fill: #174EA6;\n",
              "    }\n",
              "\n",
              "    .colab-df-buttons div {\n",
              "      margin-bottom: 4px;\n",
              "    }\n",
              "\n",
              "    [theme=dark] .colab-df-convert {\n",
              "      background-color: #3B4455;\n",
              "      fill: #D2E3FC;\n",
              "    }\n",
              "\n",
              "    [theme=dark] .colab-df-convert:hover {\n",
              "      background-color: #434B5C;\n",
              "      box-shadow: 0px 1px 3px 1px rgba(0, 0, 0, 0.15);\n",
              "      filter: drop-shadow(0px 1px 2px rgba(0, 0, 0, 0.3));\n",
              "      fill: #FFFFFF;\n",
              "    }\n",
              "  </style>\n",
              "\n",
              "    <script>\n",
              "      const buttonEl =\n",
              "        document.querySelector('#df-0fdda29d-eab6-400b-a320-13a40cf63187 button.colab-df-convert');\n",
              "      buttonEl.style.display =\n",
              "        google.colab.kernel.accessAllowed ? 'block' : 'none';\n",
              "\n",
              "      async function convertToInteractive(key) {\n",
              "        const element = document.querySelector('#df-0fdda29d-eab6-400b-a320-13a40cf63187');\n",
              "        const dataTable =\n",
              "          await google.colab.kernel.invokeFunction('convertToInteractive',\n",
              "                                                    [key], {});\n",
              "        if (!dataTable) return;\n",
              "\n",
              "        const docLinkHtml = 'Like what you see? Visit the ' +\n",
              "          '<a target=\"_blank\" href=https://colab.research.google.com/notebooks/data_table.ipynb>data table notebook</a>'\n",
              "          + ' to learn more about interactive tables.';\n",
              "        element.innerHTML = '';\n",
              "        dataTable['output_type'] = 'display_data';\n",
              "        await google.colab.output.renderOutput(dataTable, element);\n",
              "        const docLink = document.createElement('div');\n",
              "        docLink.innerHTML = docLinkHtml;\n",
              "        element.appendChild(docLink);\n",
              "      }\n",
              "    </script>\n",
              "  </div>\n",
              "\n",
              "\n",
              "<div id=\"df-0fe887fa-207e-4e33-b5c4-b49b21496f9a\">\n",
              "  <button class=\"colab-df-quickchart\" onclick=\"quickchart('df-0fe887fa-207e-4e33-b5c4-b49b21496f9a')\"\n",
              "            title=\"Suggest charts.\"\n",
              "            style=\"display:none;\">\n",
              "\n",
              "<svg xmlns=\"http://www.w3.org/2000/svg\" height=\"24px\"viewBox=\"0 0 24 24\"\n",
              "     width=\"24px\">\n",
              "    <g>\n",
              "        <path d=\"M19 3H5c-1.1 0-2 .9-2 2v14c0 1.1.9 2 2 2h14c1.1 0 2-.9 2-2V5c0-1.1-.9-2-2-2zM9 17H7v-7h2v7zm4 0h-2V7h2v10zm4 0h-2v-4h2v4z\"/>\n",
              "    </g>\n",
              "</svg>\n",
              "  </button>\n",
              "\n",
              "<style>\n",
              "  .colab-df-quickchart {\n",
              "      --bg-color: #E8F0FE;\n",
              "      --fill-color: #1967D2;\n",
              "      --hover-bg-color: #E2EBFA;\n",
              "      --hover-fill-color: #174EA6;\n",
              "      --disabled-fill-color: #AAA;\n",
              "      --disabled-bg-color: #DDD;\n",
              "  }\n",
              "\n",
              "  [theme=dark] .colab-df-quickchart {\n",
              "      --bg-color: #3B4455;\n",
              "      --fill-color: #D2E3FC;\n",
              "      --hover-bg-color: #434B5C;\n",
              "      --hover-fill-color: #FFFFFF;\n",
              "      --disabled-bg-color: #3B4455;\n",
              "      --disabled-fill-color: #666;\n",
              "  }\n",
              "\n",
              "  .colab-df-quickchart {\n",
              "    background-color: var(--bg-color);\n",
              "    border: none;\n",
              "    border-radius: 50%;\n",
              "    cursor: pointer;\n",
              "    display: none;\n",
              "    fill: var(--fill-color);\n",
              "    height: 32px;\n",
              "    padding: 0;\n",
              "    width: 32px;\n",
              "  }\n",
              "\n",
              "  .colab-df-quickchart:hover {\n",
              "    background-color: var(--hover-bg-color);\n",
              "    box-shadow: 0 1px 2px rgba(60, 64, 67, 0.3), 0 1px 3px 1px rgba(60, 64, 67, 0.15);\n",
              "    fill: var(--button-hover-fill-color);\n",
              "  }\n",
              "\n",
              "  .colab-df-quickchart-complete:disabled,\n",
              "  .colab-df-quickchart-complete:disabled:hover {\n",
              "    background-color: var(--disabled-bg-color);\n",
              "    fill: var(--disabled-fill-color);\n",
              "    box-shadow: none;\n",
              "  }\n",
              "\n",
              "  .colab-df-spinner {\n",
              "    border: 2px solid var(--fill-color);\n",
              "    border-color: transparent;\n",
              "    border-bottom-color: var(--fill-color);\n",
              "    animation:\n",
              "      spin 1s steps(1) infinite;\n",
              "  }\n",
              "\n",
              "  @keyframes spin {\n",
              "    0% {\n",
              "      border-color: transparent;\n",
              "      border-bottom-color: var(--fill-color);\n",
              "      border-left-color: var(--fill-color);\n",
              "    }\n",
              "    20% {\n",
              "      border-color: transparent;\n",
              "      border-left-color: var(--fill-color);\n",
              "      border-top-color: var(--fill-color);\n",
              "    }\n",
              "    30% {\n",
              "      border-color: transparent;\n",
              "      border-left-color: var(--fill-color);\n",
              "      border-top-color: var(--fill-color);\n",
              "      border-right-color: var(--fill-color);\n",
              "    }\n",
              "    40% {\n",
              "      border-color: transparent;\n",
              "      border-right-color: var(--fill-color);\n",
              "      border-top-color: var(--fill-color);\n",
              "    }\n",
              "    60% {\n",
              "      border-color: transparent;\n",
              "      border-right-color: var(--fill-color);\n",
              "    }\n",
              "    80% {\n",
              "      border-color: transparent;\n",
              "      border-right-color: var(--fill-color);\n",
              "      border-bottom-color: var(--fill-color);\n",
              "    }\n",
              "    90% {\n",
              "      border-color: transparent;\n",
              "      border-bottom-color: var(--fill-color);\n",
              "    }\n",
              "  }\n",
              "</style>\n",
              "\n",
              "  <script>\n",
              "    async function quickchart(key) {\n",
              "      const quickchartButtonEl =\n",
              "        document.querySelector('#' + key + ' button');\n",
              "      quickchartButtonEl.disabled = true;  // To prevent multiple clicks.\n",
              "      quickchartButtonEl.classList.add('colab-df-spinner');\n",
              "      try {\n",
              "        const charts = await google.colab.kernel.invokeFunction(\n",
              "            'suggestCharts', [key], {});\n",
              "      } catch (error) {\n",
              "        console.error('Error during call to suggestCharts:', error);\n",
              "      }\n",
              "      quickchartButtonEl.classList.remove('colab-df-spinner');\n",
              "      quickchartButtonEl.classList.add('colab-df-quickchart-complete');\n",
              "    }\n",
              "    (() => {\n",
              "      let quickchartButtonEl =\n",
              "        document.querySelector('#df-0fe887fa-207e-4e33-b5c4-b49b21496f9a button');\n",
              "      quickchartButtonEl.style.display =\n",
              "        google.colab.kernel.accessAllowed ? 'block' : 'none';\n",
              "    })();\n",
              "  </script>\n",
              "</div>\n",
              "    </div>\n",
              "  </div>\n"
            ]
          },
          "metadata": {},
          "execution_count": 333
        }
      ]
    },
    {
      "cell_type": "code",
      "source": [
        "cforg=pd.DataFrame(eorginal[1]).T\n",
        "cforg.drop([\"macro avg\",\"weighted avg\",\"accuracy\"],inplace=True,axis=0)\n",
        "cforg.sort_values(\"f1-score\") #This model has better performance on classifying objective class"
      ],
      "metadata": {
        "colab": {
          "base_uri": "https://localhost:8080/",
          "height": 206
        },
        "id": "-LZQrtL0ysyk",
        "outputId": "4fa297a3-b4e7-4e14-b7d3-2f559f523a3f"
      },
      "execution_count": null,
      "outputs": [
        {
          "output_type": "execute_result",
          "data": {
            "text/plain": [
              "             precision    recall  f1-score  support\n",
              "BACKGROUND    0.598062  0.562552  0.579764   3621.0\n",
              "OBJECTIVE     0.713793  0.532362  0.609870   2333.0\n",
              "CONCLUSIONS   0.675596  0.651061  0.663102   4571.0\n",
              "RESULTS       0.827159  0.839082  0.833078   9713.0\n",
              "METHODS       0.824248  0.893705  0.857572   9897.0"
            ],
            "text/html": [
              "\n",
              "  <div id=\"df-a338ebdc-e661-4561-9481-fa5b43ef2405\" class=\"colab-df-container\">\n",
              "    <div>\n",
              "<style scoped>\n",
              "    .dataframe tbody tr th:only-of-type {\n",
              "        vertical-align: middle;\n",
              "    }\n",
              "\n",
              "    .dataframe tbody tr th {\n",
              "        vertical-align: top;\n",
              "    }\n",
              "\n",
              "    .dataframe thead th {\n",
              "        text-align: right;\n",
              "    }\n",
              "</style>\n",
              "<table border=\"1\" class=\"dataframe\">\n",
              "  <thead>\n",
              "    <tr style=\"text-align: right;\">\n",
              "      <th></th>\n",
              "      <th>precision</th>\n",
              "      <th>recall</th>\n",
              "      <th>f1-score</th>\n",
              "      <th>support</th>\n",
              "    </tr>\n",
              "  </thead>\n",
              "  <tbody>\n",
              "    <tr>\n",
              "      <th>BACKGROUND</th>\n",
              "      <td>0.598062</td>\n",
              "      <td>0.562552</td>\n",
              "      <td>0.579764</td>\n",
              "      <td>3621.0</td>\n",
              "    </tr>\n",
              "    <tr>\n",
              "      <th>OBJECTIVE</th>\n",
              "      <td>0.713793</td>\n",
              "      <td>0.532362</td>\n",
              "      <td>0.609870</td>\n",
              "      <td>2333.0</td>\n",
              "    </tr>\n",
              "    <tr>\n",
              "      <th>CONCLUSIONS</th>\n",
              "      <td>0.675596</td>\n",
              "      <td>0.651061</td>\n",
              "      <td>0.663102</td>\n",
              "      <td>4571.0</td>\n",
              "    </tr>\n",
              "    <tr>\n",
              "      <th>RESULTS</th>\n",
              "      <td>0.827159</td>\n",
              "      <td>0.839082</td>\n",
              "      <td>0.833078</td>\n",
              "      <td>9713.0</td>\n",
              "    </tr>\n",
              "    <tr>\n",
              "      <th>METHODS</th>\n",
              "      <td>0.824248</td>\n",
              "      <td>0.893705</td>\n",
              "      <td>0.857572</td>\n",
              "      <td>9897.0</td>\n",
              "    </tr>\n",
              "  </tbody>\n",
              "</table>\n",
              "</div>\n",
              "    <div class=\"colab-df-buttons\">\n",
              "\n",
              "  <div class=\"colab-df-container\">\n",
              "    <button class=\"colab-df-convert\" onclick=\"convertToInteractive('df-a338ebdc-e661-4561-9481-fa5b43ef2405')\"\n",
              "            title=\"Convert this dataframe to an interactive table.\"\n",
              "            style=\"display:none;\">\n",
              "\n",
              "  <svg xmlns=\"http://www.w3.org/2000/svg\" height=\"24px\" viewBox=\"0 -960 960 960\">\n",
              "    <path d=\"M120-120v-720h720v720H120Zm60-500h600v-160H180v160Zm220 220h160v-160H400v160Zm0 220h160v-160H400v160ZM180-400h160v-160H180v160Zm440 0h160v-160H620v160ZM180-180h160v-160H180v160Zm440 0h160v-160H620v160Z\"/>\n",
              "  </svg>\n",
              "    </button>\n",
              "\n",
              "  <style>\n",
              "    .colab-df-container {\n",
              "      display:flex;\n",
              "      gap: 12px;\n",
              "    }\n",
              "\n",
              "    .colab-df-convert {\n",
              "      background-color: #E8F0FE;\n",
              "      border: none;\n",
              "      border-radius: 50%;\n",
              "      cursor: pointer;\n",
              "      display: none;\n",
              "      fill: #1967D2;\n",
              "      height: 32px;\n",
              "      padding: 0 0 0 0;\n",
              "      width: 32px;\n",
              "    }\n",
              "\n",
              "    .colab-df-convert:hover {\n",
              "      background-color: #E2EBFA;\n",
              "      box-shadow: 0px 1px 2px rgba(60, 64, 67, 0.3), 0px 1px 3px 1px rgba(60, 64, 67, 0.15);\n",
              "      fill: #174EA6;\n",
              "    }\n",
              "\n",
              "    .colab-df-buttons div {\n",
              "      margin-bottom: 4px;\n",
              "    }\n",
              "\n",
              "    [theme=dark] .colab-df-convert {\n",
              "      background-color: #3B4455;\n",
              "      fill: #D2E3FC;\n",
              "    }\n",
              "\n",
              "    [theme=dark] .colab-df-convert:hover {\n",
              "      background-color: #434B5C;\n",
              "      box-shadow: 0px 1px 3px 1px rgba(0, 0, 0, 0.15);\n",
              "      filter: drop-shadow(0px 1px 2px rgba(0, 0, 0, 0.3));\n",
              "      fill: #FFFFFF;\n",
              "    }\n",
              "  </style>\n",
              "\n",
              "    <script>\n",
              "      const buttonEl =\n",
              "        document.querySelector('#df-a338ebdc-e661-4561-9481-fa5b43ef2405 button.colab-df-convert');\n",
              "      buttonEl.style.display =\n",
              "        google.colab.kernel.accessAllowed ? 'block' : 'none';\n",
              "\n",
              "      async function convertToInteractive(key) {\n",
              "        const element = document.querySelector('#df-a338ebdc-e661-4561-9481-fa5b43ef2405');\n",
              "        const dataTable =\n",
              "          await google.colab.kernel.invokeFunction('convertToInteractive',\n",
              "                                                    [key], {});\n",
              "        if (!dataTable) return;\n",
              "\n",
              "        const docLinkHtml = 'Like what you see? Visit the ' +\n",
              "          '<a target=\"_blank\" href=https://colab.research.google.com/notebooks/data_table.ipynb>data table notebook</a>'\n",
              "          + ' to learn more about interactive tables.';\n",
              "        element.innerHTML = '';\n",
              "        dataTable['output_type'] = 'display_data';\n",
              "        await google.colab.output.renderOutput(dataTable, element);\n",
              "        const docLink = document.createElement('div');\n",
              "        docLink.innerHTML = docLinkHtml;\n",
              "        element.appendChild(docLink);\n",
              "      }\n",
              "    </script>\n",
              "  </div>\n",
              "\n",
              "\n",
              "<div id=\"df-bfb8b142-22eb-44b3-bc28-458160f073e3\">\n",
              "  <button class=\"colab-df-quickchart\" onclick=\"quickchart('df-bfb8b142-22eb-44b3-bc28-458160f073e3')\"\n",
              "            title=\"Suggest charts.\"\n",
              "            style=\"display:none;\">\n",
              "\n",
              "<svg xmlns=\"http://www.w3.org/2000/svg\" height=\"24px\"viewBox=\"0 0 24 24\"\n",
              "     width=\"24px\">\n",
              "    <g>\n",
              "        <path d=\"M19 3H5c-1.1 0-2 .9-2 2v14c0 1.1.9 2 2 2h14c1.1 0 2-.9 2-2V5c0-1.1-.9-2-2-2zM9 17H7v-7h2v7zm4 0h-2V7h2v10zm4 0h-2v-4h2v4z\"/>\n",
              "    </g>\n",
              "</svg>\n",
              "  </button>\n",
              "\n",
              "<style>\n",
              "  .colab-df-quickchart {\n",
              "      --bg-color: #E8F0FE;\n",
              "      --fill-color: #1967D2;\n",
              "      --hover-bg-color: #E2EBFA;\n",
              "      --hover-fill-color: #174EA6;\n",
              "      --disabled-fill-color: #AAA;\n",
              "      --disabled-bg-color: #DDD;\n",
              "  }\n",
              "\n",
              "  [theme=dark] .colab-df-quickchart {\n",
              "      --bg-color: #3B4455;\n",
              "      --fill-color: #D2E3FC;\n",
              "      --hover-bg-color: #434B5C;\n",
              "      --hover-fill-color: #FFFFFF;\n",
              "      --disabled-bg-color: #3B4455;\n",
              "      --disabled-fill-color: #666;\n",
              "  }\n",
              "\n",
              "  .colab-df-quickchart {\n",
              "    background-color: var(--bg-color);\n",
              "    border: none;\n",
              "    border-radius: 50%;\n",
              "    cursor: pointer;\n",
              "    display: none;\n",
              "    fill: var(--fill-color);\n",
              "    height: 32px;\n",
              "    padding: 0;\n",
              "    width: 32px;\n",
              "  }\n",
              "\n",
              "  .colab-df-quickchart:hover {\n",
              "    background-color: var(--hover-bg-color);\n",
              "    box-shadow: 0 1px 2px rgba(60, 64, 67, 0.3), 0 1px 3px 1px rgba(60, 64, 67, 0.15);\n",
              "    fill: var(--button-hover-fill-color);\n",
              "  }\n",
              "\n",
              "  .colab-df-quickchart-complete:disabled,\n",
              "  .colab-df-quickchart-complete:disabled:hover {\n",
              "    background-color: var(--disabled-bg-color);\n",
              "    fill: var(--disabled-fill-color);\n",
              "    box-shadow: none;\n",
              "  }\n",
              "\n",
              "  .colab-df-spinner {\n",
              "    border: 2px solid var(--fill-color);\n",
              "    border-color: transparent;\n",
              "    border-bottom-color: var(--fill-color);\n",
              "    animation:\n",
              "      spin 1s steps(1) infinite;\n",
              "  }\n",
              "\n",
              "  @keyframes spin {\n",
              "    0% {\n",
              "      border-color: transparent;\n",
              "      border-bottom-color: var(--fill-color);\n",
              "      border-left-color: var(--fill-color);\n",
              "    }\n",
              "    20% {\n",
              "      border-color: transparent;\n",
              "      border-left-color: var(--fill-color);\n",
              "      border-top-color: var(--fill-color);\n",
              "    }\n",
              "    30% {\n",
              "      border-color: transparent;\n",
              "      border-left-color: var(--fill-color);\n",
              "      border-top-color: var(--fill-color);\n",
              "      border-right-color: var(--fill-color);\n",
              "    }\n",
              "    40% {\n",
              "      border-color: transparent;\n",
              "      border-right-color: var(--fill-color);\n",
              "      border-top-color: var(--fill-color);\n",
              "    }\n",
              "    60% {\n",
              "      border-color: transparent;\n",
              "      border-right-color: var(--fill-color);\n",
              "    }\n",
              "    80% {\n",
              "      border-color: transparent;\n",
              "      border-right-color: var(--fill-color);\n",
              "      border-bottom-color: var(--fill-color);\n",
              "    }\n",
              "    90% {\n",
              "      border-color: transparent;\n",
              "      border-bottom-color: var(--fill-color);\n",
              "    }\n",
              "  }\n",
              "</style>\n",
              "\n",
              "  <script>\n",
              "    async function quickchart(key) {\n",
              "      const quickchartButtonEl =\n",
              "        document.querySelector('#' + key + ' button');\n",
              "      quickchartButtonEl.disabled = true;  // To prevent multiple clicks.\n",
              "      quickchartButtonEl.classList.add('colab-df-spinner');\n",
              "      try {\n",
              "        const charts = await google.colab.kernel.invokeFunction(\n",
              "            'suggestCharts', [key], {});\n",
              "      } catch (error) {\n",
              "        console.error('Error during call to suggestCharts:', error);\n",
              "      }\n",
              "      quickchartButtonEl.classList.remove('colab-df-spinner');\n",
              "      quickchartButtonEl.classList.add('colab-df-quickchart-complete');\n",
              "    }\n",
              "    (() => {\n",
              "      let quickchartButtonEl =\n",
              "        document.querySelector('#df-bfb8b142-22eb-44b3-bc28-458160f073e3 button');\n",
              "      quickchartButtonEl.style.display =\n",
              "        google.colab.kernel.accessAllowed ? 'block' : 'none';\n",
              "    })();\n",
              "  </script>\n",
              "</div>\n",
              "    </div>\n",
              "  </div>\n"
            ]
          },
          "metadata": {},
          "execution_count": 334
        }
      ]
    },
    {
      "cell_type": "code",
      "source": [
        "#We will investigate what will model predicts for an objective for real.\n",
        "obj=test_data[test_data[\"label\"]==\"OBJECTIVE\"]\n",
        "obj.reset_index(inplace=True)\n"
      ],
      "metadata": {
        "id": "u929XJ9my7nX"
      },
      "execution_count": null,
      "outputs": []
    },
    {
      "cell_type": "code",
      "source": [
        "idx=random.randint(0,len(obj))\n",
        "samppred=hybridmodel2.predict([obj[\"text\"],obj[\"order\"],obj[\"text\"]])\n"
      ],
      "metadata": {
        "colab": {
          "base_uri": "https://localhost:8080/"
        },
        "id": "TH30Ti420X1N",
        "outputId": "09f64544-ae1f-4c1a-e080-03de6599e60b"
      },
      "execution_count": null,
      "outputs": [
        {
          "output_type": "stream",
          "name": "stdout",
          "text": [
            "73/73 [==============================] - 1s 9ms/step\n"
          ]
        }
      ]
    },
    {
      "cell_type": "code",
      "source": [
        "samppred=[x.argmax() for x in samppred]"
      ],
      "metadata": {
        "id": "i7InjMmq4mnW"
      },
      "execution_count": null,
      "outputs": []
    },
    {
      "cell_type": "code",
      "source": [
        "samppred=le.inverse_transform(samppred)"
      ],
      "metadata": {
        "id": "1Lmo6M4Q3_UQ"
      },
      "execution_count": null,
      "outputs": []
    },
    {
      "cell_type": "code",
      "source": [
        "comp=pd.DataFrame({\"Predictions\":samppred,\"Real\":obj[\"label\"],\"id\":range(0,len(obj))})\n",
        "comp.head()"
      ],
      "metadata": {
        "colab": {
          "base_uri": "https://localhost:8080/",
          "height": 206
        },
        "id": "zAO6yh8o4wiY",
        "outputId": "ea7afd36-6070-4a65-b726-58cbd68f1bed"
      },
      "execution_count": null,
      "outputs": [
        {
          "output_type": "execute_result",
          "data": {
            "text/plain": [
              "  Predictions       Real  id\n",
              "0  BACKGROUND  OBJECTIVE   0\n",
              "1  BACKGROUND  OBJECTIVE   1\n",
              "2  BACKGROUND  OBJECTIVE   2\n",
              "3   OBJECTIVE  OBJECTIVE   3\n",
              "4   OBJECTIVE  OBJECTIVE   4"
            ],
            "text/html": [
              "\n",
              "  <div id=\"df-604cad62-199d-451a-b053-bd47d000509b\" class=\"colab-df-container\">\n",
              "    <div>\n",
              "<style scoped>\n",
              "    .dataframe tbody tr th:only-of-type {\n",
              "        vertical-align: middle;\n",
              "    }\n",
              "\n",
              "    .dataframe tbody tr th {\n",
              "        vertical-align: top;\n",
              "    }\n",
              "\n",
              "    .dataframe thead th {\n",
              "        text-align: right;\n",
              "    }\n",
              "</style>\n",
              "<table border=\"1\" class=\"dataframe\">\n",
              "  <thead>\n",
              "    <tr style=\"text-align: right;\">\n",
              "      <th></th>\n",
              "      <th>Predictions</th>\n",
              "      <th>Real</th>\n",
              "      <th>id</th>\n",
              "    </tr>\n",
              "  </thead>\n",
              "  <tbody>\n",
              "    <tr>\n",
              "      <th>0</th>\n",
              "      <td>BACKGROUND</td>\n",
              "      <td>OBJECTIVE</td>\n",
              "      <td>0</td>\n",
              "    </tr>\n",
              "    <tr>\n",
              "      <th>1</th>\n",
              "      <td>BACKGROUND</td>\n",
              "      <td>OBJECTIVE</td>\n",
              "      <td>1</td>\n",
              "    </tr>\n",
              "    <tr>\n",
              "      <th>2</th>\n",
              "      <td>BACKGROUND</td>\n",
              "      <td>OBJECTIVE</td>\n",
              "      <td>2</td>\n",
              "    </tr>\n",
              "    <tr>\n",
              "      <th>3</th>\n",
              "      <td>OBJECTIVE</td>\n",
              "      <td>OBJECTIVE</td>\n",
              "      <td>3</td>\n",
              "    </tr>\n",
              "    <tr>\n",
              "      <th>4</th>\n",
              "      <td>OBJECTIVE</td>\n",
              "      <td>OBJECTIVE</td>\n",
              "      <td>4</td>\n",
              "    </tr>\n",
              "  </tbody>\n",
              "</table>\n",
              "</div>\n",
              "    <div class=\"colab-df-buttons\">\n",
              "\n",
              "  <div class=\"colab-df-container\">\n",
              "    <button class=\"colab-df-convert\" onclick=\"convertToInteractive('df-604cad62-199d-451a-b053-bd47d000509b')\"\n",
              "            title=\"Convert this dataframe to an interactive table.\"\n",
              "            style=\"display:none;\">\n",
              "\n",
              "  <svg xmlns=\"http://www.w3.org/2000/svg\" height=\"24px\" viewBox=\"0 -960 960 960\">\n",
              "    <path d=\"M120-120v-720h720v720H120Zm60-500h600v-160H180v160Zm220 220h160v-160H400v160Zm0 220h160v-160H400v160ZM180-400h160v-160H180v160Zm440 0h160v-160H620v160ZM180-180h160v-160H180v160Zm440 0h160v-160H620v160Z\"/>\n",
              "  </svg>\n",
              "    </button>\n",
              "\n",
              "  <style>\n",
              "    .colab-df-container {\n",
              "      display:flex;\n",
              "      gap: 12px;\n",
              "    }\n",
              "\n",
              "    .colab-df-convert {\n",
              "      background-color: #E8F0FE;\n",
              "      border: none;\n",
              "      border-radius: 50%;\n",
              "      cursor: pointer;\n",
              "      display: none;\n",
              "      fill: #1967D2;\n",
              "      height: 32px;\n",
              "      padding: 0 0 0 0;\n",
              "      width: 32px;\n",
              "    }\n",
              "\n",
              "    .colab-df-convert:hover {\n",
              "      background-color: #E2EBFA;\n",
              "      box-shadow: 0px 1px 2px rgba(60, 64, 67, 0.3), 0px 1px 3px 1px rgba(60, 64, 67, 0.15);\n",
              "      fill: #174EA6;\n",
              "    }\n",
              "\n",
              "    .colab-df-buttons div {\n",
              "      margin-bottom: 4px;\n",
              "    }\n",
              "\n",
              "    [theme=dark] .colab-df-convert {\n",
              "      background-color: #3B4455;\n",
              "      fill: #D2E3FC;\n",
              "    }\n",
              "\n",
              "    [theme=dark] .colab-df-convert:hover {\n",
              "      background-color: #434B5C;\n",
              "      box-shadow: 0px 1px 3px 1px rgba(0, 0, 0, 0.15);\n",
              "      filter: drop-shadow(0px 1px 2px rgba(0, 0, 0, 0.3));\n",
              "      fill: #FFFFFF;\n",
              "    }\n",
              "  </style>\n",
              "\n",
              "    <script>\n",
              "      const buttonEl =\n",
              "        document.querySelector('#df-604cad62-199d-451a-b053-bd47d000509b button.colab-df-convert');\n",
              "      buttonEl.style.display =\n",
              "        google.colab.kernel.accessAllowed ? 'block' : 'none';\n",
              "\n",
              "      async function convertToInteractive(key) {\n",
              "        const element = document.querySelector('#df-604cad62-199d-451a-b053-bd47d000509b');\n",
              "        const dataTable =\n",
              "          await google.colab.kernel.invokeFunction('convertToInteractive',\n",
              "                                                    [key], {});\n",
              "        if (!dataTable) return;\n",
              "\n",
              "        const docLinkHtml = 'Like what you see? Visit the ' +\n",
              "          '<a target=\"_blank\" href=https://colab.research.google.com/notebooks/data_table.ipynb>data table notebook</a>'\n",
              "          + ' to learn more about interactive tables.';\n",
              "        element.innerHTML = '';\n",
              "        dataTable['output_type'] = 'display_data';\n",
              "        await google.colab.output.renderOutput(dataTable, element);\n",
              "        const docLink = document.createElement('div');\n",
              "        docLink.innerHTML = docLinkHtml;\n",
              "        element.appendChild(docLink);\n",
              "      }\n",
              "    </script>\n",
              "  </div>\n",
              "\n",
              "\n",
              "<div id=\"df-6df3a466-d73e-401d-8b7e-a548c72c624d\">\n",
              "  <button class=\"colab-df-quickchart\" onclick=\"quickchart('df-6df3a466-d73e-401d-8b7e-a548c72c624d')\"\n",
              "            title=\"Suggest charts.\"\n",
              "            style=\"display:none;\">\n",
              "\n",
              "<svg xmlns=\"http://www.w3.org/2000/svg\" height=\"24px\"viewBox=\"0 0 24 24\"\n",
              "     width=\"24px\">\n",
              "    <g>\n",
              "        <path d=\"M19 3H5c-1.1 0-2 .9-2 2v14c0 1.1.9 2 2 2h14c1.1 0 2-.9 2-2V5c0-1.1-.9-2-2-2zM9 17H7v-7h2v7zm4 0h-2V7h2v10zm4 0h-2v-4h2v4z\"/>\n",
              "    </g>\n",
              "</svg>\n",
              "  </button>\n",
              "\n",
              "<style>\n",
              "  .colab-df-quickchart {\n",
              "      --bg-color: #E8F0FE;\n",
              "      --fill-color: #1967D2;\n",
              "      --hover-bg-color: #E2EBFA;\n",
              "      --hover-fill-color: #174EA6;\n",
              "      --disabled-fill-color: #AAA;\n",
              "      --disabled-bg-color: #DDD;\n",
              "  }\n",
              "\n",
              "  [theme=dark] .colab-df-quickchart {\n",
              "      --bg-color: #3B4455;\n",
              "      --fill-color: #D2E3FC;\n",
              "      --hover-bg-color: #434B5C;\n",
              "      --hover-fill-color: #FFFFFF;\n",
              "      --disabled-bg-color: #3B4455;\n",
              "      --disabled-fill-color: #666;\n",
              "  }\n",
              "\n",
              "  .colab-df-quickchart {\n",
              "    background-color: var(--bg-color);\n",
              "    border: none;\n",
              "    border-radius: 50%;\n",
              "    cursor: pointer;\n",
              "    display: none;\n",
              "    fill: var(--fill-color);\n",
              "    height: 32px;\n",
              "    padding: 0;\n",
              "    width: 32px;\n",
              "  }\n",
              "\n",
              "  .colab-df-quickchart:hover {\n",
              "    background-color: var(--hover-bg-color);\n",
              "    box-shadow: 0 1px 2px rgba(60, 64, 67, 0.3), 0 1px 3px 1px rgba(60, 64, 67, 0.15);\n",
              "    fill: var(--button-hover-fill-color);\n",
              "  }\n",
              "\n",
              "  .colab-df-quickchart-complete:disabled,\n",
              "  .colab-df-quickchart-complete:disabled:hover {\n",
              "    background-color: var(--disabled-bg-color);\n",
              "    fill: var(--disabled-fill-color);\n",
              "    box-shadow: none;\n",
              "  }\n",
              "\n",
              "  .colab-df-spinner {\n",
              "    border: 2px solid var(--fill-color);\n",
              "    border-color: transparent;\n",
              "    border-bottom-color: var(--fill-color);\n",
              "    animation:\n",
              "      spin 1s steps(1) infinite;\n",
              "  }\n",
              "\n",
              "  @keyframes spin {\n",
              "    0% {\n",
              "      border-color: transparent;\n",
              "      border-bottom-color: var(--fill-color);\n",
              "      border-left-color: var(--fill-color);\n",
              "    }\n",
              "    20% {\n",
              "      border-color: transparent;\n",
              "      border-left-color: var(--fill-color);\n",
              "      border-top-color: var(--fill-color);\n",
              "    }\n",
              "    30% {\n",
              "      border-color: transparent;\n",
              "      border-left-color: var(--fill-color);\n",
              "      border-top-color: var(--fill-color);\n",
              "      border-right-color: var(--fill-color);\n",
              "    }\n",
              "    40% {\n",
              "      border-color: transparent;\n",
              "      border-right-color: var(--fill-color);\n",
              "      border-top-color: var(--fill-color);\n",
              "    }\n",
              "    60% {\n",
              "      border-color: transparent;\n",
              "      border-right-color: var(--fill-color);\n",
              "    }\n",
              "    80% {\n",
              "      border-color: transparent;\n",
              "      border-right-color: var(--fill-color);\n",
              "      border-bottom-color: var(--fill-color);\n",
              "    }\n",
              "    90% {\n",
              "      border-color: transparent;\n",
              "      border-bottom-color: var(--fill-color);\n",
              "    }\n",
              "  }\n",
              "</style>\n",
              "\n",
              "  <script>\n",
              "    async function quickchart(key) {\n",
              "      const quickchartButtonEl =\n",
              "        document.querySelector('#' + key + ' button');\n",
              "      quickchartButtonEl.disabled = true;  // To prevent multiple clicks.\n",
              "      quickchartButtonEl.classList.add('colab-df-spinner');\n",
              "      try {\n",
              "        const charts = await google.colab.kernel.invokeFunction(\n",
              "            'suggestCharts', [key], {});\n",
              "      } catch (error) {\n",
              "        console.error('Error during call to suggestCharts:', error);\n",
              "      }\n",
              "      quickchartButtonEl.classList.remove('colab-df-spinner');\n",
              "      quickchartButtonEl.classList.add('colab-df-quickchart-complete');\n",
              "    }\n",
              "    (() => {\n",
              "      let quickchartButtonEl =\n",
              "        document.querySelector('#df-6df3a466-d73e-401d-8b7e-a548c72c624d button');\n",
              "      quickchartButtonEl.style.display =\n",
              "        google.colab.kernel.accessAllowed ? 'block' : 'none';\n",
              "    })();\n",
              "  </script>\n",
              "</div>\n",
              "    </div>\n",
              "  </div>\n"
            ]
          },
          "metadata": {},
          "execution_count": 419
        }
      ]
    },
    {
      "cell_type": "code",
      "source": [
        "comp.groupby(\"Predictions\").agg({\"Predictions\":\"count\"})"
      ],
      "metadata": {
        "colab": {
          "base_uri": "https://localhost:8080/",
          "height": 238
        },
        "id": "uw2HSJkN5JEv",
        "outputId": "5c7d52df-1b8b-423f-b3db-4c5055557823"
      },
      "execution_count": null,
      "outputs": [
        {
          "output_type": "execute_result",
          "data": {
            "text/plain": [
              "             Predictions\n",
              "Predictions             \n",
              "BACKGROUND          1073\n",
              "CONCLUSIONS            2\n",
              "METHODS              146\n",
              "OBJECTIVE           1106\n",
              "RESULTS                6"
            ],
            "text/html": [
              "\n",
              "  <div id=\"df-5cf88c1a-9b42-4746-80d9-c1828f9abfae\" class=\"colab-df-container\">\n",
              "    <div>\n",
              "<style scoped>\n",
              "    .dataframe tbody tr th:only-of-type {\n",
              "        vertical-align: middle;\n",
              "    }\n",
              "\n",
              "    .dataframe tbody tr th {\n",
              "        vertical-align: top;\n",
              "    }\n",
              "\n",
              "    .dataframe thead th {\n",
              "        text-align: right;\n",
              "    }\n",
              "</style>\n",
              "<table border=\"1\" class=\"dataframe\">\n",
              "  <thead>\n",
              "    <tr style=\"text-align: right;\">\n",
              "      <th></th>\n",
              "      <th>Predictions</th>\n",
              "    </tr>\n",
              "    <tr>\n",
              "      <th>Predictions</th>\n",
              "      <th></th>\n",
              "    </tr>\n",
              "  </thead>\n",
              "  <tbody>\n",
              "    <tr>\n",
              "      <th>BACKGROUND</th>\n",
              "      <td>1073</td>\n",
              "    </tr>\n",
              "    <tr>\n",
              "      <th>CONCLUSIONS</th>\n",
              "      <td>2</td>\n",
              "    </tr>\n",
              "    <tr>\n",
              "      <th>METHODS</th>\n",
              "      <td>146</td>\n",
              "    </tr>\n",
              "    <tr>\n",
              "      <th>OBJECTIVE</th>\n",
              "      <td>1106</td>\n",
              "    </tr>\n",
              "    <tr>\n",
              "      <th>RESULTS</th>\n",
              "      <td>6</td>\n",
              "    </tr>\n",
              "  </tbody>\n",
              "</table>\n",
              "</div>\n",
              "    <div class=\"colab-df-buttons\">\n",
              "\n",
              "  <div class=\"colab-df-container\">\n",
              "    <button class=\"colab-df-convert\" onclick=\"convertToInteractive('df-5cf88c1a-9b42-4746-80d9-c1828f9abfae')\"\n",
              "            title=\"Convert this dataframe to an interactive table.\"\n",
              "            style=\"display:none;\">\n",
              "\n",
              "  <svg xmlns=\"http://www.w3.org/2000/svg\" height=\"24px\" viewBox=\"0 -960 960 960\">\n",
              "    <path d=\"M120-120v-720h720v720H120Zm60-500h600v-160H180v160Zm220 220h160v-160H400v160Zm0 220h160v-160H400v160ZM180-400h160v-160H180v160Zm440 0h160v-160H620v160ZM180-180h160v-160H180v160Zm440 0h160v-160H620v160Z\"/>\n",
              "  </svg>\n",
              "    </button>\n",
              "\n",
              "  <style>\n",
              "    .colab-df-container {\n",
              "      display:flex;\n",
              "      gap: 12px;\n",
              "    }\n",
              "\n",
              "    .colab-df-convert {\n",
              "      background-color: #E8F0FE;\n",
              "      border: none;\n",
              "      border-radius: 50%;\n",
              "      cursor: pointer;\n",
              "      display: none;\n",
              "      fill: #1967D2;\n",
              "      height: 32px;\n",
              "      padding: 0 0 0 0;\n",
              "      width: 32px;\n",
              "    }\n",
              "\n",
              "    .colab-df-convert:hover {\n",
              "      background-color: #E2EBFA;\n",
              "      box-shadow: 0px 1px 2px rgba(60, 64, 67, 0.3), 0px 1px 3px 1px rgba(60, 64, 67, 0.15);\n",
              "      fill: #174EA6;\n",
              "    }\n",
              "\n",
              "    .colab-df-buttons div {\n",
              "      margin-bottom: 4px;\n",
              "    }\n",
              "\n",
              "    [theme=dark] .colab-df-convert {\n",
              "      background-color: #3B4455;\n",
              "      fill: #D2E3FC;\n",
              "    }\n",
              "\n",
              "    [theme=dark] .colab-df-convert:hover {\n",
              "      background-color: #434B5C;\n",
              "      box-shadow: 0px 1px 3px 1px rgba(0, 0, 0, 0.15);\n",
              "      filter: drop-shadow(0px 1px 2px rgba(0, 0, 0, 0.3));\n",
              "      fill: #FFFFFF;\n",
              "    }\n",
              "  </style>\n",
              "\n",
              "    <script>\n",
              "      const buttonEl =\n",
              "        document.querySelector('#df-5cf88c1a-9b42-4746-80d9-c1828f9abfae button.colab-df-convert');\n",
              "      buttonEl.style.display =\n",
              "        google.colab.kernel.accessAllowed ? 'block' : 'none';\n",
              "\n",
              "      async function convertToInteractive(key) {\n",
              "        const element = document.querySelector('#df-5cf88c1a-9b42-4746-80d9-c1828f9abfae');\n",
              "        const dataTable =\n",
              "          await google.colab.kernel.invokeFunction('convertToInteractive',\n",
              "                                                    [key], {});\n",
              "        if (!dataTable) return;\n",
              "\n",
              "        const docLinkHtml = 'Like what you see? Visit the ' +\n",
              "          '<a target=\"_blank\" href=https://colab.research.google.com/notebooks/data_table.ipynb>data table notebook</a>'\n",
              "          + ' to learn more about interactive tables.';\n",
              "        element.innerHTML = '';\n",
              "        dataTable['output_type'] = 'display_data';\n",
              "        await google.colab.output.renderOutput(dataTable, element);\n",
              "        const docLink = document.createElement('div');\n",
              "        docLink.innerHTML = docLinkHtml;\n",
              "        element.appendChild(docLink);\n",
              "      }\n",
              "    </script>\n",
              "  </div>\n",
              "\n",
              "\n",
              "<div id=\"df-efa63a95-b819-41fd-82b9-bded7002ab9e\">\n",
              "  <button class=\"colab-df-quickchart\" onclick=\"quickchart('df-efa63a95-b819-41fd-82b9-bded7002ab9e')\"\n",
              "            title=\"Suggest charts.\"\n",
              "            style=\"display:none;\">\n",
              "\n",
              "<svg xmlns=\"http://www.w3.org/2000/svg\" height=\"24px\"viewBox=\"0 0 24 24\"\n",
              "     width=\"24px\">\n",
              "    <g>\n",
              "        <path d=\"M19 3H5c-1.1 0-2 .9-2 2v14c0 1.1.9 2 2 2h14c1.1 0 2-.9 2-2V5c0-1.1-.9-2-2-2zM9 17H7v-7h2v7zm4 0h-2V7h2v10zm4 0h-2v-4h2v4z\"/>\n",
              "    </g>\n",
              "</svg>\n",
              "  </button>\n",
              "\n",
              "<style>\n",
              "  .colab-df-quickchart {\n",
              "      --bg-color: #E8F0FE;\n",
              "      --fill-color: #1967D2;\n",
              "      --hover-bg-color: #E2EBFA;\n",
              "      --hover-fill-color: #174EA6;\n",
              "      --disabled-fill-color: #AAA;\n",
              "      --disabled-bg-color: #DDD;\n",
              "  }\n",
              "\n",
              "  [theme=dark] .colab-df-quickchart {\n",
              "      --bg-color: #3B4455;\n",
              "      --fill-color: #D2E3FC;\n",
              "      --hover-bg-color: #434B5C;\n",
              "      --hover-fill-color: #FFFFFF;\n",
              "      --disabled-bg-color: #3B4455;\n",
              "      --disabled-fill-color: #666;\n",
              "  }\n",
              "\n",
              "  .colab-df-quickchart {\n",
              "    background-color: var(--bg-color);\n",
              "    border: none;\n",
              "    border-radius: 50%;\n",
              "    cursor: pointer;\n",
              "    display: none;\n",
              "    fill: var(--fill-color);\n",
              "    height: 32px;\n",
              "    padding: 0;\n",
              "    width: 32px;\n",
              "  }\n",
              "\n",
              "  .colab-df-quickchart:hover {\n",
              "    background-color: var(--hover-bg-color);\n",
              "    box-shadow: 0 1px 2px rgba(60, 64, 67, 0.3), 0 1px 3px 1px rgba(60, 64, 67, 0.15);\n",
              "    fill: var(--button-hover-fill-color);\n",
              "  }\n",
              "\n",
              "  .colab-df-quickchart-complete:disabled,\n",
              "  .colab-df-quickchart-complete:disabled:hover {\n",
              "    background-color: var(--disabled-bg-color);\n",
              "    fill: var(--disabled-fill-color);\n",
              "    box-shadow: none;\n",
              "  }\n",
              "\n",
              "  .colab-df-spinner {\n",
              "    border: 2px solid var(--fill-color);\n",
              "    border-color: transparent;\n",
              "    border-bottom-color: var(--fill-color);\n",
              "    animation:\n",
              "      spin 1s steps(1) infinite;\n",
              "  }\n",
              "\n",
              "  @keyframes spin {\n",
              "    0% {\n",
              "      border-color: transparent;\n",
              "      border-bottom-color: var(--fill-color);\n",
              "      border-left-color: var(--fill-color);\n",
              "    }\n",
              "    20% {\n",
              "      border-color: transparent;\n",
              "      border-left-color: var(--fill-color);\n",
              "      border-top-color: var(--fill-color);\n",
              "    }\n",
              "    30% {\n",
              "      border-color: transparent;\n",
              "      border-left-color: var(--fill-color);\n",
              "      border-top-color: var(--fill-color);\n",
              "      border-right-color: var(--fill-color);\n",
              "    }\n",
              "    40% {\n",
              "      border-color: transparent;\n",
              "      border-right-color: var(--fill-color);\n",
              "      border-top-color: var(--fill-color);\n",
              "    }\n",
              "    60% {\n",
              "      border-color: transparent;\n",
              "      border-right-color: var(--fill-color);\n",
              "    }\n",
              "    80% {\n",
              "      border-color: transparent;\n",
              "      border-right-color: var(--fill-color);\n",
              "      border-bottom-color: var(--fill-color);\n",
              "    }\n",
              "    90% {\n",
              "      border-color: transparent;\n",
              "      border-bottom-color: var(--fill-color);\n",
              "    }\n",
              "  }\n",
              "</style>\n",
              "\n",
              "  <script>\n",
              "    async function quickchart(key) {\n",
              "      const quickchartButtonEl =\n",
              "        document.querySelector('#' + key + ' button');\n",
              "      quickchartButtonEl.disabled = true;  // To prevent multiple clicks.\n",
              "      quickchartButtonEl.classList.add('colab-df-spinner');\n",
              "      try {\n",
              "        const charts = await google.colab.kernel.invokeFunction(\n",
              "            'suggestCharts', [key], {});\n",
              "      } catch (error) {\n",
              "        console.error('Error during call to suggestCharts:', error);\n",
              "      }\n",
              "      quickchartButtonEl.classList.remove('colab-df-spinner');\n",
              "      quickchartButtonEl.classList.add('colab-df-quickchart-complete');\n",
              "    }\n",
              "    (() => {\n",
              "      let quickchartButtonEl =\n",
              "        document.querySelector('#df-efa63a95-b819-41fd-82b9-bded7002ab9e button');\n",
              "      quickchartButtonEl.style.display =\n",
              "        google.colab.kernel.accessAllowed ? 'block' : 'none';\n",
              "    })();\n",
              "  </script>\n",
              "</div>\n",
              "    </div>\n",
              "  </div>\n"
            ]
          },
          "metadata": {},
          "execution_count": 421
        }
      ]
    },
    {
      "cell_type": "code",
      "source": [
        "#Model has bias to say background instead of objective"
      ],
      "metadata": {
        "id": "T5z6sevA5RRQ"
      },
      "execution_count": null,
      "outputs": []
    },
    {
      "cell_type": "code",
      "source": [
        "#Lets compare objective and background sentences\n",
        "idx=random.randint(0,len(obj))\n",
        "print(test_data.loc[(test_data[\"id\"]==obj.iloc[idx][\"id\"]) & (test_data[\"label\"]==\"OBJECTIVE\")].iloc[0][\"text\"])\n",
        "print(test_data.loc[(test_data[\"id\"]==obj.iloc[idx][\"id\"]) & (test_data[\"label\"]==\"BACKGROUND\")].iloc[0][\"text\"])"
      ],
      "metadata": {
        "colab": {
          "base_uri": "https://localhost:8080/"
        },
        "id": "hsGdc0S95h8W",
        "outputId": "55b18f0b-19d4-4bad-e2d4-ad4ba411006e"
      },
      "execution_count": null,
      "outputs": [
        {
          "output_type": "stream",
          "name": "stdout",
          "text": [
            "In a pilot study , we evaluated whether the peroxisome proliferator-activated receptor-gamma ( PPAR - ) agonist pioglitazone or combined endurance and resistance exercise training improves basal myocardial insulin sensitivity and diastolic function in HIV + adults with peripheral metabolic complications .\n",
            "Individuals with HIV infection and peripheral metabolic complications have impaired basal myocardial insulin sensitivity that is related to left ventricular ( LV ) diastolic dysfunction .\n"
          ]
        }
      ]
    },
    {
      "cell_type": "markdown",
      "source": [
        "\n",
        "\n",
        "Most probably, the reason for bias is having objective and background similar context because the background is a previous step of defining the objective, therefore both sentences could include similar words such as disease name, etc."
      ],
      "metadata": {
        "id": "9BMsTSQQ7Tnp"
      }
    },
    {
      "cell_type": "markdown",
      "source": [
        "# Training the best model with whole data set"
      ],
      "metadata": {
        "id": "-xl97f_E-b1c"
      }
    },
    {
      "cell_type": "code",
      "source": [
        "!unzip /content/pubmed-rct/PubMed_200k_RCT_numbers_replaced_with_at_sign/train.zip"
      ],
      "metadata": {
        "colab": {
          "base_uri": "https://localhost:8080/"
        },
        "id": "D-lUcaBM-gXT",
        "outputId": "d13ae3b4-a9f6-40fc-e121-bbfcc91367c7"
      },
      "execution_count": null,
      "outputs": [
        {
          "output_type": "stream",
          "name": "stdout",
          "text": [
            "Archive:  /content/pubmed-rct/PubMed_200k_RCT_numbers_replaced_with_at_sign/train.zip\n",
            "  inflating: train.txt               \n"
          ]
        }
      ]
    },
    {
      "cell_type": "code",
      "source": [
        "trainall=preparedata(\"/content/pubmed-rct/PubMed_200k_RCT_numbers_replaced_with_at_sign/train.txt\")\n",
        "testall=preparedata(\"/content/pubmed-rct/PubMed_200k_RCT_numbers_replaced_with_at_sign/test.txt\")"
      ],
      "metadata": {
        "id": "eGCqdN_Q-mDd"
      },
      "execution_count": null,
      "outputs": []
    },
    {
      "cell_type": "code",
      "source": [
        "X_a_tr=trainall[[\"text\",\"order\"]]\n",
        "y_a_tr=trainall[\"label\"]"
      ],
      "metadata": {
        "id": "khoS-LTV-wnd"
      },
      "execution_count": null,
      "outputs": []
    },
    {
      "cell_type": "code",
      "source": [
        "y_a_tr=le.transform(y_a_tr)"
      ],
      "metadata": {
        "id": "8jTWZDav-8BB"
      },
      "execution_count": null,
      "outputs": []
    },
    {
      "cell_type": "code",
      "source": [
        "y_a_tr=tf.keras.utils.to_categorical(y_a_tr,num_classes=5)"
      ],
      "metadata": {
        "id": "34B2Rwzg_Eoh"
      },
      "execution_count": null,
      "outputs": []
    },
    {
      "cell_type": "code",
      "source": [
        "X_a_train,X_a_val,y_a_train,y_a_val=train_test_split(X_a_tr,y_a_tr,test_size=0.1,random_state=42)"
      ],
      "metadata": {
        "id": "xehiJvR3_PS4"
      },
      "execution_count": null,
      "outputs": []
    },
    {
      "cell_type": "code",
      "source": [
        "traina=tf.data.Dataset.from_tensor_slices(((X_a_train[\"text\"],X_a_train[\"order\"],X_a_train[\"text\"]),y_a_train))"
      ],
      "metadata": {
        "id": "O_vHJmCS_h6i"
      },
      "execution_count": null,
      "outputs": []
    },
    {
      "cell_type": "code",
      "source": [
        "vala=tf.data.Dataset.from_tensor_slices(((X_a_val[\"text\"],X_a_val[\"order\"],X_a_val[\"text\"]),y_a_val))"
      ],
      "metadata": {
        "id": "fDJ3_tLw_zoV"
      },
      "execution_count": null,
      "outputs": []
    },
    {
      "cell_type": "code",
      "source": [
        "traina=traina.batch(32).prefetch(tf.data.AUTOTUNE)\n",
        "vala=vala.batch(32).prefetch(tf.data.AUTOTUNE)"
      ],
      "metadata": {
        "id": "7sI2Ruaz_5Fo"
      },
      "execution_count": null,
      "outputs": []
    },
    {
      "cell_type": "code",
      "source": [
        "X_a_test=testall[[\"text\",\"order\"]]"
      ],
      "metadata": {
        "id": "r2u6QIGeCKiU"
      },
      "execution_count": null,
      "outputs": []
    },
    {
      "cell_type": "code",
      "source": [
        "y_a_test=testall[[\"label\"]]"
      ],
      "metadata": {
        "id": "u9LXznSBUuJq"
      },
      "execution_count": null,
      "outputs": []
    },
    {
      "cell_type": "code",
      "source": [
        "y_a_test=le.transform(y_a_test)\n"
      ],
      "metadata": {
        "colab": {
          "base_uri": "https://localhost:8080/"
        },
        "id": "m90aXardT23w",
        "outputId": "3ec793c6-2b9e-4725-a841-a20b9c17ac87"
      },
      "execution_count": null,
      "outputs": [
        {
          "output_type": "stream",
          "name": "stderr",
          "text": [
            "/usr/local/lib/python3.10/dist-packages/sklearn/preprocessing/_label.py:134: DataConversionWarning: A column-vector y was passed when a 1d array was expected. Please change the shape of y to (n_samples, ), for example using ravel().\n",
            "  y = column_or_1d(y, dtype=self.classes_.dtype, warn=True)\n"
          ]
        }
      ]
    },
    {
      "cell_type": "code",
      "source": [
        "combinedInput3 = tf.keras.layers.Concatenate()([modelword2vec.output,order_model.output,sentence_model.output])\n",
        "x=tf.keras.layers.Dense(8,activation=\"relu\")(combinedInput3)\n",
        "x=tf.keras.layers.Dropout(0.2)(x)\n",
        "output_test=tf.keras.layers.Dense(5,activation=\"softmax\")(x)\n",
        "hybridmodeltest=tf.keras.Model(inputs=[modelword2vec.input,order_model.input,sentence_model.input],outputs=output_test,name=\"HybridModelTest\")"
      ],
      "metadata": {
        "id": "Cu0QM-khAJH7"
      },
      "execution_count": null,
      "outputs": []
    },
    {
      "cell_type": "code",
      "source": [
        "hybridmodeltest.compile(loss=tf.keras.losses.categorical_crossentropy,optimizer=tf.keras.optimizers.Adam(),metrics=[\"accuracy\"])"
      ],
      "metadata": {
        "id": "4fdyzNhaAk3R"
      },
      "execution_count": null,
      "outputs": []
    },
    {
      "cell_type": "code",
      "source": [
        "hybridmodeltest.summary()"
      ],
      "metadata": {
        "colab": {
          "base_uri": "https://localhost:8080/"
        },
        "id": "0ujFIsfDDwh2",
        "outputId": "0a7c4e78-03a6-4c6e-cc08-460cc375427f"
      },
      "execution_count": null,
      "outputs": [
        {
          "output_type": "stream",
          "name": "stdout",
          "text": [
            "Model: \"HybridModelTest\"\n",
            "__________________________________________________________________________________________________\n",
            " Layer (type)                Output Shape                 Param #   Connected to                  \n",
            "==================================================================================================\n",
            " input layer (InputLayer)    [(None,)]                    0         []                            \n",
            "                                                                                                  \n",
            " text_vectorization_2 (Text  (None, 55)                   0         ['input layer[0][0]']         \n",
            " Vectorization)                                                                                   \n",
            "                                                                                                  \n",
            " w2v_embedding (Embedding)   (None, 55, 128)              8925824   ['text_vectorization_2[3][0]']\n",
            "                                                                                                  \n",
            " input_2 (InputLayer)        [(None,)]                    0         []                            \n",
            "                                                                                                  \n",
            " dense_19 (Dense)            (None, 55, 256)              33024     ['w2v_embedding[0][0]']       \n",
            "                                                                                                  \n",
            " input_3 (InputLayer)        [(None, 1)]                  0         []                            \n",
            "                                                                                                  \n",
            " keras_layer (KerasLayer)    (None, 512)                  2567978   ['input_2[0][0]']             \n",
            "                                                          24                                      \n",
            "                                                                                                  \n",
            " global_average_pooling1d_3  (None, 256)                  0         ['dense_19[0][0]']            \n",
            "  (GlobalAveragePooling1D)                                                                        \n",
            "                                                                                                  \n",
            " dense_2 (Dense)             (None, 32)                   64        ['input_3[0][0]']             \n",
            "                                                                                                  \n",
            " dense_1 (Dense)             (None, 32)                   16416     ['keras_layer[0][0]']         \n",
            "                                                                                                  \n",
            " output (Dense)              (None, 5)                    1285      ['global_average_pooling1d_3[0\n",
            "                                                                    ][0]']                        \n",
            "                                                                                                  \n",
            " dense_3 (Dense)             (None, 16)                   528       ['dense_2[0][0]']             \n",
            "                                                                                                  \n",
            " dropout_1 (Dropout)         (None, 32)                   0         ['dense_1[0][0]']             \n",
            "                                                                                                  \n",
            " concatenate (Concatenate)   (None, 53)                   0         ['output[0][0]',              \n",
            "                                                                     'dense_3[0][0]',             \n",
            "                                                                     'dropout_1[0][0]']           \n",
            "                                                                                                  \n",
            " dense_20 (Dense)            (None, 8)                    432       ['concatenate[0][0]']         \n",
            "                                                                                                  \n",
            " dropout_25 (Dropout)        (None, 8)                    0         ['dense_20[0][0]']            \n",
            "                                                                                                  \n",
            " dense_21 (Dense)            (None, 5)                    45        ['dropout_25[0][0]']          \n",
            "                                                                                                  \n",
            "==================================================================================================\n",
            "Total params: 265775442 (1013.85 MB)\n",
            "Trainable params: 8977618 (34.25 MB)\n",
            "Non-trainable params: 256797824 (979.61 MB)\n",
            "__________________________________________________________________________________________________\n"
          ]
        }
      ]
    },
    {
      "cell_type": "code",
      "source": [
        "hybridmodeltest.fit(traina,epochs=50,validation_data=vala,callbacks=[es])"
      ],
      "metadata": {
        "colab": {
          "base_uri": "https://localhost:8080/"
        },
        "id": "0FR35J3WAbbv",
        "outputId": "a8b1ad33-90ac-4540-ea1c-6c587334ddad"
      },
      "execution_count": null,
      "outputs": [
        {
          "output_type": "stream",
          "name": "stdout",
          "text": [
            "Epoch 1/50\n",
            "62209/62209 [==============================] - 856s 14ms/step - loss: 0.4755 - accuracy: 0.8231 - val_loss: 0.3549 - val_accuracy: 0.8695\n",
            "Epoch 2/50\n",
            "62209/62209 [==============================] - 827s 13ms/step - loss: 0.4259 - accuracy: 0.8464 - val_loss: 0.3536 - val_accuracy: 0.8698\n",
            "Epoch 3/50\n",
            "62209/62209 [==============================] - 814s 13ms/step - loss: 0.4128 - accuracy: 0.8520 - val_loss: 0.3608 - val_accuracy: 0.8686\n",
            "Epoch 4/50\n",
            "62209/62209 [==============================] - 808s 13ms/step - loss: 0.3979 - accuracy: 0.8594 - val_loss: 0.3703 - val_accuracy: 0.8667\n",
            "Epoch 5/50\n",
            "62209/62209 [==============================] - 800s 13ms/step - loss: 0.3840 - accuracy: 0.8669 - val_loss: 0.3810 - val_accuracy: 0.8613\n"
          ]
        },
        {
          "output_type": "execute_result",
          "data": {
            "text/plain": [
              "<keras.src.callbacks.History at 0x78377f6b0ee0>"
            ]
          },
          "metadata": {},
          "execution_count": 487
        }
      ]
    },
    {
      "cell_type": "code",
      "source": [
        "testpred=hybridmodeltest.predict([X_a_test[\"text\"],X_a_test[\"order\"],X_a_test[\"text\"]])"
      ],
      "metadata": {
        "colab": {
          "base_uri": "https://localhost:8080/"
        },
        "id": "ukafPwqfTfmt",
        "outputId": "720577bd-9dbb-4195-f6b6-99b5d8cb1f0c"
      },
      "execution_count": null,
      "outputs": [
        {
          "output_type": "stream",
          "name": "stdout",
          "text": [
            "922/922 [==============================] - 8s 8ms/step\n"
          ]
        }
      ]
    },
    {
      "cell_type": "code",
      "source": [
        "testpred=[x.argmax() for x in testpred]"
      ],
      "metadata": {
        "id": "cQ_8Btk7Ul6P"
      },
      "execution_count": null,
      "outputs": []
    },
    {
      "cell_type": "code",
      "source": [
        "ehybridtest={\"accuracy\":accuracy_score(y_a_test,testpred),\"f1_score\":f1_score(y_a_test,testpred,average=\"micro\"),\"recall\":recall_score(y_a_test,testpred,average=\"micro\")}"
      ],
      "metadata": {
        "id": "Qfb9bRs7Uqgp"
      },
      "execution_count": null,
      "outputs": []
    },
    {
      "cell_type": "code",
      "source": [
        "ehybridtest"
      ],
      "metadata": {
        "colab": {
          "base_uri": "https://localhost:8080/"
        },
        "id": "OA6e-q1sVoDU",
        "outputId": "1dfdd4d0-f496-4244-cdbf-34afbec3ab81"
      },
      "execution_count": null,
      "outputs": [
        {
          "output_type": "execute_result",
          "data": {
            "text/plain": [
              "{'accuracy': 0.8629505306343879,\n",
              " 'f1_score': 0.8629505306343879,\n",
              " 'recall': 0.8629505306343879}"
            ]
          },
          "metadata": {},
          "execution_count": 508
        }
      ]
    },
    {
      "cell_type": "code",
      "source": [
        "dfhybridtest=pd.DataFrame(ehybridtest,index=[\"Hybrid Model  trained by 200k data\"])"
      ],
      "metadata": {
        "id": "CekC9IuaVefr"
      },
      "execution_count": null,
      "outputs": []
    },
    {
      "cell_type": "code",
      "source": [
        "dfhybridtest.plot(kind=\"bar\",title=\"Metrics of Our Test Model\")"
      ],
      "metadata": {
        "colab": {
          "base_uri": "https://localhost:8080/",
          "height": 702
        },
        "id": "oRraTsskVwrZ",
        "outputId": "1af0f5e5-6454-4d20-8456-86800d3d1ad2"
      },
      "execution_count": null,
      "outputs": [
        {
          "output_type": "execute_result",
          "data": {
            "text/plain": [
              "<Axes: title={'center': 'Metrics of Our Test Model'}>"
            ]
          },
          "metadata": {},
          "execution_count": 517
        },
        {
          "output_type": "display_data",
          "data": {
            "text/plain": [
              "<Figure size 640x480 with 1 Axes>"
            ],
            "image/png": "[encoded data removed]"
          },
          "metadata": {}
        }
      ]
    },
    {
      "cell_type": "code",
      "source": [
        "crtest=classification_report(y_a_test,testpred,output_dict=True,target_names=list(le.classes_))"
      ],
      "metadata": {
        "id": "rE9D7FqMWJ7y"
      },
      "execution_count": null,
      "outputs": []
    },
    {
      "cell_type": "code",
      "source": [
        "crtestdf=pd.DataFrame(crtest).T\n",
        "crtestdf # Our f1 and precision score of model are increased yeey. Also our general accuracy is increased also"
      ],
      "metadata": {
        "colab": {
          "base_uri": "https://localhost:8080/",
          "height": 300
        },
        "id": "6SrSWSI-WYZg",
        "outputId": "2b40325e-284b-44c2-8c40-6fcb5a46def5"
      },
      "execution_count": null,
      "outputs": [
        {
          "output_type": "execute_result",
          "data": {
            "text/plain": [
              "              precision    recall  f1-score       support\n",
              "BACKGROUND     0.691118  0.788960  0.736805   2663.000000\n",
              "CONCLUSIONS    0.845177  0.886805  0.865491   4426.000000\n",
              "METHODS        0.887097  0.936314  0.911041   9751.000000\n",
              "OBJECTIVE      0.779707  0.604544  0.681043   2377.000000\n",
              "RESULTS        0.915650  0.862009  0.888020  10276.000000\n",
              "accuracy       0.862951  0.862951  0.862951      0.862951\n",
              "macro avg      0.823750  0.815726  0.816480  29493.000000\n",
              "weighted avg   0.864404  0.862951  0.861915  29493.000000"
            ],
            "text/html": [
              "\n",
              "  <div id=\"df-f409d982-9faa-4414-97b0-ef2f227a1a7a\" class=\"colab-df-container\">\n",
              "    <div>\n",
              "<style scoped>\n",
              "    .dataframe tbody tr th:only-of-type {\n",
              "        vertical-align: middle;\n",
              "    }\n",
              "\n",
              "    .dataframe tbody tr th {\n",
              "        vertical-align: top;\n",
              "    }\n",
              "\n",
              "    .dataframe thead th {\n",
              "        text-align: right;\n",
              "    }\n",
              "</style>\n",
              "<table border=\"1\" class=\"dataframe\">\n",
              "  <thead>\n",
              "    <tr style=\"text-align: right;\">\n",
              "      <th></th>\n",
              "      <th>precision</th>\n",
              "      <th>recall</th>\n",
              "      <th>f1-score</th>\n",
              "      <th>support</th>\n",
              "    </tr>\n",
              "  </thead>\n",
              "  <tbody>\n",
              "    <tr>\n",
              "      <th>BACKGROUND</th>\n",
              "      <td>0.691118</td>\n",
              "      <td>0.788960</td>\n",
              "      <td>0.736805</td>\n",
              "      <td>2663.000000</td>\n",
              "    </tr>\n",
              "    <tr>\n",
              "      <th>CONCLUSIONS</th>\n",
              "      <td>0.845177</td>\n",
              "      <td>0.886805</td>\n",
              "      <td>0.865491</td>\n",
              "      <td>4426.000000</td>\n",
              "    </tr>\n",
              "    <tr>\n",
              "      <th>METHODS</th>\n",
              "      <td>0.887097</td>\n",
              "      <td>0.936314</td>\n",
              "      <td>0.911041</td>\n",
              "      <td>9751.000000</td>\n",
              "    </tr>\n",
              "    <tr>\n",
              "      <th>OBJECTIVE</th>\n",
              "      <td>0.779707</td>\n",
              "      <td>0.604544</td>\n",
              "      <td>0.681043</td>\n",
              "      <td>2377.000000</td>\n",
              "    </tr>\n",
              "    <tr>\n",
              "      <th>RESULTS</th>\n",
              "      <td>0.915650</td>\n",
              "      <td>0.862009</td>\n",
              "      <td>0.888020</td>\n",
              "      <td>10276.000000</td>\n",
              "    </tr>\n",
              "    <tr>\n",
              "      <th>accuracy</th>\n",
              "      <td>0.862951</td>\n",
              "      <td>0.862951</td>\n",
              "      <td>0.862951</td>\n",
              "      <td>0.862951</td>\n",
              "    </tr>\n",
              "    <tr>\n",
              "      <th>macro avg</th>\n",
              "      <td>0.823750</td>\n",
              "      <td>0.815726</td>\n",
              "      <td>0.816480</td>\n",
              "      <td>29493.000000</td>\n",
              "    </tr>\n",
              "    <tr>\n",
              "      <th>weighted avg</th>\n",
              "      <td>0.864404</td>\n",
              "      <td>0.862951</td>\n",
              "      <td>0.861915</td>\n",
              "      <td>29493.000000</td>\n",
              "    </tr>\n",
              "  </tbody>\n",
              "</table>\n",
              "</div>\n",
              "    <div class=\"colab-df-buttons\">\n",
              "\n",
              "  <div class=\"colab-df-container\">\n",
              "    <button class=\"colab-df-convert\" onclick=\"convertToInteractive('df-f409d982-9faa-4414-97b0-ef2f227a1a7a')\"\n",
              "            title=\"Convert this dataframe to an interactive table.\"\n",
              "            style=\"display:none;\">\n",
              "\n",
              "  <svg xmlns=\"http://www.w3.org/2000/svg\" height=\"24px\" viewBox=\"0 -960 960 960\">\n",
              "    <path d=\"M120-120v-720h720v720H120Zm60-500h600v-160H180v160Zm220 220h160v-160H400v160Zm0 220h160v-160H400v160ZM180-400h160v-160H180v160Zm440 0h160v-160H620v160ZM180-180h160v-160H180v160Zm440 0h160v-160H620v160Z\"/>\n",
              "  </svg>\n",
              "    </button>\n",
              "\n",
              "  <style>\n",
              "    .colab-df-container {\n",
              "      display:flex;\n",
              "      gap: 12px;\n",
              "    }\n",
              "\n",
              "    .colab-df-convert {\n",
              "      background-color: #E8F0FE;\n",
              "      border: none;\n",
              "      border-radius: 50%;\n",
              "      cursor: pointer;\n",
              "      display: none;\n",
              "      fill: #1967D2;\n",
              "      height: 32px;\n",
              "      padding: 0 0 0 0;\n",
              "      width: 32px;\n",
              "    }\n",
              "\n",
              "    .colab-df-convert:hover {\n",
              "      background-color: #E2EBFA;\n",
              "      box-shadow: 0px 1px 2px rgba(60, 64, 67, 0.3), 0px 1px 3px 1px rgba(60, 64, 67, 0.15);\n",
              "      fill: #174EA6;\n",
              "    }\n",
              "\n",
              "    .colab-df-buttons div {\n",
              "      margin-bottom: 4px;\n",
              "    }\n",
              "\n",
              "    [theme=dark] .colab-df-convert {\n",
              "      background-color: #3B4455;\n",
              "      fill: #D2E3FC;\n",
              "    }\n",
              "\n",
              "    [theme=dark] .colab-df-convert:hover {\n",
              "      background-color: #434B5C;\n",
              "      box-shadow: 0px 1px 3px 1px rgba(0, 0, 0, 0.15);\n",
              "      filter: drop-shadow(0px 1px 2px rgba(0, 0, 0, 0.3));\n",
              "      fill: #FFFFFF;\n",
              "    }\n",
              "  </style>\n",
              "\n",
              "    <script>\n",
              "      const buttonEl =\n",
              "        document.querySelector('#df-f409d982-9faa-4414-97b0-ef2f227a1a7a button.colab-df-convert');\n",
              "      buttonEl.style.display =\n",
              "        google.colab.kernel.accessAllowed ? 'block' : 'none';\n",
              "\n",
              "      async function convertToInteractive(key) {\n",
              "        const element = document.querySelector('#df-f409d982-9faa-4414-97b0-ef2f227a1a7a');\n",
              "        const dataTable =\n",
              "          await google.colab.kernel.invokeFunction('convertToInteractive',\n",
              "                                                    [key], {});\n",
              "        if (!dataTable) return;\n",
              "\n",
              "        const docLinkHtml = 'Like what you see? Visit the ' +\n",
              "          '<a target=\"_blank\" href=https://colab.research.google.com/notebooks/data_table.ipynb>data table notebook</a>'\n",
              "          + ' to learn more about interactive tables.';\n",
              "        element.innerHTML = '';\n",
              "        dataTable['output_type'] = 'display_data';\n",
              "        await google.colab.output.renderOutput(dataTable, element);\n",
              "        const docLink = document.createElement('div');\n",
              "        docLink.innerHTML = docLinkHtml;\n",
              "        element.appendChild(docLink);\n",
              "      }\n",
              "    </script>\n",
              "  </div>\n",
              "\n",
              "\n",
              "<div id=\"df-c10a9bca-15aa-404c-8172-cd474325ee3f\">\n",
              "  <button class=\"colab-df-quickchart\" onclick=\"quickchart('df-c10a9bca-15aa-404c-8172-cd474325ee3f')\"\n",
              "            title=\"Suggest charts.\"\n",
              "            style=\"display:none;\">\n",
              "\n",
              "<svg xmlns=\"http://www.w3.org/2000/svg\" height=\"24px\"viewBox=\"0 0 24 24\"\n",
              "     width=\"24px\">\n",
              "    <g>\n",
              "        <path d=\"M19 3H5c-1.1 0-2 .9-2 2v14c0 1.1.9 2 2 2h14c1.1 0 2-.9 2-2V5c0-1.1-.9-2-2-2zM9 17H7v-7h2v7zm4 0h-2V7h2v10zm4 0h-2v-4h2v4z\"/>\n",
              "    </g>\n",
              "</svg>\n",
              "  </button>\n",
              "\n",
              "<style>\n",
              "  .colab-df-quickchart {\n",
              "      --bg-color: #E8F0FE;\n",
              "      --fill-color: #1967D2;\n",
              "      --hover-bg-color: #E2EBFA;\n",
              "      --hover-fill-color: #174EA6;\n",
              "      --disabled-fill-color: #AAA;\n",
              "      --disabled-bg-color: #DDD;\n",
              "  }\n",
              "\n",
              "  [theme=dark] .colab-df-quickchart {\n",
              "      --bg-color: #3B4455;\n",
              "      --fill-color: #D2E3FC;\n",
              "      --hover-bg-color: #434B5C;\n",
              "      --hover-fill-color: #FFFFFF;\n",
              "      --disabled-bg-color: #3B4455;\n",
              "      --disabled-fill-color: #666;\n",
              "  }\n",
              "\n",
              "  .colab-df-quickchart {\n",
              "    background-color: var(--bg-color);\n",
              "    border: none;\n",
              "    border-radius: 50%;\n",
              "    cursor: pointer;\n",
              "    display: none;\n",
              "    fill: var(--fill-color);\n",
              "    height: 32px;\n",
              "    padding: 0;\n",
              "    width: 32px;\n",
              "  }\n",
              "\n",
              "  .colab-df-quickchart:hover {\n",
              "    background-color: var(--hover-bg-color);\n",
              "    box-shadow: 0 1px 2px rgba(60, 64, 67, 0.3), 0 1px 3px 1px rgba(60, 64, 67, 0.15);\n",
              "    fill: var(--button-hover-fill-color);\n",
              "  }\n",
              "\n",
              "  .colab-df-quickchart-complete:disabled,\n",
              "  .colab-df-quickchart-complete:disabled:hover {\n",
              "    background-color: var(--disabled-bg-color);\n",
              "    fill: var(--disabled-fill-color);\n",
              "    box-shadow: none;\n",
              "  }\n",
              "\n",
              "  .colab-df-spinner {\n",
              "    border: 2px solid var(--fill-color);\n",
              "    border-color: transparent;\n",
              "    border-bottom-color: var(--fill-color);\n",
              "    animation:\n",
              "      spin 1s steps(1) infinite;\n",
              "  }\n",
              "\n",
              "  @keyframes spin {\n",
              "    0% {\n",
              "      border-color: transparent;\n",
              "      border-bottom-color: var(--fill-color);\n",
              "      border-left-color: var(--fill-color);\n",
              "    }\n",
              "    20% {\n",
              "      border-color: transparent;\n",
              "      border-left-color: var(--fill-color);\n",
              "      border-top-color: var(--fill-color);\n",
              "    }\n",
              "    30% {\n",
              "      border-color: transparent;\n",
              "      border-left-color: var(--fill-color);\n",
              "      border-top-color: var(--fill-color);\n",
              "      border-right-color: var(--fill-color);\n",
              "    }\n",
              "    40% {\n",
              "      border-color: transparent;\n",
              "      border-right-color: var(--fill-color);\n",
              "      border-top-color: var(--fill-color);\n",
              "    }\n",
              "    60% {\n",
              "      border-color: transparent;\n",
              "      border-right-color: var(--fill-color);\n",
              "    }\n",
              "    80% {\n",
              "      border-color: transparent;\n",
              "      border-right-color: var(--fill-color);\n",
              "      border-bottom-color: var(--fill-color);\n",
              "    }\n",
              "    90% {\n",
              "      border-color: transparent;\n",
              "      border-bottom-color: var(--fill-color);\n",
              "    }\n",
              "  }\n",
              "</style>\n",
              "\n",
              "  <script>\n",
              "    async function quickchart(key) {\n",
              "      const quickchartButtonEl =\n",
              "        document.querySelector('#' + key + ' button');\n",
              "      quickchartButtonEl.disabled = true;  // To prevent multiple clicks.\n",
              "      quickchartButtonEl.classList.add('colab-df-spinner');\n",
              "      try {\n",
              "        const charts = await google.colab.kernel.invokeFunction(\n",
              "            'suggestCharts', [key], {});\n",
              "      } catch (error) {\n",
              "        console.error('Error during call to suggestCharts:', error);\n",
              "      }\n",
              "      quickchartButtonEl.classList.remove('colab-df-spinner');\n",
              "      quickchartButtonEl.classList.add('colab-df-quickchart-complete');\n",
              "    }\n",
              "    (() => {\n",
              "      let quickchartButtonEl =\n",
              "        document.querySelector('#df-c10a9bca-15aa-404c-8172-cd474325ee3f button');\n",
              "      quickchartButtonEl.style.display =\n",
              "        google.colab.kernel.accessAllowed ? 'block' : 'none';\n",
              "    })();\n",
              "  </script>\n",
              "</div>\n",
              "    </div>\n",
              "  </div>\n"
            ]
          },
          "metadata": {},
          "execution_count": 524
        }
      ]
    },
    {
      "cell_type": "code",
      "source": [
        "ehybrid2[0][\"accuracy\"]"
      ],
      "metadata": {
        "colab": {
          "base_uri": "https://localhost:8080/"
        },
        "id": "rqZmbjNTXBxi",
        "outputId": "d04d88a2-178b-4c30-90c9-fb56da3a051b"
      },
      "execution_count": null,
      "outputs": [
        {
          "output_type": "execute_result",
          "data": {
            "text/plain": [
              "0.8478845196615231"
            ]
          },
          "metadata": {},
          "execution_count": 526
        }
      ]
    },
    {
      "cell_type": "code",
      "source": [
        "print(f\"Old Accuracy: {ehybrid2[0]['accuracy']}\\nNew Accuracy: {ehybridtest['accuracy']}\\nDifference: {ehybridtest['accuracy']-ehybrid2[0]['accuracy']}\")"
      ],
      "metadata": {
        "colab": {
          "base_uri": "https://localhost:8080/"
        },
        "id": "UCzgeaE5WyxC",
        "outputId": "835813ec-07eb-4564-a6c7-b9d5cfdd7432"
      },
      "execution_count": null,
      "outputs": [
        {
          "output_type": "stream",
          "name": "stdout",
          "text": [
            "Old Accuracy: 0.8478845196615231\n",
            "New Accuracy: 0.8629505306343879\n",
            "Difference: 0.015066010972864752\n"
          ]
        }
      ]
    },
    {
      "cell_type": "code",
      "source": [
        "ehybrid2[0]"
      ],
      "metadata": {
        "colab": {
          "base_uri": "https://localhost:8080/"
        },
        "id": "yt9VSRifYz2x",
        "outputId": "b7d2332b-bf0b-4628-a2ae-e536f2a5de3d"
      },
      "execution_count": null,
      "outputs": [
        {
          "output_type": "execute_result",
          "data": {
            "text/plain": [
              "{'accuracy': 0.8478845196615231,\n",
              " 'precision': 0.8478845196615231,\n",
              " 'f1_score': 0.8478845196615231,\n",
              " 'recall': 0.8478845196615231,\n",
              " 'Training Time': 4.200460112094879,\n",
              " 'Loss': [0.6360347270965576, 0.4636002480983734, 0.41300979256629944],\n",
              " 'Val Loss': [0.407386839389801, 0.39030927419662476, 0.4010586440563202]}"
            ]
          },
          "metadata": {},
          "execution_count": 533
        }
      ]
    },
    {
      "cell_type": "markdown",
      "source": [
        "# Conclusion"
      ],
      "metadata": {
        "id": "7_6dNnmEX26T"
      }
    },
    {
      "cell_type": "markdown",
      "source": [
        "We tried to solve this problem by using 8 different deep-learning models. The best 3 models are the 1-D CNN model, a remake of the original model, and our hybrid model which uses Word2Vec for token embedding. If we take into account the accuracy-training time tradeoff, our hybrid model wins the race. We could reach approximately 85% accuracy in 4 minutes with 20k data. After that, we trained the same model with a larger dataset (containing 200k data). This process increased the accuracy and other metrics by 2%."
      ],
      "metadata": {
        "id": "EWDvo1TEX4w0"
      }
    }
  ]
}